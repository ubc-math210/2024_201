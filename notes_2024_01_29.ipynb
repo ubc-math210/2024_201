{
 "cells": [
  {
   "cell_type": "markdown",
   "id": "5dc1f7d3-5fe7-432d-8edf-5ad391c9931b",
   "metadata": {},
   "source": [
    "# MATH 210 Introduction to Mathematical Computing\n",
    "\n",
    "**January 29, 2024**\n",
    "\n",
    "* Constructing recursive sequences\n",
    "* Fixed point theorem"
   ]
  },
  {
   "cell_type": "markdown",
   "id": "4acf30b4-b71c-4178-b377-ccfef20b7d7e",
   "metadata": {},
   "source": [
    "## Constructing Recursive Sequences\n",
    "\n",
    "Write a function called `a_seq` which takes input parameters `a` and `N` and returns the sequence $x_0 = a$, $x_{n+1} = \\sqrt{2 + x_n}$ (up to and including $x_N$) as a Python list.\n",
    "\n",
    "Here are 3 different ways to write the function. Use [pythontutor.com](https://pythontutor.com) to visualize each function and see how they are different."
   ]
  },
  {
   "cell_type": "code",
   "execution_count": 5,
   "id": "a74f78b2-6b55-46e5-83c7-2aea7965dd6d",
   "metadata": {},
   "outputs": [],
   "source": [
    "def a_seq(a,N):\n",
    "    x = [0 for n in range(N+1)]\n",
    "    x[0] = a\n",
    "    for n in range(N):\n",
    "        x[n+1] = (2 + x[n])**0.5\n",
    "    return x"
   ]
  },
  {
   "cell_type": "code",
   "execution_count": 6,
   "id": "6fa37341-8d0e-4ecc-bc09-ed38752b7b7c",
   "metadata": {},
   "outputs": [
    {
     "data": {
      "text/plain": [
       "[1, 1.7320508075688772, 1.9318516525781366]"
      ]
     },
     "execution_count": 6,
     "metadata": {},
     "output_type": "execute_result"
    }
   ],
   "source": [
    "a_seq(1,2) # Should return [1,3**0.5,(2 + 3**0.5)] = [1,1.73,1.93]"
   ]
  },
  {
   "cell_type": "markdown",
   "id": "c7953b21-35a4-431a-8f1c-a445b8013fd6",
   "metadata": {},
   "source": [
    "The operator `+` for lists does concatenation. That is, it joins the lists."
   ]
  },
  {
   "cell_type": "code",
   "execution_count": 7,
   "id": "cc5a7287-d36e-462c-92ec-a74ed2934da6",
   "metadata": {},
   "outputs": [
    {
     "data": {
      "text/plain": [
       "[1, 2, 3, 4, 5, 6]"
      ]
     },
     "execution_count": 7,
     "metadata": {},
     "output_type": "execute_result"
    }
   ],
   "source": [
    "[1,2,3] + [4,5,6]"
   ]
  },
  {
   "cell_type": "code",
   "execution_count": 8,
   "id": "798e2a0d-06b5-4284-bcec-a61808858ebe",
   "metadata": {},
   "outputs": [],
   "source": [
    "def a_seq(a,N):\n",
    "    seq = [a]\n",
    "    for k in range(N):\n",
    "        seq = seq + [(2 + seq[-1])**0.5]\n",
    "    return seq"
   ]
  },
  {
   "cell_type": "code",
   "execution_count": 9,
   "id": "da0a2b06-d894-43ae-a87e-7babaea9b57f",
   "metadata": {},
   "outputs": [
    {
     "data": {
      "text/plain": [
       "[1, 1.7320508075688772, 1.9318516525781366]"
      ]
     },
     "execution_count": 9,
     "metadata": {},
     "output_type": "execute_result"
    }
   ],
   "source": [
    "a_seq(1,2) # Should return [1,3**0.5,(2 + 3**0.5)] = [1,1.73,1.93]"
   ]
  },
  {
   "cell_type": "markdown",
   "id": "e5908498-fa1f-449f-b8d3-af794c5c3528",
   "metadata": {},
   "source": [
    "We could also use the `append` method."
   ]
  },
  {
   "cell_type": "code",
   "execution_count": 10,
   "id": "a999921b-04a4-43ea-8e51-01424e77e8da",
   "metadata": {},
   "outputs": [],
   "source": [
    "x = [1,2,3]"
   ]
  },
  {
   "cell_type": "code",
   "execution_count": 11,
   "id": "5c2579f7-4a88-412d-8ac3-430556eff8e4",
   "metadata": {},
   "outputs": [],
   "source": [
    "x.append(4)"
   ]
  },
  {
   "cell_type": "code",
   "execution_count": 12,
   "id": "6029e0f7-4d2d-4a80-8621-9816b6133286",
   "metadata": {},
   "outputs": [
    {
     "data": {
      "text/plain": [
       "[1, 2, 3, 4]"
      ]
     },
     "execution_count": 12,
     "metadata": {},
     "output_type": "execute_result"
    }
   ],
   "source": [
    "x"
   ]
  },
  {
   "cell_type": "code",
   "execution_count": 13,
   "id": "07a907b6-5e28-4fa3-8055-56ce570819f3",
   "metadata": {},
   "outputs": [],
   "source": [
    "def a_seq(a,N):\n",
    "    seq = [a]\n",
    "    for k in range(N):\n",
    "        seq.append((2 + seq[-1])**0.5)\n",
    "    return seq"
   ]
  },
  {
   "cell_type": "code",
   "execution_count": 14,
   "id": "5e8ca94f-d17d-4080-8aad-8ecc2a8e1b2c",
   "metadata": {},
   "outputs": [
    {
     "data": {
      "text/plain": [
       "[1, 1.7320508075688772, 1.9318516525781366]"
      ]
     },
     "execution_count": 14,
     "metadata": {},
     "output_type": "execute_result"
    }
   ],
   "source": [
    "a_seq(1,2) # Should return [1,3**0.5,(2 + 3**0.5)] = [1,1.73,1.93]"
   ]
  },
  {
   "cell_type": "markdown",
   "id": "b47b6132-a14f-431e-be19-4780b273f550",
   "metadata": {},
   "source": [
    "What is the limit $\\lim_{n \\to \\infty} x_n$?"
   ]
  },
  {
   "cell_type": "code",
   "execution_count": 15,
   "id": "04077189-6563-4096-9fe4-5bedc85f02a5",
   "metadata": {},
   "outputs": [
    {
     "data": {
      "text/plain": [
       "[10,\n",
       " 3.4641016151377544,\n",
       " 2.3375417889607353,\n",
       " 2.0826765925031987,\n",
       " 2.020563434417044,\n",
       " 2.005134268426193,\n",
       " 2.0012831554845487,\n",
       " 2.000320763148888,\n",
       " 2.000080189179646,\n",
       " 2.000020047194439,\n",
       " 2.0000050117923305,\n",
       " 2.00000125294769,\n",
       " 2.000000313236898,\n",
       " 2.000000078309223,\n",
       " 2.0000000195773056,\n",
       " 2.0000000048943263,\n",
       " 2.0000000012235817,\n",
       " 2.0000000003058953,\n",
       " 2.000000000076474,\n",
       " 2.0000000000191185,\n",
       " 2.0000000000047797]"
      ]
     },
     "execution_count": 15,
     "metadata": {},
     "output_type": "execute_result"
    }
   ],
   "source": [
    "sequence = a_seq(10,20)\n",
    "sequence"
   ]
  },
  {
   "cell_type": "markdown",
   "id": "53570b20-9176-4387-b875-71755019885d",
   "metadata": {},
   "source": [
    "It looks like $x_n \\to 2$ as $n \\to \\infty$. Can we prove it?"
   ]
  }
 ],
 "metadata": {
  "kernelspec": {
   "display_name": "Python 3 (ipykernel)",
   "language": "python",
   "name": "python3"
  },
  "language_info": {
   "codemirror_mode": {
    "name": "ipython",
    "version": 3
   },
   "file_extension": ".py",
   "mimetype": "text/x-python",
   "name": "python",
   "nbconvert_exporter": "python",
   "pygments_lexer": "ipython3",
   "version": "3.11.6"
  }
 },
 "nbformat": 4,
 "nbformat_minor": 5
}
