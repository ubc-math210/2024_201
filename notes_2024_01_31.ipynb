{
 "cells": [
  {
   "cell_type": "markdown",
   "id": "18db4d18-c4ab-4df4-8952-a531cf25b1b4",
   "metadata": {},
   "source": [
    "# MATH 210 Introduction to Mathematical Computing\n",
    "\n",
    "**January 31, 2024**"
   ]
  },
  {
   "cell_type": "markdown",
   "id": "471c23da-c4c5-40e8-97e3-3b53b7b80ac0",
   "metadata": {},
   "source": [
    "## Fixed Point Iteration\n",
    "\n",
    "### Example\n",
    "\n",
    "Consider the sequence $x_{n+1} = \\sqrt{1 + x_n} + \\sqrt{x_n}$, $x_0 = 5$. We proved by the fixed point theorem that the sequence converges to a fixed point in the interval $[4,5]$. Approximate the limit."
   ]
  },
  {
   "cell_type": "code",
   "execution_count": 1,
   "id": "dbddb1a5-2669-43f8-8dae-3feffce132ab",
   "metadata": {},
   "outputs": [],
   "source": [
    "N = 4\n",
    "x = [0 for n in range(N+1)]\n",
    "x[0] = 5\n",
    "for n in range(N):\n",
    "    x[n+1] = (1 + x[n])**0.5 + x[n]**0.5"
   ]
  },
  {
   "cell_type": "code",
   "execution_count": 2,
   "id": "ee13b1b5-8000-44fa-850e-0a6e9ff55df8",
   "metadata": {},
   "outputs": [
    {
     "data": {
      "text/plain": [
       "[5, 4.685557720282968, 4.549055668995422, 4.488494900940035, 4.461360530636048]"
      ]
     },
     "execution_count": 2,
     "metadata": {},
     "output_type": "execute_result"
    }
   ],
   "source": [
    "x"
   ]
  },
  {
   "cell_type": "markdown",
   "id": "78c6d3a0-e3f1-4407-aae1-bf40320120db",
   "metadata": {},
   "source": [
    "Instead of creating the list of numbers in the sequence, let's simply intialize `xn` and update the value so that we only remember the last value computed."
   ]
  },
  {
   "cell_type": "code",
   "execution_count": 3,
   "id": "350dd253-25b5-46bb-8782-763138e94b54",
   "metadata": {},
   "outputs": [
    {
     "name": "stdout",
     "output_type": "stream",
     "text": [
      "4.439109106851355\n"
     ]
    }
   ],
   "source": [
    "N = 44\n",
    "xn = 5\n",
    "for n in range(N):\n",
    "    xn = (1 + xn)**0.5 + xn**0.5\n",
    "print(xn)"
   ]
  },
  {
   "cell_type": "markdown",
   "id": "c0905164-3928-4a9a-8ecc-d14f56f82b95",
   "metadata": {},
   "source": [
    "### Example\n",
    "\n",
    "Apply fixed point iteration to find root of $x^3 + x - 1$. Let $f(x) = \\frac{1}{1 + x^2}$. We proved that $x_{n+1} = f(x_n)$, $x_0=1/2$ converges to a fixed point in the inteval $[0,1]$. Approximate the limit."
   ]
  },
  {
   "cell_type": "code",
   "execution_count": 13,
   "id": "33c5ea10-d139-4032-912b-66654551c746",
   "metadata": {},
   "outputs": [
    {
     "name": "stdout",
     "output_type": "stream",
     "text": [
      "0.6823278038280193\n"
     ]
    }
   ],
   "source": [
    "N = 100\n",
    "xn = 1/2\n",
    "for n in range(N):\n",
    "    xn = 1/(1 + xn**2)\n",
    "print(xn)"
   ]
  },
  {
   "cell_type": "markdown",
   "id": "f21521c5-8e0e-4766-a6af-bd2f8c850151",
   "metadata": {},
   "source": [
    "We could also use $f(x) = (1 - x)^{1/3}$."
   ]
  },
  {
   "cell_type": "code",
   "execution_count": 14,
   "id": "8c2dc1dc-04f0-4215-8a45-e61306327345",
   "metadata": {},
   "outputs": [
    {
     "name": "stdout",
     "output_type": "stream",
     "text": [
      "0.6823278038280188\n"
     ]
    }
   ],
   "source": [
    "N = 100\n",
    "xn = 1/2\n",
    "for n in range(N):\n",
    "    xn = (1 - xn)**(1/3)\n",
    "print(xn)"
   ]
  },
  {
   "cell_type": "markdown",
   "id": "13d8d677-1c47-4df6-a381-7ded0fc21abc",
   "metadata": {},
   "source": [
    "Note that $f(x) = 1 - x^3$ doesn't work."
   ]
  },
  {
   "cell_type": "code",
   "execution_count": 15,
   "id": "5cdca04b-c427-4708-9795-370ca4849e8a",
   "metadata": {},
   "outputs": [
    {
     "name": "stdout",
     "output_type": "stream",
     "text": [
      "0.9988733767808354\n"
     ]
    }
   ],
   "source": [
    "N = 5\n",
    "xn = 1/2\n",
    "for n in range(N):\n",
    "    xn = 1 - xn**3\n",
    "print(xn)"
   ]
  }
 ],
 "metadata": {
  "kernelspec": {
   "display_name": "Python 3 (ipykernel)",
   "language": "python",
   "name": "python3"
  },
  "language_info": {
   "codemirror_mode": {
    "name": "ipython",
    "version": 3
   },
   "file_extension": ".py",
   "mimetype": "text/x-python",
   "name": "python",
   "nbconvert_exporter": "python",
   "pygments_lexer": "ipython3",
   "version": "3.11.6"
  }
 },
 "nbformat": 4,
 "nbformat_minor": 5
}
