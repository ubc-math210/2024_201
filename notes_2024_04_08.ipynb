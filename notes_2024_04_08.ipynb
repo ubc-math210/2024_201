{
 "cells": [
  {
   "cell_type": "markdown",
   "id": "af37fe83-b8df-4848-b879-1c66b468bbe9",
   "metadata": {},
   "source": [
    "# MATH 210 Introduction to Mathematical Computing\n",
    "\n",
    "**April 8, 2024**"
   ]
  },
  {
   "cell_type": "code",
   "execution_count": 1,
   "id": "6e33771a-7ef0-4dcb-9caf-58421f990405",
   "metadata": {
    "tags": []
   },
   "outputs": [],
   "source": [
    "import numpy as np\n",
    "import matplotlib.pyplot as plt\n",
    "import scipy.linalg as la"
   ]
  },
  {
   "cell_type": "markdown",
   "id": "e8958d88-f293-4879-a60f-808fcec2d2ab",
   "metadata": {},
   "source": [
    "## Diagonalization\n",
    "\n",
    "A matrix $A$ is diagonalizable if there exists an invertible matrix $P$ and diagonal matrix $D$ such that\n",
    "\n",
    "$$\n",
    "A = PDP^{-1}\n",
    "$$\n",
    "\n",
    "If $A$ is diagonalizable then the columns of $P$ are eigenvectors and the entries of $D$ are eigenvectors.\n",
    "\n",
    "Not every matrix ia diagonalizable. Basically, a matrix is diagonalizable if and only if it has $n$ linearly independent eigenvectors. Therefore a matrix with $n$ distinct eigenvalues is diagonlizable.\n",
    "\n",
    "It turns out that all symmetrix matrices are diaglizable also. We won't prove this."
   ]
  },
  {
   "cell_type": "code",
   "execution_count": 2,
   "id": "e5e30556-860c-48b3-a0ff-c6a6beaddeb2",
   "metadata": {
    "tags": []
   },
   "outputs": [
    {
     "data": {
      "text/plain": [
       "array([ 3.+0.j, -1.+0.j])"
      ]
     },
     "execution_count": 2,
     "metadata": {},
     "output_type": "execute_result"
    }
   ],
   "source": [
    "A = np.array([[1.,2.],[2.,1.]])\n",
    "evals,evecs = la.eig(A)\n",
    "evals"
   ]
  },
  {
   "cell_type": "code",
   "execution_count": 3,
   "id": "0220c570-8100-4bb7-b427-153a405cbfb3",
   "metadata": {
    "tags": []
   },
   "outputs": [
    {
     "data": {
      "text/plain": [
       "array([[ 0.70710678, -0.70710678],\n",
       "       [ 0.70710678,  0.70710678]])"
      ]
     },
     "execution_count": 3,
     "metadata": {},
     "output_type": "execute_result"
    }
   ],
   "source": [
    "evecs"
   ]
  },
  {
   "cell_type": "code",
   "execution_count": 4,
   "id": "8b6287c2-0b12-40cc-a9df-647a39a26913",
   "metadata": {
    "tags": []
   },
   "outputs": [
    {
     "name": "stdout",
     "output_type": "stream",
     "text": [
      "[[0.49999718 0.50000282]\n",
      " [0.50000282 0.49999718]]\n"
     ]
    }
   ],
   "source": [
    "Ak = 1/3*A\n",
    "N = 10\n",
    "for k in range(N):\n",
    "    Ak = 1/3*A@Ak\n",
    "print(Ak)"
   ]
  },
  {
   "cell_type": "code",
   "execution_count": 6,
   "id": "94f89639-322b-4b21-95ae-49c7c54016e1",
   "metadata": {
    "tags": []
   },
   "outputs": [
    {
     "data": {
      "text/plain": [
       "array([[ 2.,  5.],\n",
       "       [ 5., -1.]])"
      ]
     },
     "execution_count": 6,
     "metadata": {},
     "output_type": "execute_result"
    }
   ],
   "source": [
    "A = np.array([[2.,5.],[5.,-1]])\n",
    "A"
   ]
  },
  {
   "cell_type": "code",
   "execution_count": 7,
   "id": "5abc144a-9f42-4869-8ba9-4f1ee6325b31",
   "metadata": {
    "tags": []
   },
   "outputs": [
    {
     "name": "stdout",
     "output_type": "stream",
     "text": [
      "[1.         0.74403065]\n"
     ]
    }
   ],
   "source": [
    "x0 = np.array([1.,1.])\n",
    "xk = x0\n",
    "N = 100\n",
    "for k in range(N):\n",
    "    xk = A@xk\n",
    "    xk = xk/np.max(np.abs(xk))\n",
    "print(xk)"
   ]
  },
  {
   "cell_type": "code",
   "execution_count": 8,
   "id": "6cef5f5b-3e03-423d-944f-e7826b24a323",
   "metadata": {
    "tags": []
   },
   "outputs": [
    {
     "data": {
      "text/plain": [
       "5.720153254455275"
      ]
     },
     "execution_count": 8,
     "metadata": {},
     "output_type": "execute_result"
    }
   ],
   "source": [
    "xk@A@xk/(xk@xk)"
   ]
  },
  {
   "cell_type": "code",
   "execution_count": 9,
   "id": "4b5c75e1-01f4-4fff-bd92-78743cfa44d7",
   "metadata": {
    "tags": []
   },
   "outputs": [
    {
     "data": {
      "text/plain": [
       "array([ 5.72015325+0.j, -4.72015325+0.j])"
      ]
     },
     "execution_count": 9,
     "metadata": {},
     "output_type": "execute_result"
    }
   ],
   "source": [
    "evals,evecs = la.eig(A)\n",
    "evals"
   ]
  }
 ],
 "metadata": {
  "kernelspec": {
   "display_name": "Python 3 (ipykernel)",
   "language": "python",
   "name": "python3"
  },
  "language_info": {
   "codemirror_mode": {
    "name": "ipython",
    "version": 3
   },
   "file_extension": ".py",
   "mimetype": "text/x-python",
   "name": "python",
   "nbconvert_exporter": "python",
   "pygments_lexer": "ipython3",
   "version": "3.10.12"
  }
 },
 "nbformat": 4,
 "nbformat_minor": 5
}
