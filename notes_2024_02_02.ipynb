{
 "cells": [
  {
   "cell_type": "markdown",
   "id": "44dae03d-c30e-4cf8-b595-5c67c00fb6a0",
   "metadata": {},
   "source": [
    "# MATH 210 Introduction to Mathematical Computing\n",
    "\n",
    "**February 2, 2024**"
   ]
  },
  {
   "cell_type": "markdown",
   "id": "5ba73e9c-801d-4da9-93d4-a674cce47344",
   "metadata": {},
   "source": [
    "## Bisection Method\n",
    "\n",
    "Write a function called `bisection` which takes input parameters `f`, `a`, `b` and `N`, and returns the midpoint of the Nth iteration of the bisection method."
   ]
  },
  {
   "cell_type": "code",
   "execution_count": 1,
   "id": "f8a285a7-1baa-4657-924f-adc2540cc38a",
   "metadata": {},
   "outputs": [],
   "source": [
    "def bisection(f,a,b,N):\n",
    "    if f(a)*f(b) > 0:\n",
    "        print(\"f(a) and f(b) have the same sign. No root guaranteed.\")\n",
    "        return None\n",
    "    if f(a) == 0:\n",
    "        print(\"Found root at endpoint a.\")\n",
    "        return a\n",
    "    if f(b) == 0:\n",
    "        print(\"Found root at endpoint b.\")\n",
    "        return b\n",
    "    an = a\n",
    "    bn = b\n",
    "    mn = (an + bn)/2\n",
    "    for n in range(N):\n",
    "        if f(mn) == 0:\n",
    "            print(\"Found exact root at a midpoint.\")\n",
    "            return mn\n",
    "        elif f(an)*f(mn) < 0:\n",
    "            bn = mn\n",
    "            mn = (an + bn)/2\n",
    "        elif f(bn)*f(mn) < 0:\n",
    "            an = mn\n",
    "            mn = (an + bn)/2\n",
    "        else:\n",
    "            print(\"Unknown Error!\")\n",
    "            return None\n",
    "    return mn"
   ]
  },
  {
   "cell_type": "code",
   "execution_count": 2,
   "id": "f364dfd9-07fe-4c1c-9e53-9d349cb711ce",
   "metadata": {},
   "outputs": [
    {
     "name": "stdout",
     "output_type": "stream",
     "text": [
      "1.5\n",
      "1.25\n",
      "1.375\n",
      "1.414213562373095\n"
     ]
    }
   ],
   "source": [
    "f = lambda x: x**2 - 2\n",
    "a = 1\n",
    "b = 2\n",
    "\n",
    "x = bisection(f,a,b,0)\n",
    "print(x) # Should be 1.5\n",
    "\n",
    "x = bisection(f,a,b,1)\n",
    "print(x) # Should be 1.25\n",
    "\n",
    "x = bisection(f,a,b,2)\n",
    "print(x) # Should be 1.375\n",
    "\n",
    "x = bisection(f,a,b,100)\n",
    "print(x) # Should be near 1.414..."
   ]
  },
  {
   "cell_type": "markdown",
   "id": "37ee0a2e-e515-4c98-b171-43e368be563d",
   "metadata": {},
   "source": [
    "**Question.** Approximate a solution of the equation $x^x = 2$ with error less than 0.01."
   ]
  },
  {
   "cell_type": "code",
   "execution_count": 3,
   "id": "9cf03f9b-b51d-4098-b2a5-ebc2ff6e342f",
   "metadata": {},
   "outputs": [
    {
     "name": "stdout",
     "output_type": "stream",
     "text": [
      "1.5546875\n"
     ]
    }
   ],
   "source": [
    "f = lambda x: x**x - 2\n",
    "a = 1\n",
    "b = 2\n",
    "\n",
    "x = bisection(f,a,b,6)\n",
    "print(x)"
   ]
  },
  {
   "cell_type": "code",
   "execution_count": 4,
   "id": "89942a15-2c24-4c69-a2c8-7ba3d2abf6c1",
   "metadata": {},
   "outputs": [
    {
     "data": {
      "text/plain": [
       "1.9858440616852646"
      ]
     },
     "execution_count": 4,
     "metadata": {},
     "output_type": "execute_result"
    }
   ],
   "source": [
    "x**x"
   ]
  }
 ],
 "metadata": {
  "kernelspec": {
   "display_name": "Python 3 (ipykernel)",
   "language": "python",
   "name": "python3"
  },
  "language_info": {
   "codemirror_mode": {
    "name": "ipython",
    "version": 3
   },
   "file_extension": ".py",
   "mimetype": "text/x-python",
   "name": "python",
   "nbconvert_exporter": "python",
   "pygments_lexer": "ipython3",
   "version": "3.11.6"
  }
 },
 "nbformat": 4,
 "nbformat_minor": 5
}
