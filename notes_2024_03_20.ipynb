{
 "cells": [
  {
   "cell_type": "markdown",
   "id": "0f5170c5-be24-4c3e-ae9b-c5129ad9cca7",
   "metadata": {},
   "source": [
    "# MATH 210 Introduction to Mathematical Computing\n",
    "\n",
    "**March 20, 2024**"
   ]
  },
  {
   "cell_type": "code",
   "execution_count": 1,
   "id": "869005c8-30fb-4d33-9eb8-08900632acf2",
   "metadata": {
    "tags": []
   },
   "outputs": [],
   "source": [
    "import numpy as np\n",
    "import matplotlib.pyplot as plt"
   ]
  },
  {
   "cell_type": "markdown",
   "id": "ec81f2fb-ad49-4edd-8fdf-d60ec25be56b",
   "metadata": {},
   "source": [
    "## Linear Algebra with SciPy and NumPy\n",
    "\n",
    "The main Python package for linear algebra computations is `scipy.linalg`. There is also `numpy.linalg` which is very similar. We choose `scipy.linalg`."
   ]
  },
  {
   "cell_type": "code",
   "execution_count": 2,
   "id": "dc4d9821-1278-4016-9436-4a33284fd4d4",
   "metadata": {
    "tags": []
   },
   "outputs": [],
   "source": [
    "import scipy.linalg as la"
   ]
  },
  {
   "cell_type": "markdown",
   "id": "a4b39246-2066-4957-b835-83ef0d5bb4a8",
   "metadata": {},
   "source": [
    "## Construct Matrices using NumPy"
   ]
  },
  {
   "cell_type": "markdown",
   "id": "b17e02ad-790e-4c13-bb4a-a1cc1a6f937a",
   "metadata": {},
   "source": [
    "Create a matrix of zeros:"
   ]
  },
  {
   "cell_type": "code",
   "execution_count": 3,
   "id": "46ec9476-9b9e-427a-a7a4-98e0881351b3",
   "metadata": {
    "tags": []
   },
   "outputs": [
    {
     "data": {
      "text/plain": [
       "array([[0., 0., 0., 0., 0.],\n",
       "       [0., 0., 0., 0., 0.],\n",
       "       [0., 0., 0., 0., 0.],\n",
       "       [0., 0., 0., 0., 0.]])"
      ]
     },
     "execution_count": 3,
     "metadata": {},
     "output_type": "execute_result"
    }
   ],
   "source": [
    "np.zeros((4,5))"
   ]
  },
  {
   "cell_type": "markdown",
   "id": "20e2db5e-2c2d-49b3-8d72-78b8eea8335b",
   "metadata": {},
   "source": [
    "Create a matrix of ones:"
   ]
  },
  {
   "cell_type": "code",
   "execution_count": 4,
   "id": "324f1c31-e861-4f4a-b47c-4682fc348393",
   "metadata": {
    "tags": []
   },
   "outputs": [
    {
     "data": {
      "text/plain": [
       "array([[1., 1.],\n",
       "       [1., 1.],\n",
       "       [1., 1.]])"
      ]
     },
     "execution_count": 4,
     "metadata": {},
     "output_type": "execute_result"
    }
   ],
   "source": [
    "np.ones((3,2))"
   ]
  },
  {
   "cell_type": "markdown",
   "id": "842d387d-5672-4d61-b8dd-a9c99459ad78",
   "metadata": {},
   "source": [
    "Create a diagonal matrix from a vector:"
   ]
  },
  {
   "cell_type": "code",
   "execution_count": 5,
   "id": "ef7b0a34-3e9a-45e6-a53b-520af5bf3845",
   "metadata": {
    "tags": []
   },
   "outputs": [
    {
     "data": {
      "text/plain": [
       "array([[1., 0., 0.],\n",
       "       [0., 2., 0.],\n",
       "       [0., 0., 3.]])"
      ]
     },
     "execution_count": 5,
     "metadata": {},
     "output_type": "execute_result"
    }
   ],
   "source": [
    "v = np.array([1.,2.,3.])\n",
    "M = np.diag(v)\n",
    "M"
   ]
  },
  {
   "cell_type": "markdown",
   "id": "720bff6b-3274-411a-8637-b8d85551841b",
   "metadata": {},
   "source": [
    "Notice that all these matrices have floating point entries (as opposed to integers)."
   ]
  },
  {
   "cell_type": "code",
   "execution_count": 6,
   "id": "c868ff1a-b714-45fe-8413-5626d8083c70",
   "metadata": {
    "tags": []
   },
   "outputs": [
    {
     "data": {
      "text/plain": [
       "dtype('float64')"
      ]
     },
     "execution_count": 6,
     "metadata": {},
     "output_type": "execute_result"
    }
   ],
   "source": [
    "M.dtype"
   ]
  },
  {
   "cell_type": "markdown",
   "id": "e2c8a9f3-57a4-44cf-bbd9-53f6c5c3910c",
   "metadata": {},
   "source": [
    "Create the identity matrix:"
   ]
  },
  {
   "cell_type": "code",
   "execution_count": 7,
   "id": "3b38ce7e-3230-449d-bc13-623ec5dd1c2a",
   "metadata": {
    "tags": []
   },
   "outputs": [
    {
     "data": {
      "text/plain": [
       "array([[1., 0., 0., 0., 0., 0., 0., 0., 0., 0.],\n",
       "       [0., 1., 0., 0., 0., 0., 0., 0., 0., 0.],\n",
       "       [0., 0., 1., 0., 0., 0., 0., 0., 0., 0.],\n",
       "       [0., 0., 0., 1., 0., 0., 0., 0., 0., 0.],\n",
       "       [0., 0., 0., 0., 1., 0., 0., 0., 0., 0.],\n",
       "       [0., 0., 0., 0., 0., 1., 0., 0., 0., 0.],\n",
       "       [0., 0., 0., 0., 0., 0., 1., 0., 0., 0.],\n",
       "       [0., 0., 0., 0., 0., 0., 0., 1., 0., 0.],\n",
       "       [0., 0., 0., 0., 0., 0., 0., 0., 1., 0.],\n",
       "       [0., 0., 0., 0., 0., 0., 0., 0., 0., 1.]])"
      ]
     },
     "execution_count": 7,
     "metadata": {},
     "output_type": "execute_result"
    }
   ],
   "source": [
    "np.eye(10)"
   ]
  },
  {
   "cell_type": "markdown",
   "id": "7c1d1e19-a558-469b-9fe2-b2ec51034736",
   "metadata": {},
   "source": [
    "Create a square matrix of size $N$ with -2 on the diagonal and 1 on the upper and lower diagonals:"
   ]
  },
  {
   "cell_type": "code",
   "execution_count": 8,
   "id": "0434884a-22ee-497f-863d-3ed57e1aad23",
   "metadata": {
    "tags": []
   },
   "outputs": [
    {
     "name": "stdout",
     "output_type": "stream",
     "text": [
      "[[-2.  1.  0. ...  0.  0.  0.]\n",
      " [ 1. -2.  1. ...  0.  0.  0.]\n",
      " [ 0.  1. -2. ...  0.  0.  0.]\n",
      " ...\n",
      " [ 0.  0.  0. ... -2.  1.  0.]\n",
      " [ 0.  0.  0. ...  1. -2.  1.]\n",
      " [ 0.  0.  0. ...  0.  1. -2.]]\n"
     ]
    }
   ],
   "source": [
    "N = 50\n",
    "A1 = -2*np.eye(N)\n",
    "A2 = np.diag(np.ones(N-1),1)\n",
    "A3 = np.diag(np.ones(N-1),-1)\n",
    "A = A1 + A2 + A3\n",
    "print(A)"
   ]
  },
  {
   "cell_type": "markdown",
   "id": "df40ebdb-7660-42b9-b531-485b446ee232",
   "metadata": {},
   "source": [
    "Use `plt.imshow` to plot a matrix where each entry is assigned a color based on its value."
   ]
  },
  {
   "cell_type": "code",
   "execution_count": 9,
   "id": "08db0903-d081-48a8-b7b3-2f51f8652682",
   "metadata": {
    "tags": []
   },
   "outputs": [
    {
     "data": {
      "image/png": "[encoded data removed]",
      "text/plain": [
       "<Figure size 640x480 with 2 Axes>"
      ]
     },
     "metadata": {},
     "output_type": "display_data"
    }
   ],
   "source": [
    "plt.imshow(A), plt.colorbar()\n",
    "plt.show()"
   ]
  },
  {
   "cell_type": "markdown",
   "id": "3848a441-f6e5-408f-a26e-10a6a8ab72e1",
   "metadata": {},
   "source": [
    "## Matrix Multiplication\n",
    "\n",
    "Use the symbol `@` to perform matrix multiplication:"
   ]
  },
  {
   "cell_type": "code",
   "execution_count": 10,
   "id": "85666f91-4a1c-4f85-90c7-f18a178e9759",
   "metadata": {
    "tags": []
   },
   "outputs": [
    {
     "name": "stdout",
     "output_type": "stream",
     "text": [
      "[[ 1.  1.]\n",
      " [-1.  1.]]\n"
     ]
    }
   ],
   "source": [
    "A = np.array([[1.,1.],[-1.,1.]])\n",
    "print(A)"
   ]
  },
  {
   "cell_type": "code",
   "execution_count": 11,
   "id": "3ac36910-c176-4ae1-b9ce-e7f20f5cb88c",
   "metadata": {
    "tags": []
   },
   "outputs": [
    {
     "name": "stdout",
     "output_type": "stream",
     "text": [
      "[[2.]\n",
      " [5.]]\n"
     ]
    }
   ],
   "source": [
    "x = np.array([[2.],[5.]])\n",
    "print(x)"
   ]
  },
  {
   "cell_type": "code",
   "execution_count": 12,
   "id": "f252bc34-c8ac-41e4-9817-db29bcef8d52",
   "metadata": {
    "tags": []
   },
   "outputs": [
    {
     "data": {
      "text/plain": [
       "array([[7.],\n",
       "       [3.]])"
      ]
     },
     "execution_count": 12,
     "metadata": {},
     "output_type": "execute_result"
    }
   ],
   "source": [
    "A@x"
   ]
  },
  {
   "cell_type": "code",
   "execution_count": 13,
   "id": "387e2f29-f8c5-49f4-8fe9-252e94c82253",
   "metadata": {
    "tags": []
   },
   "outputs": [
    {
     "name": "stdout",
     "output_type": "stream",
     "text": [
      "[[-2.  1.  0.  0.  0.]\n",
      " [ 1. -2.  1.  0.  0.]\n",
      " [ 0.  1. -2.  1.  0.]\n",
      " [ 0.  0.  1. -2.  1.]\n",
      " [ 0.  0.  0.  1. -2.]]\n"
     ]
    }
   ],
   "source": [
    "N = 5\n",
    "A1 = -2*np.eye(N)\n",
    "A2 = np.diag(np.ones(N-1),1)\n",
    "A3 = np.diag(np.ones(N-1),-1)\n",
    "A = A1 + A2 + A3\n",
    "print(A)"
   ]
  },
  {
   "cell_type": "code",
   "execution_count": 14,
   "id": "a87de2d6-dff1-476d-906c-82ba09fe88a4",
   "metadata": {
    "tags": []
   },
   "outputs": [
    {
     "name": "stdout",
     "output_type": "stream",
     "text": [
      "[[1.]\n",
      " [1.]\n",
      " [1.]\n",
      " [1.]\n",
      " [1.]]\n"
     ]
    }
   ],
   "source": [
    "x = np.ones((N,1))\n",
    "print(x)"
   ]
  },
  {
   "cell_type": "code",
   "execution_count": 15,
   "id": "8e7cd37b-8c83-4c0b-a596-bee0cc9689ce",
   "metadata": {
    "tags": []
   },
   "outputs": [
    {
     "data": {
      "text/plain": [
       "array([[-1.],\n",
       "       [ 0.],\n",
       "       [ 0.],\n",
       "       [ 0.],\n",
       "       [-1.]])"
      ]
     },
     "execution_count": 15,
     "metadata": {},
     "output_type": "execute_result"
    }
   ],
   "source": [
    "A@x"
   ]
  },
  {
   "cell_type": "markdown",
   "id": "4f8569cf-4e47-461c-b894-7cbbd49203a4",
   "metadata": {},
   "source": [
    "Note that we can use `A@x` when `x` is 1-dimensional. The result is as if  `A@x` with `x` as a column vector but we return it as a 1-dimensional NumPy array."
   ]
  },
  {
   "cell_type": "code",
   "execution_count": 35,
   "id": "2fc31723-e7e3-46ab-8762-845c05d428a9",
   "metadata": {
    "tags": []
   },
   "outputs": [
    {
     "data": {
      "text/plain": [
       "array([[ 1.,  1.,  0.],\n",
       "       [ 1., -1.,  1.],\n",
       "       [ 0.,  1.,  1.]])"
      ]
     },
     "execution_count": 35,
     "metadata": {},
     "output_type": "execute_result"
    }
   ],
   "source": [
    "A = np.array([[1.,1.,0.],[1.,-1.,1.],[0.,1.,1]])\n",
    "A"
   ]
  },
  {
   "cell_type": "code",
   "execution_count": 36,
   "id": "c7648a08-f318-483d-a11b-43db51aa98e9",
   "metadata": {
    "tags": []
   },
   "outputs": [
    {
     "data": {
      "text/plain": [
       "array([ 1., -1.,  0.])"
      ]
     },
     "execution_count": 36,
     "metadata": {},
     "output_type": "execute_result"
    }
   ],
   "source": [
    "x = np.array([1.,-1.,0.])\n",
    "x"
   ]
  },
  {
   "cell_type": "code",
   "execution_count": 44,
   "id": "6ebe38be-644e-4c78-9ce2-72fd4e19eeab",
   "metadata": {
    "tags": []
   },
   "outputs": [
    {
     "data": {
      "text/plain": [
       "array([ 0.,  2., -1.])"
      ]
     },
     "execution_count": 44,
     "metadata": {},
     "output_type": "execute_result"
    }
   ],
   "source": [
    "A@x"
   ]
  },
  {
   "cell_type": "code",
   "execution_count": 41,
   "id": "7e36ff3b-a46e-4ec7-b17c-5ee127d728ef",
   "metadata": {
    "tags": []
   },
   "outputs": [
    {
     "data": {
      "text/plain": [
       "1"
      ]
     },
     "execution_count": 41,
     "metadata": {},
     "output_type": "execute_result"
    }
   ],
   "source": [
    "x.ndim"
   ]
  },
  {
   "cell_type": "code",
   "execution_count": 42,
   "id": "8e1afd97-f726-4024-b146-e7fa806a355b",
   "metadata": {
    "tags": []
   },
   "outputs": [
    {
     "data": {
      "text/plain": [
       "2"
      ]
     },
     "execution_count": 42,
     "metadata": {},
     "output_type": "execute_result"
    }
   ],
   "source": [
    "A.ndim"
   ]
  },
  {
   "cell_type": "code",
   "execution_count": 43,
   "id": "85981831-17fa-4ea3-916d-81c8133a5095",
   "metadata": {
    "tags": []
   },
   "outputs": [
    {
     "data": {
      "text/plain": [
       "(3, 3)"
      ]
     },
     "execution_count": 43,
     "metadata": {},
     "output_type": "execute_result"
    }
   ],
   "source": [
    "A.shape"
   ]
  },
  {
   "cell_type": "code",
   "execution_count": 45,
   "id": "c75a0978-88ea-4289-b6a7-e3a544b10312",
   "metadata": {
    "tags": []
   },
   "outputs": [
    {
     "data": {
      "text/plain": [
       "array([[ 1., -1.,  0.]])"
      ]
     },
     "execution_count": 45,
     "metadata": {},
     "output_type": "execute_result"
    }
   ],
   "source": [
    "y = np.array([[1.,-1.,0.]])\n",
    "y"
   ]
  },
  {
   "cell_type": "code",
   "execution_count": 46,
   "id": "5b99fa0c-cfe1-4675-bd93-f93a3b1bf949",
   "metadata": {
    "tags": []
   },
   "outputs": [
    {
     "data": {
      "text/plain": [
       "2"
      ]
     },
     "execution_count": 46,
     "metadata": {},
     "output_type": "execute_result"
    }
   ],
   "source": [
    "y.ndim"
   ]
  },
  {
   "cell_type": "code",
   "execution_count": 47,
   "id": "ce45fa4b-3bb0-4934-a3a1-546b42c38810",
   "metadata": {
    "tags": []
   },
   "outputs": [
    {
     "data": {
      "text/plain": [
       "(1, 3)"
      ]
     },
     "execution_count": 47,
     "metadata": {},
     "output_type": "execute_result"
    }
   ],
   "source": [
    "y.shape"
   ]
  },
  {
   "cell_type": "code",
   "execution_count": 48,
   "id": "1c5c80e4-492d-41e3-bab4-e9e64ecf6305",
   "metadata": {
    "tags": []
   },
   "outputs": [
    {
     "ename": "ValueError",
     "evalue": "matmul: Input operand 1 has a mismatch in its core dimension 0, with gufunc signature (n?,k),(k,m?)->(n?,m?) (size 1 is different from 3)",
     "output_type": "error",
     "traceback": [
      "\u001b[0;31m---------------------------------------------------------------------------\u001b[0m",
      "\u001b[0;31mValueError\u001b[0m                                Traceback (most recent call last)",
      "Cell \u001b[0;32mIn[48], line 1\u001b[0m\n\u001b[0;32m----> 1\u001b[0m \u001b[43mA\u001b[49m\u001b[38;5;129;43m@y\u001b[39;49m\n",
      "\u001b[0;31mValueError\u001b[0m: matmul: Input operand 1 has a mismatch in its core dimension 0, with gufunc signature (n?,k),(k,m?)->(n?,m?) (size 1 is different from 3)"
     ]
    }
   ],
   "source": [
    "A@y"
   ]
  },
  {
   "cell_type": "markdown",
   "id": "3b687207-ec04-4158-9249-797e0edb4641",
   "metadata": {},
   "source": [
    "A 2-dimensional NumPy array is like a list of lists of numbers. To access a values, we need to specify 2 indices. For example:"
   ]
  },
  {
   "cell_type": "code",
   "execution_count": 53,
   "id": "08dfb8a9-8852-447a-a03a-fae0f1ae108c",
   "metadata": {
    "tags": []
   },
   "outputs": [
    {
     "data": {
      "text/plain": [
       "array([ 1., -1.,  0.])"
      ]
     },
     "execution_count": 53,
     "metadata": {},
     "output_type": "execute_result"
    }
   ],
   "source": [
    "y[0]"
   ]
  },
  {
   "cell_type": "code",
   "execution_count": 49,
   "id": "fb7e26d0-8313-4f58-b16e-871e8c01154a",
   "metadata": {
    "tags": []
   },
   "outputs": [
    {
     "data": {
      "text/plain": [
       "[[1, 2], [4, 7]]"
      ]
     },
     "execution_count": 49,
     "metadata": {},
     "output_type": "execute_result"
    }
   ],
   "source": [
    "A = [[1,2],[4,7]]\n",
    "A"
   ]
  },
  {
   "cell_type": "code",
   "execution_count": 51,
   "id": "d621b5ef-3829-4bed-a4b9-9197b953e65a",
   "metadata": {
    "tags": []
   },
   "outputs": [
    {
     "data": {
      "text/plain": [
       "7"
      ]
     },
     "execution_count": 51,
     "metadata": {},
     "output_type": "execute_result"
    }
   ],
   "source": [
    "A[1][1]"
   ]
  },
  {
   "cell_type": "markdown",
   "id": "67fc2218-58f0-40c0-a191-2eca593934fa",
   "metadata": {},
   "source": [
    "## Solving Equations\n",
    "\n",
    "The function `scipy.linalg.solve(A,b)` computes the solution of $A \\mathbf{x} = \\mathbf{b}$ where $A$ is n by n matrix and $\\mathbf{b} \\in \\mathbb{R}^n$."
   ]
  },
  {
   "cell_type": "code",
   "execution_count": 54,
   "id": "0686fca5-b7e1-49cf-ac4f-258689fbc301",
   "metadata": {
    "tags": []
   },
   "outputs": [
    {
     "data": {
      "text/plain": [
       "array([[-0.5],\n",
       "       [ 1.5]])"
      ]
     },
     "execution_count": 54,
     "metadata": {},
     "output_type": "execute_result"
    }
   ],
   "source": [
    "A = np.array([[1.,1.],[-1.,1.]])\n",
    "b = np.array([[1.],[2.]])\n",
    "x = la.solve(A,b)\n",
    "x"
   ]
  },
  {
   "cell_type": "markdown",
   "id": "55839939-2317-4777-9fef-a21906598fbb",
   "metadata": {},
   "source": [
    "Verify $A \\mathbf{x} = \\mathbf{b}$:"
   ]
  },
  {
   "cell_type": "code",
   "execution_count": 55,
   "id": "5f30f856-7653-493b-93c0-27e6f105049c",
   "metadata": {
    "tags": []
   },
   "outputs": [
    {
     "data": {
      "text/plain": [
       "array([[1.],\n",
       "       [2.]])"
      ]
     },
     "execution_count": 55,
     "metadata": {},
     "output_type": "execute_result"
    }
   ],
   "source": [
    "A@x"
   ]
  },
  {
   "cell_type": "code",
   "execution_count": 76,
   "id": "35a6a2da-148a-49ff-a8a7-6fcdeedae698",
   "metadata": {
    "tags": []
   },
   "outputs": [],
   "source": [
    "N = 100\n",
    "A1 = -2*np.eye(N)\n",
    "A2 = np.diag(np.ones(N-1),1)\n",
    "A3 = np.diag(np.ones(N-1),-1)\n",
    "A = A1 + A2 + A3"
   ]
  },
  {
   "cell_type": "code",
   "execution_count": 77,
   "id": "743ea30b-0fec-4916-b6b8-532dc72c98cb",
   "metadata": {
    "tags": []
   },
   "outputs": [],
   "source": [
    "b = np.ones(N)"
   ]
  },
  {
   "cell_type": "code",
   "execution_count": 78,
   "id": "859341de-3c36-4f5f-9277-300b2ee19f81",
   "metadata": {
    "tags": []
   },
   "outputs": [],
   "source": [
    "x = la.solve(A,b)"
   ]
  },
  {
   "cell_type": "code",
   "execution_count": 79,
   "id": "ab7de5f6-e556-40c1-b4c1-982d11de6ce4",
   "metadata": {
    "tags": []
   },
   "outputs": [
    {
     "data": {
      "image/png": "[encoded data removed]",
      "text/plain": [
       "<Figure size 640x480 with 1 Axes>"
      ]
     },
     "metadata": {},
     "output_type": "display_data"
    }
   ],
   "source": [
    "plt.plot(x,'.')\n",
    "plt.show()"
   ]
  },
  {
   "cell_type": "code",
   "execution_count": 81,
   "id": "10f94a88-d1e9-4a06-bb19-f04e7098f887",
   "metadata": {
    "tags": []
   },
   "outputs": [
    {
     "data": {
      "image/png": "[encoded data removed]",
      "text/plain": [
       "<Figure size 640x480 with 1 Axes>"
      ]
     },
     "metadata": {},
     "output_type": "display_data"
    }
   ],
   "source": [
    "N = 100\n",
    "A1 = -2*np.eye(N)\n",
    "A2 = np.diag(np.ones(N-1),1)\n",
    "A3 = np.diag(np.ones(N-1),-1)\n",
    "A = A1 + A2 + A3\n",
    "b = np.arange(N)\n",
    "x = la.solve(A,b)\n",
    "plt.plot(x,'.')\n",
    "plt.show()"
   ]
  },
  {
   "cell_type": "markdown",
   "id": "c24d84d0-7aaf-4fd6-899a-49d859f945ab",
   "metadata": {
    "tags": []
   },
   "source": [
    "How does `la.solve` work? It uses a FORTRAN library called LAPACK and it does row operations to reduce the matrix $A$ to row echelon form just like we do in MATH 221! See https://www.netlib.org/lapack/lug/node38.html."
   ]
  }
 ],
 "metadata": {
  "kernelspec": {
   "display_name": "Python 3 (ipykernel)",
   "language": "python",
   "name": "python3"
  },
  "language_info": {
   "codemirror_mode": {
    "name": "ipython",
    "version": 3
   },
   "file_extension": ".py",
   "mimetype": "text/x-python",
   "name": "python",
   "nbconvert_exporter": "python",
   "pygments_lexer": "ipython3",
   "version": "3.10.12"
  }
 },
 "nbformat": 4,
 "nbformat_minor": 5
}
