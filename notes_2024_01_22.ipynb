{
 "cells": [
  {
   "cell_type": "markdown",
   "id": "964fa0b2-137f-422f-93ac-749913c71363",
   "metadata": {},
   "source": [
    "# MATH 210 Introduction to Mathematical Computing\n",
    "\n",
    "**January 22, 2024**\n",
    "\n",
    "* Constructing Functions\n",
    "* Lambda Functions\n",
    "* Examples"
   ]
  },
  {
   "cell_type": "markdown",
   "id": "a6c52fce-22b7-47cc-8e11-1be1aaf9eac5",
   "metadata": {},
   "source": [
    "## Constructing Functions\n",
    "\n",
    "Recall the syntax for defining functions:\n",
    "\n",
    "```python\n",
    "def fun(a,b,c):\n",
    "    \"Documentation string\"\n",
    "    # Python code\n",
    "    return value\n",
    "```\n",
    "\n",
    "Write a function called `p_norm` which takes input parameters `x` (a list of numbers $x_0,\\dots,x_{N-1}$) and `p` (integer greater than 0), and returns the $p$-norm:\n",
    "\n",
    "$$\n",
    "\\| \\mathbf{x} \\|_p = \\left( \\sum_{i=0}^{N-1} | x_i |^p \\right)^{1/p}\n",
    "$$"
   ]
  },
  {
   "cell_type": "code",
   "execution_count": 2,
   "id": "a261c301-77e0-40a8-be7b-554264dab02c",
   "metadata": {},
   "outputs": [],
   "source": [
    "def p_norm(x,p):\n",
    "    \"Compute the p-norm of vector x.\"\n",
    "    terms = [ abs(x[i])**p for i in range(0,len(x)) ]\n",
    "    value = sum(terms)**(1/p)\n",
    "    return value"
   ]
  },
  {
   "cell_type": "code",
   "execution_count": 3,
   "id": "1531a773-be9b-4258-9dd5-d5f9a5bb4cff",
   "metadata": {},
   "outputs": [
    {
     "data": {
      "text/plain": [
       "1.7320508075688772"
      ]
     },
     "execution_count": 3,
     "metadata": {},
     "output_type": "execute_result"
    }
   ],
   "source": [
    "p_norm([1,1,1],2) # Function should return 3**0.5 = 1.7320508075688772"
   ]
  },
  {
   "cell_type": "code",
   "execution_count": 4,
   "id": "487943d6-3bdd-4890-aac1-1daf0ecc45f8",
   "metadata": {},
   "outputs": [
    {
     "data": {
      "text/plain": [
       "8.0"
      ]
     },
     "execution_count": 4,
     "metadata": {},
     "output_type": "execute_result"
    }
   ],
   "source": [
    "p_norm([2,-1,1,4],1) # Function should return 8.0"
   ]
  },
  {
   "cell_type": "code",
   "execution_count": 5,
   "id": "d100a399-a398-4f9d-94e3-f3e6dda8ea3a",
   "metadata": {},
   "outputs": [],
   "source": [
    "result = p_norm([1,1],2)"
   ]
  },
  {
   "cell_type": "code",
   "execution_count": 6,
   "id": "691f839c-3b63-452e-b194-de1d5013072e",
   "metadata": {},
   "outputs": [
    {
     "name": "stdout",
     "output_type": "stream",
     "text": [
      "1.4142135623730951\n"
     ]
    }
   ],
   "source": [
    "print(result)"
   ]
  },
  {
   "cell_type": "markdown",
   "id": "010e56d0-4c9d-40c0-ab9f-f9f9f3f30cb0",
   "metadata": {},
   "source": [
    "## Lambda Functions\n",
    "\n",
    "A `lambda` function allows us to write simple functions in a single line. It also allows us to define \"anonymous\" functions within other Python expressions. We won't worry about that for now.\n",
    "\n",
    "The `lambda` function syntax is:\n",
    "\n",
    "```python\n",
    "fun = lambda a,b,c: a**2 + b**2 + c**2\n",
    "```\n",
    "\n",
    "Let's do an example. Write a function called `average` which takes input parameter `x` and returns the average value of `x`."
   ]
  },
  {
   "cell_type": "code",
   "execution_count": 7,
   "id": "5af4ed98-8416-4e52-b9c2-79fa6157b444",
   "metadata": {},
   "outputs": [],
   "source": [
    "average = lambda x: sum(x)/len(x)"
   ]
  },
  {
   "cell_type": "code",
   "execution_count": 8,
   "id": "fa38a2d7-3572-4e03-b64c-280262771ca1",
   "metadata": {},
   "outputs": [
    {
     "data": {
      "text/plain": [
       "2.0"
      ]
     },
     "execution_count": 8,
     "metadata": {},
     "output_type": "execute_result"
    }
   ],
   "source": [
    "average([1,2,3])"
   ]
  },
  {
   "cell_type": "code",
   "execution_count": 9,
   "id": "73e4acb5-c956-460f-8364-e7d3de541a12",
   "metadata": {},
   "outputs": [],
   "source": [
    "p_norm = lambda x,p: sum([abs(x[i])**p for i in range(0,len(x))])**(1/p)"
   ]
  },
  {
   "cell_type": "code",
   "execution_count": 10,
   "id": "fc4e2623-113b-4fcc-8377-ecf12cb5fe22",
   "metadata": {},
   "outputs": [
    {
     "data": {
      "text/plain": [
       "1.7320508075688772"
      ]
     },
     "execution_count": 10,
     "metadata": {},
     "output_type": "execute_result"
    }
   ],
   "source": [
    "p_norm([1,1,1],2)"
   ]
  },
  {
   "cell_type": "markdown",
   "id": "d1ed37a5-2252-4aec-b97a-3a07c7cc0d5d",
   "metadata": {},
   "source": [
    "## Examples\n",
    "\n",
    "A polynomial of degree (at most) $d$ is of the form\n",
    "\n",
    "$$\n",
    "p(x) = c_0 + c_1 x + \\cdots + c_d x^d\n",
    "$$\n",
    "\n",
    "where $c_0,c_1,\\dots,c_d \\in \\mathbb{R}$ are the coefficients."
   ]
  },
  {
   "cell_type": "markdown",
   "id": "7f0ab243-3695-4ded-bd40-8427d71cd013",
   "metadata": {},
   "source": [
    "Represent a polynomial $p(x)$ as a list of coefficients `[c0,c1,...,cd]`."
   ]
  },
  {
   "cell_type": "markdown",
   "id": "33dbe8f3-3709-465b-8580-2c040dab0a6d",
   "metadata": {},
   "source": [
    "Write a function called `poly_eval` which takes input parameters `p` (list of coefficients representing a polynomial $p(x)$ as above) and `a`, and returns the value $p(a)$:\n",
    "\n",
    "$$\n",
    "p(a) = c_0 + c_1 a + \\cdots + c_d a^d = \\sum_{k=0}^d c_k a^k\n",
    "$$\n"
   ]
  },
  {
   "cell_type": "code",
   "execution_count": 11,
   "id": "144649e7-2ecb-40ca-b0da-6496a7c4c1a8",
   "metadata": {},
   "outputs": [],
   "source": [
    "def poly_eval(p,a):\n",
    "    \"Evaluate polynomial p(x) at x=a.\"\n",
    "    terms = [p[k]*a**k for k in range(0,len(p))]\n",
    "    value = sum(terms)\n",
    "    return value"
   ]
  },
  {
   "cell_type": "markdown",
   "id": "4533e4c8-9996-45cc-bca7-64c0c10bfb5e",
   "metadata": {},
   "source": [
    "The list `[1,1,1]` represents the polynomial $p(x) = 1 + x+ x^2$ and so $p(2) = 1 + 2 + 2^2 = 7$."
   ]
  },
  {
   "cell_type": "code",
   "execution_count": 12,
   "id": "b75fea19-b748-4c66-b866-e42320d63cc6",
   "metadata": {},
   "outputs": [
    {
     "data": {
      "text/plain": [
       "7"
      ]
     },
     "execution_count": 12,
     "metadata": {},
     "output_type": "execute_result"
    }
   ],
   "source": [
    "poly_eval([1,1,1],2) # Function should return 7"
   ]
  },
  {
   "cell_type": "markdown",
   "id": "01ee4149-d7c1-4cca-8377-f3baaebc8c48",
   "metadata": {},
   "source": [
    "The list `[1,-1,0,1]` represents the polynomial $p(x) = 1 - x + x^3$ and so $p(-2) = -5$."
   ]
  },
  {
   "cell_type": "code",
   "execution_count": 13,
   "id": "f67d47ea-5ae9-41bb-b762-8f999ac0931c",
   "metadata": {},
   "outputs": [
    {
     "data": {
      "text/plain": [
       "-5"
      ]
     },
     "execution_count": 13,
     "metadata": {},
     "output_type": "execute_result"
    }
   ],
   "source": [
    "poly_eval([1,-1,0,1],-2) # Function should return -5"
   ]
  },
  {
   "cell_type": "code",
   "execution_count": 14,
   "id": "7fbcecd0-0fbd-4419-a988-13926893451b",
   "metadata": {},
   "outputs": [
    {
     "data": {
      "text/plain": [
       "0.75"
      ]
     },
     "execution_count": 14,
     "metadata": {},
     "output_type": "execute_result"
    }
   ],
   "source": [
    "poly_eval([1,0,-1],1/2) # Function should return 0.75"
   ]
  },
  {
   "cell_type": "markdown",
   "id": "e66daa6c-4563-4154-b441-f86dd6f15894",
   "metadata": {},
   "source": [
    "For Assignment 1, we are asked to write a function to compute the definite integral of a polynomial $p(x)$. Find an antiderivative $P(x)$ and use the fundamental theorem of calculus:\n",
    "\n",
    "$$\n",
    "\\int_a^b p(x) dx = P(b) - P(a)\n",
    "$$"
   ]
  },
  {
   "cell_type": "markdown",
   "id": "507705a8-64a9-4045-8b70-e169f36eebd4",
   "metadata": {},
   "source": [
    "Write a function `poly_anti` which takes a list `p` (represents a polynomial $p(x)$ as above) and returns the list of coefficients of the antiderivative $P(x)$ of $p(x)$ such that $P(0) = 0$."
   ]
  },
  {
   "cell_type": "code",
   "execution_count": 18,
   "id": "5f1e5ef3-15ff-49e3-a514-5118cf409542",
   "metadata": {},
   "outputs": [],
   "source": [
    "def poly_anti(p):\n",
    "    \"Compute the antiderivative P(x) of p(x) such that P(0)=0.\"\n",
    "    return [0.,0.]"
   ]
  },
  {
   "cell_type": "code",
   "execution_count": 19,
   "id": "b60b6ffb-17f7-4ae6-aedc-808066125d70",
   "metadata": {},
   "outputs": [
    {
     "data": {
      "text/plain": [
       "[0.0, 0.0]"
      ]
     },
     "execution_count": 19,
     "metadata": {},
     "output_type": "execute_result"
    }
   ],
   "source": [
    "poly_anti([1]) # Function should return [0,1] since p(x) = 1 and P(x) = x."
   ]
  },
  {
   "cell_type": "code",
   "execution_count": 17,
   "id": "4333ded8-72a3-4eaa-a2c1-44931a692ab5",
   "metadata": {},
   "outputs": [
    {
     "data": {
      "text/plain": [
       "[0.0, 0.0]"
      ]
     },
     "execution_count": 17,
     "metadata": {},
     "output_type": "execute_result"
    }
   ],
   "source": [
    "# Function should return [0.0,1.0,0.5]\n",
    "# since p(x) = 1 + x and P(x) = x + x^2/2 + C\n",
    "# and C = 0 for P(0)=0 so P(x) is [0.0,1.0,0.5]\n",
    "poly_anti([1,1])"
   ]
  }
 ],
 "metadata": {
  "kernelspec": {
   "display_name": "Python 3 (ipykernel)",
   "language": "python",
   "name": "python3"
  },
  "language_info": {
   "codemirror_mode": {
    "name": "ipython",
    "version": 3
   },
   "file_extension": ".py",
   "mimetype": "text/x-python",
   "name": "python",
   "nbconvert_exporter": "python",
   "pygments_lexer": "ipython3",
   "version": "3.11.6"
  }
 },
 "nbformat": 4,
 "nbformat_minor": 5
}
