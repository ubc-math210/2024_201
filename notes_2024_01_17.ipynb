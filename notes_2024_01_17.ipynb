{
 "cells": [
  {
   "cell_type": "markdown",
   "id": "b6a9d9c7-1a23-49e1-a1eb-ce391fe61fce",
   "metadata": {},
   "source": [
    "# MATH 210 Introduction to Mathematical Computing\n",
    "\n",
    "**January 17, 2024**\n",
    "\n",
    "* Indexing and Slicing\n",
    "* List Comprehensions\n",
    "* Examples"
   ]
  },
  {
   "cell_type": "markdown",
   "id": "7cd69a0e-8e18-49f2-8674-e9fffc2773ea",
   "metadata": {},
   "source": [
    "## Indexing and Slicing\n",
    "\n",
    "Access entries in a sequence using the syntax `listname[i]`. This returns the entry at index `i` of the sequence `listname`."
   ]
  },
  {
   "cell_type": "code",
   "execution_count": 1,
   "id": "17cb8e87-ff44-491c-8701-c25014886700",
   "metadata": {},
   "outputs": [],
   "source": [
    "squares = [0,1,4,9,16,25,36,49,64,81]"
   ]
  },
  {
   "cell_type": "code",
   "execution_count": 2,
   "id": "a68c5127-45bc-4848-a902-e9ab005f45fb",
   "metadata": {},
   "outputs": [
    {
     "name": "stdout",
     "output_type": "stream",
     "text": [
      "[0, 1, 4, 9, 16, 25, 36, 49, 64, 81]\n"
     ]
    }
   ],
   "source": [
    "print(squares)"
   ]
  },
  {
   "cell_type": "code",
   "execution_count": 3,
   "id": "293aec0a-2f09-4a76-ade8-208dae3af1be",
   "metadata": {},
   "outputs": [
    {
     "data": {
      "text/plain": [
       "list"
      ]
     },
     "execution_count": 3,
     "metadata": {},
     "output_type": "execute_result"
    }
   ],
   "source": [
    "type(squares)"
   ]
  },
  {
   "cell_type": "code",
   "execution_count": 4,
   "id": "c0036d14-6206-4603-ab80-930870bef51e",
   "metadata": {},
   "outputs": [
    {
     "data": {
      "text/plain": [
       "25"
      ]
     },
     "execution_count": 4,
     "metadata": {},
     "output_type": "execute_result"
    }
   ],
   "source": [
    "squares[5]"
   ]
  },
  {
   "cell_type": "markdown",
   "id": "38601ddd-6616-4268-9dea-63db7bddedd7",
   "metadata": {},
   "source": [
    "Use negative indices to access entries at the end."
   ]
  },
  {
   "cell_type": "code",
   "execution_count": 5,
   "id": "283ae7f1-d5fc-4ff6-a543-da7f1ff96825",
   "metadata": {},
   "outputs": [
    {
     "data": {
      "text/plain": [
       "81"
      ]
     },
     "execution_count": 5,
     "metadata": {},
     "output_type": "execute_result"
    }
   ],
   "source": [
    "squares[-1]"
   ]
  },
  {
   "cell_type": "markdown",
   "id": "35847285-c4ca-451b-a714-e28815f60e65",
   "metadata": {},
   "source": [
    "Select a subsequence using the syntax `listname[a:b]`. This returns the sequence from index `a` to (not including) `b`."
   ]
  },
  {
   "cell_type": "code",
   "execution_count": 6,
   "id": "78f002c7-12a6-4dda-a384-fee434562b68",
   "metadata": {},
   "outputs": [
    {
     "data": {
      "text/plain": [
       "[9, 16, 25, 36]"
      ]
     },
     "execution_count": 6,
     "metadata": {},
     "output_type": "execute_result"
    }
   ],
   "source": [
    "squares[3:7]"
   ]
  },
  {
   "cell_type": "code",
   "execution_count": 7,
   "id": "25e1306b-026a-4e39-93cf-c6ced6bc7118",
   "metadata": {},
   "outputs": [
    {
     "data": {
      "text/plain": [
       "[0, 1, 4]"
      ]
     },
     "execution_count": 7,
     "metadata": {},
     "output_type": "execute_result"
    }
   ],
   "source": [
    "squares[:3]"
   ]
  },
  {
   "cell_type": "code",
   "execution_count": 8,
   "id": "992fd98f-cc3b-4511-acb2-b7e733c77970",
   "metadata": {},
   "outputs": [
    {
     "data": {
      "text/plain": [
       "[16, 25, 36, 49, 64, 81]"
      ]
     },
     "execution_count": 8,
     "metadata": {},
     "output_type": "execute_result"
    }
   ],
   "source": [
    "squares[4:]"
   ]
  },
  {
   "cell_type": "code",
   "execution_count": 9,
   "id": "180be314-b2f2-458c-9f8f-e3ef317dee57",
   "metadata": {},
   "outputs": [
    {
     "data": {
      "text/plain": [
       "[25, 36, 49, 64]"
      ]
     },
     "execution_count": 9,
     "metadata": {},
     "output_type": "execute_result"
    }
   ],
   "source": [
    "squares[5:-1]"
   ]
  },
  {
   "cell_type": "markdown",
   "id": "eb8f96cf-5dfe-4946-b95a-c7cd57a6f5ff",
   "metadata": {},
   "source": [
    "## List Comprehensions\n",
    "\n",
    "It is inefficient to manually type all the entries in a list. There is a beautiful construction in Python called a list comprehension to quickly create lists. The basic construction is:\n",
    "\n",
    "```\n",
    "listname = [ expression for item in sequence ]\n",
    "```\n",
    "\n",
    "where:\n",
    "\n",
    "* `listname` is the variable name assigned to the list created\n",
    "* `expression` is any Python expression involving the variable `item`\n",
    "* `item` is variable which is assigned each value is `sequence`\n",
    "* `sequence` is any sequence\n",
    "* the keywords `for` and `in` designate `item` as the variable and `sequence` as the sequence of values for `item`"
   ]
  },
  {
   "cell_type": "code",
   "execution_count": 10,
   "id": "aeb56559-5087-4d98-b96f-9e1341f95aa1",
   "metadata": {},
   "outputs": [],
   "source": [
    "squares = [n**2 for n in [0,1,2,3,4,5,6,7,8,9]]"
   ]
  },
  {
   "cell_type": "code",
   "execution_count": 11,
   "id": "d4938c11-66cb-4d29-ae38-172201a13b2f",
   "metadata": {},
   "outputs": [
    {
     "name": "stdout",
     "output_type": "stream",
     "text": [
      "[0, 1, 4, 9, 16, 25, 36, 49, 64, 81]\n"
     ]
    }
   ],
   "source": [
    "print(squares)"
   ]
  },
  {
   "cell_type": "code",
   "execution_count": 12,
   "id": "ba0db228-754c-4f1e-a795-ce40b44294ad",
   "metadata": {},
   "outputs": [],
   "source": [
    "squares = [n**2 for n in range(10)]"
   ]
  },
  {
   "cell_type": "code",
   "execution_count": 13,
   "id": "639b3f71-ea93-45a5-b051-0749dd27b77e",
   "metadata": {},
   "outputs": [
    {
     "name": "stdout",
     "output_type": "stream",
     "text": [
      "[0, 1, 4, 9, 16, 25, 36, 49, 64, 81]\n"
     ]
    }
   ],
   "source": [
    "print(squares)"
   ]
  },
  {
   "cell_type": "markdown",
   "id": "99efc476-5ef2-4948-90d8-14035a1a23dd",
   "metadata": {},
   "source": [
    "How do we create the list `[0.0,0.1,0.2, ... ,1.0]`?"
   ]
  },
  {
   "cell_type": "code",
   "execution_count": 14,
   "id": "33126c0b-95c4-4278-8762-54e12be93589",
   "metadata": {},
   "outputs": [],
   "source": [
    "xvalues = [i/10 for i in range(11)]"
   ]
  },
  {
   "cell_type": "code",
   "execution_count": 15,
   "id": "e7fffc5a-386a-4b13-a785-211748e790d6",
   "metadata": {},
   "outputs": [
    {
     "name": "stdout",
     "output_type": "stream",
     "text": [
      "[0.0, 0.1, 0.2, 0.3, 0.4, 0.5, 0.6, 0.7, 0.8, 0.9, 1.0]\n"
     ]
    }
   ],
   "source": [
    "print(xvalues)"
   ]
  },
  {
   "cell_type": "code",
   "execution_count": 16,
   "id": "8d1aead6-f81f-4666-8c88-e3005aefeb48",
   "metadata": {},
   "outputs": [
    {
     "ename": "TypeError",
     "evalue": "'float' object cannot be interpreted as an integer",
     "output_type": "error",
     "traceback": [
      "\u001b[0;31m---------------------------------------------------------------------------\u001b[0m",
      "\u001b[0;31mTypeError\u001b[0m                                 Traceback (most recent call last)",
      "Cell \u001b[0;32mIn[16], line 1\u001b[0m\n\u001b[0;32m----> 1\u001b[0m \u001b[38;5;28;43mrange\u001b[39;49m\u001b[43m(\u001b[49m\u001b[38;5;241;43m0\u001b[39;49m\u001b[43m,\u001b[49m\u001b[38;5;241;43m1\u001b[39;49m\u001b[43m,\u001b[49m\u001b[38;5;241;43m0.1\u001b[39;49m\u001b[43m)\u001b[49m\n",
      "\u001b[0;31mTypeError\u001b[0m: 'float' object cannot be interpreted as an integer"
     ]
    }
   ],
   "source": [
    "range(0,1,0.1)"
   ]
  },
  {
   "cell_type": "code",
   "execution_count": 17,
   "id": "928a5509-66e8-4a8a-956a-aa90f5c38d12",
   "metadata": {},
   "outputs": [
    {
     "data": {
      "text/plain": [
       "\u001b[0;31mInit signature:\u001b[0m \u001b[0mrange\u001b[0m\u001b[0;34m(\u001b[0m\u001b[0mself\u001b[0m\u001b[0;34m,\u001b[0m \u001b[0;34m/\u001b[0m\u001b[0;34m,\u001b[0m \u001b[0;34m*\u001b[0m\u001b[0margs\u001b[0m\u001b[0;34m,\u001b[0m \u001b[0;34m**\u001b[0m\u001b[0mkwargs\u001b[0m\u001b[0;34m)\u001b[0m\u001b[0;34m\u001b[0m\u001b[0;34m\u001b[0m\u001b[0m\n",
       "\u001b[0;31mDocstring:\u001b[0m     \n",
       "range(stop) -> range object\n",
       "range(start, stop[, step]) -> range object\n",
       "\n",
       "Return an object that produces a sequence of integers from start (inclusive)\n",
       "to stop (exclusive) by step.  range(i, j) produces i, i+1, i+2, ..., j-1.\n",
       "start defaults to 0, and stop is omitted!  range(4) produces 0, 1, 2, 3.\n",
       "These are exactly the valid indices for a list of 4 elements.\n",
       "When step is given, it specifies the increment (or decrement).\n",
       "\u001b[0;31mType:\u001b[0m           type\n",
       "\u001b[0;31mSubclasses:\u001b[0m     "
      ]
     },
     "metadata": {},
     "output_type": "display_data"
    }
   ],
   "source": [
    "range?"
   ]
  },
  {
   "cell_type": "markdown",
   "id": "f747a7fe-3ecb-4ea2-8f5c-2ba58a40c940",
   "metadata": {},
   "source": [
    "Note that Python can only store finite sequences. Therefore we are always approximating infinite series with partial sums."
   ]
  },
  {
   "cell_type": "markdown",
   "id": "f5a1feb5-c404-4e01-8789-3bbbf35349ad",
   "metadata": {},
   "source": [
    "What about $x_n = (-1)^{n+1}/n$ for $n = 1,\\dots,10$?"
   ]
  },
  {
   "cell_type": "code",
   "execution_count": 18,
   "id": "f544ef36-1624-4df0-8d31-90220253489e",
   "metadata": {},
   "outputs": [],
   "source": [
    "xvalues = [(-1)**(n+1)/n for n in range(1,11)]"
   ]
  },
  {
   "cell_type": "code",
   "execution_count": 19,
   "id": "a0dc0975-b57c-4306-a46c-0315ed7564e9",
   "metadata": {},
   "outputs": [
    {
     "name": "stdout",
     "output_type": "stream",
     "text": [
      "[1.0, -0.5, 0.3333333333333333, -0.25, 0.2, -0.16666666666666666, 0.14285714285714285, -0.125, 0.1111111111111111, -0.1]\n"
     ]
    }
   ],
   "source": [
    "print(xvalues)"
   ]
  },
  {
   "cell_type": "markdown",
   "id": "a5543365-4181-497c-b7a5-5d98d669d4f0",
   "metadata": {},
   "source": [
    "## Examples\n",
    "\n",
    "### Geometric Series\n",
    "\n",
    "The geometric series is\n",
    "\n",
    "$$\n",
    "\\sum_{n=0}^{N} x^n = 1 + x + x^2 + \\cdots + x^N = \\frac{1 - x^{N+1}}{1 - x} \\ , \\ \\ x \\ne 1\n",
    "$$\n",
    "\n",
    "Let's compute the left side and right side and verify that they are equal."
   ]
  },
  {
   "cell_type": "code",
   "execution_count": 20,
   "id": "91f50bf9-ef93-46fe-9064-d471f02168f0",
   "metadata": {},
   "outputs": [
    {
     "name": "stdout",
     "output_type": "stream",
     "text": [
      "[1, 2, 4, 8, 16, 32]\n",
      "63\n",
      "63.0\n"
     ]
    }
   ],
   "source": [
    "x = 2\n",
    "N = 5\n",
    "terms = [x**n for n in range(N+1)]\n",
    "print(terms)\n",
    "series = sum(terms)\n",
    "print(series)\n",
    "formula = (1 - x**(N+1))/(1 - x)\n",
    "print(formula)"
   ]
  },
  {
   "cell_type": "code",
   "execution_count": 21,
   "id": "26495c41-fd34-4dfd-b0eb-22f433799f45",
   "metadata": {},
   "outputs": [
    {
     "name": "stdout",
     "output_type": "stream",
     "text": [
      "2.0\n",
      "2.0\n"
     ]
    }
   ],
   "source": [
    "x = 1/2\n",
    "N = 100\n",
    "terms = [x**n for n in range(N+1)]\n",
    "series = sum(terms)\n",
    "print(series)\n",
    "formula = (1 - x**(N+1))/(1 - x)\n",
    "print(formula)"
   ]
  },
  {
   "cell_type": "markdown",
   "id": "13028a29-59f1-4fde-9f2c-6bcb53cc246b",
   "metadata": {},
   "source": [
    "### Taylor Series\n",
    "\n",
    "The Taylor series of $\\log(1 + x)$ is\n",
    "\n",
    "$$\n",
    "\\log(1 + x) = \\sum_{k = 1}^{\\infty} \\frac{(-1)^{k+1} x^k}{k} \\ , \\ \\ |x| < 1\n",
    "$$\n",
    "\n",
    "Approximate $\\log(1/2)$ using partial sum up to (and including) $N=1000$.\n",
    "\n",
    "Note: $\\log$ is the natural logarithm."
   ]
  },
  {
   "cell_type": "code",
   "execution_count": 22,
   "id": "debe8606-0c58-4b88-9f14-3637d60a7277",
   "metadata": {},
   "outputs": [
    {
     "name": "stdout",
     "output_type": "stream",
     "text": [
      "-0.6931471805599451\n"
     ]
    }
   ],
   "source": [
    "x = -1/2\n",
    "N = 1000\n",
    "terms = [(-1)**(k+1)*x**k/k for k in range(1,N+1)]\n",
    "series = sum(terms)\n",
    "print(series)"
   ]
  },
  {
   "cell_type": "markdown",
   "id": "827766e2-a0b4-40f9-a956-0a033f6e2aca",
   "metadata": {},
   "source": [
    "The Taylor series of $\\arctan(x)$ is\n",
    "\n",
    "$$\n",
    "\\arctan(x) = \\sum_{k=0}^{\\infty} \\frac{(-1)^k x^{2k + 1}}{2k + 1} \\ , \\ \\ |x|<1\n",
    "$$\n",
    "\n",
    "Approximate $\\arctan(1/\\sqrt{3})$ with $N=1000$. Compare to the exact value. How big should $N$ be for the approximation to agree with the exact value up to 5 decimal places?"
   ]
  },
  {
   "cell_type": "code",
   "execution_count": 23,
   "id": "40a2654a-31ec-40ba-95ef-d9175c9d5bb5",
   "metadata": {},
   "outputs": [
    {
     "name": "stdout",
     "output_type": "stream",
     "text": [
      "0.5235987755982989\n"
     ]
    }
   ],
   "source": [
    "x = 1/3**0.5\n",
    "N = 100\n",
    "terms = [(-1)**k*x**(2*k+1)/(2*k+1) for k in range(0,N+1)]\n",
    "series = sum(terms)\n",
    "print(series)"
   ]
  },
  {
   "cell_type": "code",
   "execution_count": 24,
   "id": "b8c677ba-f651-45ab-85ff-7b0237c6e08d",
   "metadata": {},
   "outputs": [
    {
     "data": {
      "text/plain": [
       "0.5235987755833333"
      ]
     },
     "execution_count": 24,
     "metadata": {},
     "output_type": "execute_result"
    }
   ],
   "source": [
    "pi = 3.1415926535\n",
    "pi/6"
   ]
  },
  {
   "cell_type": "code",
   "execution_count": 25,
   "id": "f94a5024-dd54-41b6-84e5-708ba535f4fa",
   "metadata": {},
   "outputs": [
    {
     "data": {
      "text/plain": [
       "1.4965584327342185e-11"
      ]
     },
     "execution_count": 25,
     "metadata": {},
     "output_type": "execute_result"
    }
   ],
   "source": [
    "series - pi/6"
   ]
  },
  {
   "cell_type": "code",
   "execution_count": 26,
   "id": "498cb3dc-f850-48a1-9cdb-31aa64eb3736",
   "metadata": {},
   "outputs": [
    {
     "name": "stdout",
     "output_type": "stream",
     "text": [
      "0.7854231608976336\n"
     ]
    }
   ],
   "source": [
    "x = 1\n",
    "N = 10000\n",
    "terms = [(-1)**k*x**(2*k+1)/(2*k+1) for k in range(0,N+1)]\n",
    "series = sum(terms)\n",
    "print(series)"
   ]
  },
  {
   "cell_type": "code",
   "execution_count": 27,
   "id": "2dd4e870-23e1-4991-adf8-3741e827b4d8",
   "metadata": {},
   "outputs": [
    {
     "data": {
      "text/plain": [
       "0.785398163375"
      ]
     },
     "execution_count": 27,
     "metadata": {},
     "output_type": "execute_result"
    }
   ],
   "source": [
    "pi/4"
   ]
  }
 ],
 "metadata": {
  "kernelspec": {
   "display_name": "Python 3 (ipykernel)",
   "language": "python",
   "name": "python3"
  },
  "language_info": {
   "codemirror_mode": {
    "name": "ipython",
    "version": 3
   },
   "file_extension": ".py",
   "mimetype": "text/x-python",
   "name": "python",
   "nbconvert_exporter": "python",
   "pygments_lexer": "ipython3",
   "version": "3.11.6"
  }
 },
 "nbformat": 4,
 "nbformat_minor": 5
}
