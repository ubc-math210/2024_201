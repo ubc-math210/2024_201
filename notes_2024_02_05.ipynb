{
 "cells": [
  {
   "cell_type": "markdown",
   "id": "16f56314-e06d-446f-a41a-a0eb3e863d39",
   "metadata": {},
   "source": [
    "# MATH 210 Introduction to Mathematical Computing\n",
    "\n",
    "**February 5, 2024**"
   ]
  },
  {
   "cell_type": "markdown",
   "id": "cfff1b26-1136-4c4d-881f-831df80a205b",
   "metadata": {},
   "source": [
    "## Newton's Method"
   ]
  },
  {
   "cell_type": "markdown",
   "id": "ab025103-db0c-4335-b9a7-cf11e0b1e8a4",
   "metadata": {},
   "source": [
    "Write a function called `newton` which takes input parameters `f`, `df`, `x0` and `N` (default value 10), and return the approximation of a root near $x_0$ by $N$ iterations of Newton's method."
   ]
  },
  {
   "cell_type": "code",
   "execution_count": 1,
   "id": "60e30cf1-f66b-40d9-9a8d-ed4ae557288d",
   "metadata": {},
   "outputs": [],
   "source": [
    "def newton(f,df,x0,N=10):\n",
    "    xn = x0\n",
    "    for n in range(N):\n",
    "        xn = xn - f(xn)/df(xn)\n",
    "    return xn"
   ]
  },
  {
   "cell_type": "code",
   "execution_count": 2,
   "id": "34adcd98-bac1-439e-a4b8-efb1d21ed40a",
   "metadata": {},
   "outputs": [
    {
     "name": "stdout",
     "output_type": "stream",
     "text": [
      "-1.0\n"
     ]
    }
   ],
   "source": [
    "f = lambda x: x + 1\n",
    "df = lambda x: 1\n",
    "x0 = 2\n",
    "N = 1\n",
    "result = newton(f,df,x0,N)\n",
    "print(result) # Should return -1"
   ]
  },
  {
   "cell_type": "code",
   "execution_count": 3,
   "id": "c016cc1c-69e9-4b8a-9686-5737a964d7c2",
   "metadata": {},
   "outputs": [
    {
     "name": "stdout",
     "output_type": "stream",
     "text": [
      "1.5\n"
     ]
    }
   ],
   "source": [
    "f = lambda x: x**2 - 2\n",
    "df = lambda x: 2*x\n",
    "x0 = 2\n",
    "N = 1\n",
    "result = newton(f,df,x0,N)\n",
    "print(result) # Should return x1 = x0 - (x0**2 - 2)/(2*x0) = 2-1/2 = 1.5"
   ]
  },
  {
   "cell_type": "code",
   "execution_count": 4,
   "id": "e2c24ef0-c205-4324-84c8-34081c993149",
   "metadata": {},
   "outputs": [
    {
     "name": "stdout",
     "output_type": "stream",
     "text": [
      "0.6180339887498948\n"
     ]
    }
   ],
   "source": [
    "f = lambda x: x**2 + x - 1\n",
    "df = lambda x: 2*x + 1\n",
    "x0 = 2\n",
    "N = 10\n",
    "result = newton(f,df,x0,N)\n",
    "print(result) # Should return approximately 0.6180339887498949"
   ]
  },
  {
   "cell_type": "code",
   "execution_count": 5,
   "id": "2f7dd476-73e9-46c3-ada8-69a8c093127b",
   "metadata": {},
   "outputs": [
    {
     "data": {
      "text/plain": [
       "0.6180339887498949"
      ]
     },
     "execution_count": 5,
     "metadata": {},
     "output_type": "execute_result"
    }
   ],
   "source": [
    "(-1 + 5**0.5)/2"
   ]
  },
  {
   "cell_type": "code",
   "execution_count": 6,
   "id": "c31b03ac-555a-4d3b-bc4e-97fde228e783",
   "metadata": {},
   "outputs": [
    {
     "name": "stdout",
     "output_type": "stream",
     "text": [
      "-1.618033988749895\n"
     ]
    }
   ],
   "source": [
    "f = lambda x: x**2 + x - 1\n",
    "df = lambda x: 2*x + 1\n",
    "x0 = -1\n",
    "N = 10\n",
    "result = newton(f,df,x0,N)\n",
    "print(result) # Should return approximately -1.618033988749895"
   ]
  },
  {
   "cell_type": "code",
   "execution_count": 7,
   "id": "41e8ead6-80ae-4e2e-b99d-ef765b2acca4",
   "metadata": {},
   "outputs": [
    {
     "data": {
      "text/plain": [
       "-1.618033988749895"
      ]
     },
     "execution_count": 7,
     "metadata": {},
     "output_type": "execute_result"
    }
   ],
   "source": [
    "(-1 - 5**0.5)/2"
   ]
  },
  {
   "cell_type": "markdown",
   "id": "bb550436-b72e-4316-8f50-3867125a743a",
   "metadata": {},
   "source": [
    "Approximate a solution of the equation $x^x = 2$."
   ]
  },
  {
   "cell_type": "markdown",
   "id": "45cd689c-5c2c-4ba6-9d81-1be3ffcf2c54",
   "metadata": {},
   "source": [
    "What's the derivative of $x^x$? Yikes! Involves $\\log(x)$ but we don't have that function yet. This is one of the disadvantages of Newton's method. The derivative of $f(x)$ might be complicated."
   ]
  },
  {
   "cell_type": "markdown",
   "id": "7aaac78b-7e5c-473a-a3a7-18e9c5a5a65b",
   "metadata": {},
   "source": [
    "## Secant Method"
   ]
  },
  {
   "cell_type": "code",
   "execution_count": 8,
   "id": "d2383525-fbcc-4b96-b588-905612bbd4e4",
   "metadata": {},
   "outputs": [],
   "source": [
    "def secant(f,a,b,N):\n",
    "    an = a\n",
    "    bn = b\n",
    "    sn = an - f(an)*(bn - an)/(f(bn) - f(an))\n",
    "    for n in range(N):\n",
    "        if f(an)*f(sn) < 0:\n",
    "            bn = sn\n",
    "            sn = an - f(an)*(bn - an)/(f(bn) - f(an))\n",
    "        elif f(bn)*f(sn) < 0:\n",
    "            an = sn\n",
    "            sn = an - f(an)*(bn - an)/(f(bn) - f(an))\n",
    "        else:\n",
    "            print(\"Unknown Error!\")\n",
    "            return None\n",
    "    return sn"
   ]
  },
  {
   "cell_type": "code",
   "execution_count": 9,
   "id": "21629c7e-05e8-4eda-92d1-c80aa099259d",
   "metadata": {},
   "outputs": [
    {
     "data": {
      "text/plain": [
       "1.8404693324924892e-09"
      ]
     },
     "execution_count": 9,
     "metadata": {},
     "output_type": "execute_result"
    }
   ],
   "source": [
    "result = secant(lambda x: x**2 - 2,1,2,10)\n",
    "abs(2**0.5 - result)"
   ]
  },
  {
   "cell_type": "code",
   "execution_count": 10,
   "id": "038b3dce-77a8-4e11-9db9-f49e42dba98d",
   "metadata": {},
   "outputs": [],
   "source": [
    "def bisection(f,a,b,N):\n",
    "    an = a\n",
    "    bn = b\n",
    "    mn = (an + bn)/2\n",
    "    for n in range(N):\n",
    "        if f(an)*f(mn) < 0:\n",
    "            bn = mn\n",
    "            mn = (an + bn)/2\n",
    "        elif f(bn)*f(mn) < 0:\n",
    "            an = mn\n",
    "            mn = (an + bn)/2\n",
    "        else:\n",
    "            print(\"Unknown Error!\")\n",
    "            return None\n",
    "    return mn"
   ]
  },
  {
   "cell_type": "code",
   "execution_count": 11,
   "id": "faef676e-4003-436a-aae6-848fc324807b",
   "metadata": {},
   "outputs": [
    {
     "data": {
      "text/plain": [
       "5.599088082064441e-09"
      ]
     },
     "execution_count": 11,
     "metadata": {},
     "output_type": "execute_result"
    }
   ],
   "source": [
    "result = bisection(lambda x: x**2 - 2,1,2,24)\n",
    "abs(2**0.5 - result)"
   ]
  },
  {
   "cell_type": "markdown",
   "id": "45bab67d-e088-424e-985c-37d46ff83d77",
   "metadata": {},
   "source": [
    "We need $N=24$ iterations of bisection method to get the same level of accuracy for this example compared to $N=10$ for the secant method."
   ]
  },
  {
   "cell_type": "markdown",
   "id": "ffbd49fc-d34b-4344-8b71-41f675c7d3dc",
   "metadata": {},
   "source": [
    "We don't need the derivative for the secant method and it converges faster than the biseciton method but slower than Newton's method."
   ]
  }
 ],
 "metadata": {
  "kernelspec": {
   "display_name": "Python 3 (ipykernel)",
   "language": "python",
   "name": "python3"
  },
  "language_info": {
   "codemirror_mode": {
    "name": "ipython",
    "version": 3
   },
   "file_extension": ".py",
   "mimetype": "text/x-python",
   "name": "python",
   "nbconvert_exporter": "python",
   "pygments_lexer": "ipython3",
   "version": "3.11.6"
  }
 },
 "nbformat": 4,
 "nbformat_minor": 5
}
