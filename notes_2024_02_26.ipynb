{
 "cells": [
  {
   "cell_type": "markdown",
   "id": "f0243566-4cb0-493d-ac1f-820414b67f7b",
   "metadata": {},
   "source": [
    "# MATH 210 Introduction to Mathematical Computing\n",
    "\n",
    "**February 26, 2024**"
   ]
  },
  {
   "cell_type": "code",
   "execution_count": 1,
   "id": "1070f692-53fb-4b9b-b6cb-e00b94459b2c",
   "metadata": {},
   "outputs": [],
   "source": [
    "import numpy as np\n",
    "import matplotlib.pyplot as plt"
   ]
  },
  {
   "cell_type": "markdown",
   "id": "b14f6ea0-5e64-45e3-ab99-0ae9aa7bf886",
   "metadata": {},
   "source": [
    "Visualize the rectangles in a left Riemann sum:\n",
    "\n",
    "$$\n",
    "L_N(f) = \\sum_{k=1}^N f(x_{k-1}) \\Delta x\n",
    "$$"
   ]
  },
  {
   "cell_type": "code",
   "execution_count": 2,
   "id": "7388b6ab-7fe7-44e7-80d5-11ce759cde13",
   "metadata": {},
   "outputs": [
    {
     "data": {
      "image/png": "[encoded data removed]",
      "text/plain": [
       "<Figure size 640x480 with 1 Axes>"
      ]
     },
     "metadata": {},
     "output_type": "display_data"
    }
   ],
   "source": [
    "f = lambda x: 2 - x**2\n",
    "a = -1\n",
    "b = 1\n",
    "N = 10\n",
    "dx = (b - a)/N\n",
    "x = np.linspace(a,b,N+1)\n",
    "y = f(x)\n",
    "\n",
    "plt.bar(x[:-1],y[:-1],width=dx,edgecolor='r',align='edge')\n",
    "plt.show()"
   ]
  },
  {
   "cell_type": "markdown",
   "id": "6800db75-763f-40c2-bbde-7192b3d224aa",
   "metadata": {},
   "source": [
    "Compute the left Riemann sum for $\\int_0^1 \\sin(\\pi x) dx$ for $N=100$ equally spaced partition and compare to the exact value $2/\\pi$."
   ]
  },
  {
   "cell_type": "code",
   "execution_count": 3,
   "id": "ed202a30-c74e-4444-9b06-be64d6fc8d69",
   "metadata": {},
   "outputs": [
    {
     "name": "stdout",
     "output_type": "stream",
     "text": [
      "0.6365674116287159\n"
     ]
    }
   ],
   "source": [
    "f = lambda x: np.sin(np.pi*x)\n",
    "a = 0\n",
    "b = 1\n",
    "N = 100\n",
    "x = np.linspace(a,b,N+1)\n",
    "dx = (b - a)/N\n",
    "y = f(x)\n",
    "L = np.sum(y[:-1])*dx\n",
    "print(L)"
   ]
  },
  {
   "cell_type": "code",
   "execution_count": 4,
   "id": "eddb375c-cc6e-4e63-b1c0-47f028ef84e0",
   "metadata": {},
   "outputs": [
    {
     "data": {
      "text/plain": [
       "0.6366197723675814"
      ]
     },
     "execution_count": 4,
     "metadata": {},
     "output_type": "execute_result"
    }
   ],
   "source": [
    "2/np.pi"
   ]
  },
  {
   "cell_type": "markdown",
   "id": "248fe0f4-b98c-407e-9ba2-bbb47cc011f6",
   "metadata": {},
   "source": [
    "Compute the right riemann sum."
   ]
  },
  {
   "cell_type": "code",
   "execution_count": 5,
   "id": "6f123041-29f9-453e-b0a0-1ed0527e45ab",
   "metadata": {},
   "outputs": [
    {
     "name": "stdout",
     "output_type": "stream",
     "text": [
      "0.6365674116287159\n"
     ]
    }
   ],
   "source": [
    "f = lambda x: np.sin(np.pi*x)\n",
    "a = 0\n",
    "b = 1\n",
    "N = 100\n",
    "x = np.linspace(a,b,N+1)\n",
    "dx = (b - a)/N\n",
    "y = f(x)\n",
    "R = np.sum(y[1:])*dx\n",
    "print(R)"
   ]
  },
  {
   "cell_type": "markdown",
   "id": "64480d7e-d565-48df-a66e-8e22cc0dd422",
   "metadata": {},
   "source": [
    "Write a function called `riemann` which takes `f`, `a`, `b`, `N` and `endpoint`, and returns the Riemann sum for $N+1$ equally spaced points using left endpoints if `endpoint` is `left` and right endpoints if `endpoint` is `right`."
   ]
  },
  {
   "cell_type": "code",
   "execution_count": 7,
   "id": "f0be8dea-835b-4de3-8d5b-781baa1456fc",
   "metadata": {},
   "outputs": [],
   "source": [
    "def riemann(f,a,b,N,endpoint):\n",
    "    x = np.linspace(a,b,N+1)\n",
    "    dx = (b - a)/N\n",
    "    y = f(x)\n",
    "    if endpoint == 'left':\n",
    "        result = np.sum(y[:-1])*dx\n",
    "    elif endpoint == 'right':\n",
    "        result = np.sum(y[1:])*dx\n",
    "    else:\n",
    "        print(\"Expecting endpoint as either 'left' or 'right'.\")\n",
    "        return None\n",
    "    return result"
   ]
  },
  {
   "cell_type": "code",
   "execution_count": 8,
   "id": "2816fcb4-257e-4865-8e41-42bf30595a4c",
   "metadata": {},
   "outputs": [
    {
     "name": "stdout",
     "output_type": "stream",
     "text": [
      "0.7499786042621126\n"
     ]
    }
   ],
   "source": [
    "f = lambda x: np.exp(-x**2)\n",
    "a = 0\n",
    "b = 1\n",
    "N = 100\n",
    "I = riemann(f,a,b,N,'left')\n",
    "print(I)"
   ]
  },
  {
   "cell_type": "code",
   "execution_count": 9,
   "id": "7c862b57-926f-4c8b-924d-dc88a1d9e1db",
   "metadata": {},
   "outputs": [
    {
     "data": {
      "text/plain": [
       "0.36787944117144233"
      ]
     },
     "execution_count": 9,
     "metadata": {},
     "output_type": "execute_result"
    }
   ],
   "source": [
    "1/np.e"
   ]
  }
 ],
 "metadata": {
  "kernelspec": {
   "display_name": "Python 3 (ipykernel)",
   "language": "python",
   "name": "python3"
  },
  "language_info": {
   "codemirror_mode": {
    "name": "ipython",
    "version": 3
   },
   "file_extension": ".py",
   "mimetype": "text/x-python",
   "name": "python",
   "nbconvert_exporter": "python",
   "pygments_lexer": "ipython3",
   "version": "3.11.6"
  }
 },
 "nbformat": 4,
 "nbformat_minor": 5
}
