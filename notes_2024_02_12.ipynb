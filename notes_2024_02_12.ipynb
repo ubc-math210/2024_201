{
 "cells": [
  {
   "cell_type": "markdown",
   "id": "de084843-0911-418b-872f-8e159df72169",
   "metadata": {},
   "source": [
    "# MATH 210 Introduction to Mathematical Computing\n",
    "\n",
    "**February 12, 2024**"
   ]
  },
  {
   "cell_type": "code",
   "execution_count": 1,
   "id": "b75d521b-6a5a-44a4-837b-6eeb5046d31b",
   "metadata": {
    "tags": []
   },
   "outputs": [],
   "source": [
    "import numpy as np"
   ]
  },
  {
   "cell_type": "markdown",
   "id": "b1022c8c-5f4a-429f-a8cc-f6e41a7468c4",
   "metadata": {},
   "source": [
    "## NumPy Arrays"
   ]
  },
  {
   "cell_type": "markdown",
   "id": "920b292d-4d96-4a7c-b5a3-34393c64f022",
   "metadata": {},
   "source": [
    "A NumPy array is like a vector or matrix. We can create a NumPy array with the function `np.array`."
   ]
  },
  {
   "cell_type": "code",
   "execution_count": 2,
   "id": "e5962b5d-d5dc-464d-8e7e-33d37c2fbfb2",
   "metadata": {
    "tags": []
   },
   "outputs": [
    {
     "data": {
      "text/plain": [
       "array([1., 2., 3., 4.])"
      ]
     },
     "execution_count": 2,
     "metadata": {},
     "output_type": "execute_result"
    }
   ],
   "source": [
    "v = np.array([1.,2.,3.,4.])\n",
    "v"
   ]
  },
  {
   "cell_type": "code",
   "execution_count": 3,
   "id": "64e36e95-66cc-4eb8-aeea-bbc0fc09b754",
   "metadata": {
    "tags": []
   },
   "outputs": [
    {
     "data": {
      "text/plain": [
       "numpy.ndarray"
      ]
     },
     "execution_count": 3,
     "metadata": {},
     "output_type": "execute_result"
    }
   ],
   "source": [
    "type(v)"
   ]
  },
  {
   "cell_type": "code",
   "execution_count": 4,
   "id": "ce54e11f-05cd-490e-9cb2-374efba73885",
   "metadata": {
    "tags": []
   },
   "outputs": [
    {
     "data": {
      "text/plain": [
       "dtype('float64')"
      ]
     },
     "execution_count": 4,
     "metadata": {},
     "output_type": "execute_result"
    }
   ],
   "source": [
    "v.dtype"
   ]
  },
  {
   "cell_type": "markdown",
   "id": "4c6e1438-00f5-4627-a1ef-54fa9ae13dff",
   "metadata": {},
   "source": [
    "Note that we are deliberately entering values as floats since NumPy arrays have a defined type for their entries and we want it to be float."
   ]
  },
  {
   "cell_type": "markdown",
   "id": "323cc96c-00bc-48be-ae53-72bfddae387e",
   "metadata": {},
   "source": [
    "A NumPy array is a Python object. In general, a Python object is a bundle of data (called attributes) and functionality (called methods). Attributes of a NumPy array include the entries, the datatypes of the entries, number of dimensions, size and shape. Access attributes by the dot syntax."
   ]
  },
  {
   "cell_type": "code",
   "execution_count": 5,
   "id": "f0ba5e73-4d9c-44a5-ab04-50a6937a7ab5",
   "metadata": {
    "tags": []
   },
   "outputs": [
    {
     "data": {
      "text/plain": [
       "dtype('float64')"
      ]
     },
     "execution_count": 5,
     "metadata": {},
     "output_type": "execute_result"
    }
   ],
   "source": [
    "v.dtype"
   ]
  },
  {
   "cell_type": "code",
   "execution_count": 6,
   "id": "e1d31d41-2b9e-43c5-a799-a0d5053d3c4c",
   "metadata": {
    "tags": []
   },
   "outputs": [
    {
     "data": {
      "text/plain": [
       "1"
      ]
     },
     "execution_count": 6,
     "metadata": {},
     "output_type": "execute_result"
    }
   ],
   "source": [
    "v.ndim"
   ]
  },
  {
   "cell_type": "code",
   "execution_count": 7,
   "id": "7814bbdd-ac3e-4c31-bed2-c4db33d5ad2a",
   "metadata": {
    "tags": []
   },
   "outputs": [
    {
     "data": {
      "text/plain": [
       "(4,)"
      ]
     },
     "execution_count": 7,
     "metadata": {},
     "output_type": "execute_result"
    }
   ],
   "source": [
    "v.shape"
   ]
  },
  {
   "cell_type": "code",
   "execution_count": 8,
   "id": "ac36bc3d-8809-4dbb-894e-bf82e27929ed",
   "metadata": {
    "tags": []
   },
   "outputs": [
    {
     "data": {
      "text/plain": [
       "4"
      ]
     },
     "execution_count": 8,
     "metadata": {},
     "output_type": "execute_result"
    }
   ],
   "source": [
    "v.size"
   ]
  },
  {
   "cell_type": "markdown",
   "id": "79213613-5842-4059-836d-132824791ff9",
   "metadata": {},
   "source": [
    "A method is a function we can apply to an object. For example, we can sum the entries of an array."
   ]
  },
  {
   "cell_type": "code",
   "execution_count": 9,
   "id": "a9c57407-78e1-4eb9-9246-3b30f8b3cafd",
   "metadata": {
    "tags": []
   },
   "outputs": [
    {
     "data": {
      "text/plain": [
       "10.0"
      ]
     },
     "execution_count": 9,
     "metadata": {},
     "output_type": "execute_result"
    }
   ],
   "source": [
    "v.sum()"
   ]
  },
  {
   "cell_type": "code",
   "execution_count": 10,
   "id": "717b96bf-d3b0-48bd-bc37-34e0df94122d",
   "metadata": {
    "tags": []
   },
   "outputs": [
    {
     "data": {
      "text/plain": [
       "10.0"
      ]
     },
     "execution_count": 10,
     "metadata": {},
     "output_type": "execute_result"
    }
   ],
   "source": [
    "np.sum(v)"
   ]
  },
  {
   "cell_type": "code",
   "execution_count": 11,
   "id": "5c9fe4a4-a028-401e-853b-a9f826d82574",
   "metadata": {
    "tags": []
   },
   "outputs": [
    {
     "data": {
      "text/plain": [
       "4.0"
      ]
     },
     "execution_count": 11,
     "metadata": {},
     "output_type": "execute_result"
    }
   ],
   "source": [
    "v.max()"
   ]
  },
  {
   "cell_type": "markdown",
   "id": "c2a16c7f-4a56-43db-9d67-eb0c45c76170",
   "metadata": {},
   "source": [
    "A 2D NumPy array is like a matrix."
   ]
  },
  {
   "cell_type": "code",
   "execution_count": 12,
   "id": "1eb17145-8646-4a4e-bb7a-101842c28938",
   "metadata": {
    "tags": []
   },
   "outputs": [
    {
     "data": {
      "text/plain": [
       "array([[1., 2., 3.],\n",
       "       [4., 5., 6.],\n",
       "       [7., 8., 9.]])"
      ]
     },
     "execution_count": 12,
     "metadata": {},
     "output_type": "execute_result"
    }
   ],
   "source": [
    "A = np.array([[1.0,2.0,3.0],[4.0,5.0,6.0],[7.0,8.0,9.0]])\n",
    "A"
   ]
  },
  {
   "cell_type": "code",
   "execution_count": 13,
   "id": "c18d8b08-bd53-413a-bcc4-69e8192cfb72",
   "metadata": {
    "tags": []
   },
   "outputs": [
    {
     "data": {
      "text/plain": [
       "array([[1., 2., 3.],\n",
       "       [4., 5., 6.],\n",
       "       [7., 8., 9.]])"
      ]
     },
     "execution_count": 13,
     "metadata": {},
     "output_type": "execute_result"
    }
   ],
   "source": [
    "A = np.array([[1.,2.,3.],[4.,5.,6.],[7.,8.,9.]])\n",
    "A"
   ]
  },
  {
   "cell_type": "code",
   "execution_count": 14,
   "id": "ffbea8fb-33ae-4cab-a9c3-c24c07a912c0",
   "metadata": {
    "tags": []
   },
   "outputs": [
    {
     "data": {
      "text/plain": [
       "array([[1., 2., 3.],\n",
       "       [4., 5., 6.],\n",
       "       [7., 8., 9.]])"
      ]
     },
     "execution_count": 14,
     "metadata": {},
     "output_type": "execute_result"
    }
   ],
   "source": [
    "N = 3\n",
    "A = np.array(range(1,N**2+1)).reshape((N,N)).astype(float)\n",
    "A"
   ]
  },
  {
   "cell_type": "code",
   "execution_count": 15,
   "id": "1f4227e6-bb7f-4d78-9c1d-ebd1232e8278",
   "metadata": {
    "tags": []
   },
   "outputs": [
    {
     "data": {
      "text/plain": [
       "2"
      ]
     },
     "execution_count": 15,
     "metadata": {},
     "output_type": "execute_result"
    }
   ],
   "source": [
    "A.ndim"
   ]
  },
  {
   "cell_type": "code",
   "execution_count": 16,
   "id": "7aea62b6-df2f-4d9d-847a-544a6319ed4d",
   "metadata": {
    "tags": []
   },
   "outputs": [
    {
     "data": {
      "text/plain": [
       "(3, 3)"
      ]
     },
     "execution_count": 16,
     "metadata": {},
     "output_type": "execute_result"
    }
   ],
   "source": [
    "A.shape"
   ]
  },
  {
   "cell_type": "code",
   "execution_count": 17,
   "id": "dbb8c347-f8ee-42ee-8d7f-d3f4c5508c58",
   "metadata": {
    "tags": []
   },
   "outputs": [
    {
     "data": {
      "text/plain": [
       "dtype('float64')"
      ]
     },
     "execution_count": 17,
     "metadata": {},
     "output_type": "execute_result"
    }
   ],
   "source": [
    "A.dtype"
   ]
  },
  {
   "cell_type": "code",
   "execution_count": 18,
   "id": "7b03832d-24cc-4237-8f5e-8b55472156c2",
   "metadata": {
    "tags": []
   },
   "outputs": [
    {
     "data": {
      "text/plain": [
       "72"
      ]
     },
     "execution_count": 18,
     "metadata": {},
     "output_type": "execute_result"
    }
   ],
   "source": [
    "A.nbytes"
   ]
  },
  {
   "cell_type": "markdown",
   "id": "61495eb6-7c4b-4e34-8a6a-8d752368f31e",
   "metadata": {},
   "source": [
    "## Creating Arrays\n",
    "\n",
    "The function `np.linspace(a,b,N)` creates the NumPy array of $N$ equally spaced points (floats) from $a$ to $b$ (inclusive)."
   ]
  },
  {
   "cell_type": "code",
   "execution_count": 19,
   "id": "1b57e008-e098-4e09-a7e0-68b7d3ddc039",
   "metadata": {
    "tags": []
   },
   "outputs": [
    {
     "name": "stdout",
     "output_type": "stream",
     "text": [
      "[0.  0.1 0.2 0.3 0.4 0.5 0.6 0.7 0.8 0.9 1. ]\n"
     ]
    }
   ],
   "source": [
    "a = 0\n",
    "b = 1\n",
    "N = 11\n",
    "x = np.linspace(a,b,N)\n",
    "print(x)"
   ]
  },
  {
   "cell_type": "markdown",
   "id": "b1274947-f4eb-4d58-83e8-b2610e43ae34",
   "metadata": {},
   "source": [
    "Note that the function returns a sequence with step size\n",
    "\n",
    "$$\n",
    "h = \\frac{b - a}{N - 1}\n",
    "$$"
   ]
  },
  {
   "cell_type": "markdown",
   "id": "ad9c97ff-f59e-4d90-b5dd-cf3387fdddd2",
   "metadata": {},
   "source": [
    "There is also `np.arange(a,b,h)` which gives the sequence from $a$ to $b$ (exclusive) with step size $h$."
   ]
  },
  {
   "cell_type": "code",
   "execution_count": 20,
   "id": "5417c1cc-9240-4f0a-bc92-f2185be87195",
   "metadata": {
    "tags": []
   },
   "outputs": [
    {
     "data": {
      "text/plain": [
       "array([0. , 0.1, 0.2, 0.3, 0.4, 0.5, 0.6, 0.7, 0.8, 0.9])"
      ]
     },
     "execution_count": 20,
     "metadata": {},
     "output_type": "execute_result"
    }
   ],
   "source": [
    "np.arange(0,1,0.1)"
   ]
  },
  {
   "cell_type": "markdown",
   "id": "f04c9243-2b68-404f-a704-49567e29160d",
   "metadata": {},
   "source": [
    "Create a vector/matrix of zeros:"
   ]
  },
  {
   "cell_type": "code",
   "execution_count": 21,
   "id": "4c2e40ca-ff4c-46f5-a347-842ce0572080",
   "metadata": {
    "tags": []
   },
   "outputs": [
    {
     "data": {
      "text/plain": [
       "array([0., 0., 0., 0.])"
      ]
     },
     "execution_count": 21,
     "metadata": {},
     "output_type": "execute_result"
    }
   ],
   "source": [
    "z = np.zeros(4)\n",
    "z"
   ]
  },
  {
   "cell_type": "code",
   "execution_count": 22,
   "id": "106d7138-da16-4778-9a4a-c19b2db12087",
   "metadata": {
    "tags": []
   },
   "outputs": [
    {
     "data": {
      "text/plain": [
       "1"
      ]
     },
     "execution_count": 22,
     "metadata": {},
     "output_type": "execute_result"
    }
   ],
   "source": [
    "z.ndim"
   ]
  },
  {
   "cell_type": "code",
   "execution_count": 23,
   "id": "8aa34c4d-4ff6-45aa-9bd3-c60e49ebbe1a",
   "metadata": {
    "tags": []
   },
   "outputs": [
    {
     "data": {
      "text/plain": [
       "(4,)"
      ]
     },
     "execution_count": 23,
     "metadata": {},
     "output_type": "execute_result"
    }
   ],
   "source": [
    "z.shape"
   ]
  },
  {
   "cell_type": "code",
   "execution_count": 24,
   "id": "ffd2a31a-9d91-4fec-8dcf-ecb6366674fb",
   "metadata": {
    "tags": []
   },
   "outputs": [
    {
     "data": {
      "text/plain": [
       "array([[0., 0.],\n",
       "       [0., 0.],\n",
       "       [0., 0.]])"
      ]
     },
     "execution_count": 24,
     "metadata": {},
     "output_type": "execute_result"
    }
   ],
   "source": [
    "Z = np.zeros((3,2))\n",
    "Z"
   ]
  },
  {
   "cell_type": "code",
   "execution_count": 25,
   "id": "8d3c9d8f-6c5c-4aef-817b-bfce935fcf10",
   "metadata": {
    "tags": []
   },
   "outputs": [
    {
     "data": {
      "text/plain": [
       "2"
      ]
     },
     "execution_count": 25,
     "metadata": {},
     "output_type": "execute_result"
    }
   ],
   "source": [
    "Z.ndim"
   ]
  },
  {
   "cell_type": "code",
   "execution_count": 26,
   "id": "bd7ed50d-6d3f-4880-ba2e-2b75f837b169",
   "metadata": {
    "tags": []
   },
   "outputs": [
    {
     "data": {
      "text/plain": [
       "(3, 2)"
      ]
     },
     "execution_count": 26,
     "metadata": {},
     "output_type": "execute_result"
    }
   ],
   "source": [
    "Z.shape"
   ]
  },
  {
   "cell_type": "markdown",
   "id": "afece8d8-3355-4d58-904f-aea4081a6a22",
   "metadata": {},
   "source": [
    "Create a vector/matrix of ones:"
   ]
  },
  {
   "cell_type": "code",
   "execution_count": 27,
   "id": "7dd9af8a-abbc-4be8-9aee-d99de5784790",
   "metadata": {
    "tags": []
   },
   "outputs": [
    {
     "data": {
      "text/plain": [
       "array([1., 1., 1., 1.])"
      ]
     },
     "execution_count": 27,
     "metadata": {},
     "output_type": "execute_result"
    }
   ],
   "source": [
    "o = np.ones(4)\n",
    "o"
   ]
  },
  {
   "cell_type": "code",
   "execution_count": 28,
   "id": "6779e80d-f4f2-4ffe-baea-1c68a2be29ac",
   "metadata": {
    "tags": []
   },
   "outputs": [
    {
     "data": {
      "text/plain": [
       "array([[1., 1., 1., 1., 1., 1., 1.],\n",
       "       [1., 1., 1., 1., 1., 1., 1.],\n",
       "       [1., 1., 1., 1., 1., 1., 1.]])"
      ]
     },
     "execution_count": 28,
     "metadata": {},
     "output_type": "execute_result"
    }
   ],
   "source": [
    "O = np.ones((3,7))\n",
    "O"
   ]
  },
  {
   "cell_type": "markdown",
   "id": "5d28e1f8-5cf3-4e3f-a29c-23780605aa56",
   "metadata": {},
   "source": [
    "Create the identity matrix of size $N$:"
   ]
  },
  {
   "cell_type": "code",
   "execution_count": 29,
   "id": "33bd88ce-5e85-4c0b-9756-7ea958330b2c",
   "metadata": {
    "tags": []
   },
   "outputs": [
    {
     "data": {
      "text/plain": [
       "array([[1., 0., 0., 0., 0.],\n",
       "       [0., 1., 0., 0., 0.],\n",
       "       [0., 0., 1., 0., 0.],\n",
       "       [0., 0., 0., 1., 0.],\n",
       "       [0., 0., 0., 0., 1.]])"
      ]
     },
     "execution_count": 29,
     "metadata": {},
     "output_type": "execute_result"
    }
   ],
   "source": [
    "N = 5\n",
    "I = np.eye(N)\n",
    "I"
   ]
  },
  {
   "cell_type": "markdown",
   "id": "da3b8b35-8fbe-4eb9-9d7f-41b989212a21",
   "metadata": {},
   "source": [
    "Create a diagonal matrix using `np.diag`:"
   ]
  },
  {
   "cell_type": "code",
   "execution_count": 30,
   "id": "217ac7a5-ad35-4b74-b087-65433d16d3b5",
   "metadata": {
    "tags": []
   },
   "outputs": [
    {
     "data": {
      "text/plain": [
       "array([[1., 0., 0., 0.],\n",
       "       [0., 2., 0., 0.],\n",
       "       [0., 0., 3., 0.],\n",
       "       [0., 0., 0., 4.]])"
      ]
     },
     "execution_count": 30,
     "metadata": {},
     "output_type": "execute_result"
    }
   ],
   "source": [
    "D = np.diag([1.,2.,3.,4.])\n",
    "D"
   ]
  },
  {
   "cell_type": "markdown",
   "id": "5220658e-3d9c-47f4-ace4-c1a8e6cb0e76",
   "metadata": {},
   "source": [
    "We cam also put a vector on an off diagonal by specifying the index:"
   ]
  },
  {
   "cell_type": "code",
   "execution_count": 31,
   "id": "845afaa7-bd5c-4253-b045-1d6b4eb6bb69",
   "metadata": {
    "tags": []
   },
   "outputs": [
    {
     "data": {
      "text/plain": [
       "array([[-2.,  1.,  0., ...,  0.,  0.,  0.],\n",
       "       [ 1., -2.,  1., ...,  0.,  0.,  0.],\n",
       "       [ 0.,  1., -2., ...,  0.,  0.,  0.],\n",
       "       ...,\n",
       "       [ 0.,  0.,  0., ..., -2.,  1.,  0.],\n",
       "       [ 0.,  0.,  0., ...,  1., -2.,  1.],\n",
       "       [ 0.,  0.,  0., ...,  0.,  1., -2.]])"
      ]
     },
     "execution_count": 31,
     "metadata": {},
     "output_type": "execute_result"
    }
   ],
   "source": [
    "N = 100\n",
    "D = -2*np.eye(N) + np.diag(np.ones(N-1),1) + np.diag(np.ones(N-1),-1)\n",
    "D"
   ]
  },
  {
   "cell_type": "code",
   "execution_count": 32,
   "id": "54ef1fc2-f9be-4d4a-b9d2-bcb3b2ce6737",
   "metadata": {
    "tags": []
   },
   "outputs": [
    {
     "data": {
      "text/plain": [
       "2"
      ]
     },
     "execution_count": 32,
     "metadata": {},
     "output_type": "execute_result"
    }
   ],
   "source": [
    "D.ndim"
   ]
  },
  {
   "cell_type": "code",
   "execution_count": 33,
   "id": "43fffe87-4bff-49b1-82b4-be8972e13e1a",
   "metadata": {
    "tags": []
   },
   "outputs": [
    {
     "data": {
      "text/plain": [
       "(100, 100)"
      ]
     },
     "execution_count": 33,
     "metadata": {},
     "output_type": "execute_result"
    }
   ],
   "source": [
    "D.shape"
   ]
  },
  {
   "cell_type": "markdown",
   "id": "d6f39ca6-e9d0-487f-9618-f5509324f57e",
   "metadata": {},
   "source": [
    "Visualize the matrix:"
   ]
  },
  {
   "cell_type": "code",
   "execution_count": 34,
   "id": "9f8e080c-20db-4f01-8667-bb8ec012a65d",
   "metadata": {
    "tags": []
   },
   "outputs": [],
   "source": [
    "import matplotlib.pyplot as plt"
   ]
  },
  {
   "cell_type": "code",
   "execution_count": 35,
   "id": "da7ddbb6-06ec-42fb-925d-60b115e0985a",
   "metadata": {
    "tags": []
   },
   "outputs": [
    {
     "data": {
      "image/png": "[encoded data removed]",
      "text/plain": [
       "<Figure size 640x480 with 2 Axes>"
      ]
     },
     "metadata": {},
     "output_type": "display_data"
    }
   ],
   "source": [
    "plt.imshow(D,cmap='bone')\n",
    "plt.colorbar()\n",
    "plt.show()"
   ]
  }
 ],
 "metadata": {
  "kernelspec": {
   "display_name": "Python 3 (ipykernel)",
   "language": "python",
   "name": "python3"
  },
  "language_info": {
   "codemirror_mode": {
    "name": "ipython",
    "version": 3
   },
   "file_extension": ".py",
   "mimetype": "text/x-python",
   "name": "python",
   "nbconvert_exporter": "python",
   "pygments_lexer": "ipython3",
   "version": "3.10.12"
  }
 },
 "nbformat": 4,
 "nbformat_minor": 5
}
