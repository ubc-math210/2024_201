{
 "cells": [
  {
   "cell_type": "markdown",
   "id": "bc382660-0422-403c-9353-1dd9cf777025",
   "metadata": {},
   "source": [
    "# MATH 210 Introduction to Mathematical Computing\n",
    "\n",
    "**January 26, 2024**\n",
    "\n",
    "* `for` loops\n",
    "* Factorial\n",
    "* Exponential Taylor series\n",
    "* Recursive sequences"
   ]
  },
  {
   "cell_type": "markdown",
   "id": "69bd5f96-f3ea-4b17-b175-99ad8bb3fac3",
   "metadata": {},
   "source": [
    "## `for` loops\n",
    "\n",
    "A `for` loop executes a block of code repeatedly for all values in a sequence. The construction is:\n",
    "\n",
    "```python\n",
    "for item in sequence:\n",
    "    # Python code\n",
    "    # Python code\n",
    "```"
   ]
  },
  {
   "cell_type": "markdown",
   "id": "eaa82ee2-a8d0-41cf-8a4b-a8481c2900dd",
   "metadata": {},
   "source": [
    "Note:\n",
    "\n",
    "* keyword `for` starts the loop\n",
    "* `item` is a variable name and it takes each value in `sequence` one at a time for each pass through the loop\n",
    "* `sequence` is any sequence of values\n",
    "* `for` statement ends in a colon `:`\n",
    "* block of code in the loop is indented 4 spaces"
   ]
  },
  {
   "cell_type": "code",
   "execution_count": 1,
   "id": "b7b70780-79b6-41bd-9084-9fe98f34ce1d",
   "metadata": {},
   "outputs": [
    {
     "name": "stdout",
     "output_type": "stream",
     "text": [
      "0\n",
      "1\n",
      "4\n",
      "9\n",
      "16\n",
      "Done!\n"
     ]
    }
   ],
   "source": [
    "for n in range(5):\n",
    "    value = n**2\n",
    "    print(value)\n",
    "\n",
    "print('Done!')"
   ]
  },
  {
   "cell_type": "code",
   "execution_count": 2,
   "id": "34d09078-4f57-4cd5-9bba-1e6cec2bea28",
   "metadata": {},
   "outputs": [
    {
     "data": {
      "text/plain": [
       "4"
      ]
     },
     "execution_count": 2,
     "metadata": {},
     "output_type": "execute_result"
    }
   ],
   "source": [
    "n"
   ]
  },
  {
   "cell_type": "code",
   "execution_count": 3,
   "id": "e2e89fb5-1e62-4f91-a620-0951c58d7b62",
   "metadata": {},
   "outputs": [
    {
     "name": "stdout",
     "output_type": "stream",
     "text": [
      "0\n",
      "1\n",
      "4\n",
      "9\n",
      "16\n",
      "Done!\n"
     ]
    }
   ],
   "source": [
    "n = 0\n",
    "value = n**2\n",
    "print(value)\n",
    "\n",
    "n = 1\n",
    "value = n**2\n",
    "print(value)\n",
    "\n",
    "n = 2\n",
    "value = n**2\n",
    "print(value)\n",
    "\n",
    "n = 3\n",
    "value = n**2\n",
    "print(value)\n",
    "\n",
    "n = 4\n",
    "value = n**2\n",
    "print(value)\n",
    "\n",
    "print('Done!')"
   ]
  },
  {
   "cell_type": "markdown",
   "id": "a8b82368-12f5-459a-a473-4fe1915e0f17",
   "metadata": {},
   "source": [
    "## Factorial\n",
    "\n",
    "Write a function called `factorial` which takes a input parameter `n` (integer greater than or equal to 0) and returns $n! = n(n-1) \\cdots (2)(1)$."
   ]
  },
  {
   "cell_type": "code",
   "execution_count": 4,
   "id": "398001a0-2531-49c5-afa0-67bf6431409e",
   "metadata": {},
   "outputs": [],
   "source": [
    "def factorial(n):\n",
    "    value = 1\n",
    "    for k in range(2,n+1):\n",
    "        value = value*k\n",
    "    return value"
   ]
  },
  {
   "cell_type": "code",
   "execution_count": 5,
   "id": "a3e650ff-40f9-4f87-a33c-94de151867c1",
   "metadata": {},
   "outputs": [
    {
     "data": {
      "text/plain": [
       "1"
      ]
     },
     "execution_count": 5,
     "metadata": {},
     "output_type": "execute_result"
    }
   ],
   "source": [
    "factorial(0) # Should return 1"
   ]
  },
  {
   "cell_type": "code",
   "execution_count": 6,
   "id": "c471215b-d261-4d3f-b653-78195888a3cc",
   "metadata": {},
   "outputs": [
    {
     "data": {
      "text/plain": [
       "1"
      ]
     },
     "execution_count": 6,
     "metadata": {},
     "output_type": "execute_result"
    }
   ],
   "source": [
    "factorial(1) # Should return 1"
   ]
  },
  {
   "cell_type": "code",
   "execution_count": 7,
   "id": "d829e769-e356-4028-962b-750c6a501b87",
   "metadata": {},
   "outputs": [
    {
     "data": {
      "text/plain": [
       "6"
      ]
     },
     "execution_count": 7,
     "metadata": {},
     "output_type": "execute_result"
    }
   ],
   "source": [
    "factorial(3) # Should return 6"
   ]
  },
  {
   "cell_type": "code",
   "execution_count": 8,
   "id": "ce4050f3-6343-4b41-8cb6-b64c9a7bc9be",
   "metadata": {},
   "outputs": [
    {
     "data": {
      "text/plain": [
       "120"
      ]
     },
     "execution_count": 8,
     "metadata": {},
     "output_type": "execute_result"
    }
   ],
   "source": [
    "factorial(5) # Should return 120"
   ]
  },
  {
   "cell_type": "markdown",
   "id": "3d2b229c-76d5-4de1-8e3f-8514caff3a38",
   "metadata": {},
   "source": [
    "## Exponential Taylor series\n",
    "\n",
    "Write a function called `exp` which takes input parameters `x` and `N` and returns the partial sum of the Taylor series for $e^x$\n",
    "\n",
    "$$\n",
    "\\sum_{k=0}^N \\frac{x^k}{k!}\n",
    "$$"
   ]
  },
  {
   "cell_type": "code",
   "execution_count": 9,
   "id": "6f48d819-48e4-4ac4-a629-ffa41b419cd0",
   "metadata": {},
   "outputs": [],
   "source": [
    "def exp(x,N):\n",
    "    terms = [x**k/factorial(k) for k in range(N+1)]\n",
    "    series = sum(terms)\n",
    "    return series"
   ]
  },
  {
   "cell_type": "code",
   "execution_count": 10,
   "id": "26d5b096-0171-4a2c-9526-ab75a091b175",
   "metadata": {},
   "outputs": [
    {
     "data": {
      "text/plain": [
       "1.0"
      ]
     },
     "execution_count": 10,
     "metadata": {},
     "output_type": "execute_result"
    }
   ],
   "source": [
    "exp(0,2) # Should return 0**0/0! + 0**1/1! 0**2/2! = 1 + 0 + 0 = 1"
   ]
  },
  {
   "cell_type": "code",
   "execution_count": 11,
   "id": "b3a9f450-9b18-4254-8cf7-e1f20a121fa2",
   "metadata": {},
   "outputs": [
    {
     "data": {
      "text/plain": [
       "2.5"
      ]
     },
     "execution_count": 11,
     "metadata": {},
     "output_type": "execute_result"
    }
   ],
   "source": [
    "exp(1,2) # Should return 1 + 1 + 1/2 = 2.5"
   ]
  },
  {
   "cell_type": "code",
   "execution_count": 12,
   "id": "23b5aaa0-e646-41cc-bfab-b192b96496df",
   "metadata": {},
   "outputs": [
    {
     "data": {
      "text/plain": [
       "0.33333333333333337"
      ]
     },
     "execution_count": 12,
     "metadata": {},
     "output_type": "execute_result"
    }
   ],
   "source": [
    "exp(-1,3) # Should return 1 - 1 + 1/2 - 1/6 = 1/3"
   ]
  },
  {
   "cell_type": "code",
   "execution_count": 13,
   "id": "36a0b552-c399-4f07-96ce-4f29891a2016",
   "metadata": {},
   "outputs": [
    {
     "data": {
      "text/plain": [
       "2.7182818284590455"
      ]
     },
     "execution_count": 13,
     "metadata": {},
     "output_type": "execute_result"
    }
   ],
   "source": [
    "exp(1,20) # Should return 2.718..."
   ]
  },
  {
   "cell_type": "code",
   "execution_count": 14,
   "id": "4ae3f4b6-ca0d-408f-b16c-b7f0133ff670",
   "metadata": {},
   "outputs": [
    {
     "data": {
      "text/plain": [
       "0.30000000000000004"
      ]
     },
     "execution_count": 14,
     "metadata": {},
     "output_type": "execute_result"
    }
   ],
   "source": [
    "0.1+0.2"
   ]
  },
  {
   "cell_type": "markdown",
   "id": "6485d654-8348-4cfa-a586-1de16dc068c5",
   "metadata": {},
   "source": [
    "## Initialize and Update\n",
    "\n",
    "We use this construction a lot when constructing sequences. Initialize the sequence as a sequence of 0s with the expected length."
   ]
  },
  {
   "cell_type": "code",
   "execution_count": 15,
   "id": "f56f6d7f-c532-4f17-872f-8b353a6dd435",
   "metadata": {},
   "outputs": [
    {
     "name": "stdout",
     "output_type": "stream",
     "text": [
      "[0, 0, 0, 0, 0]\n"
     ]
    }
   ],
   "source": [
    "N = 5\n",
    "seq = [0 for k in range(N)]\n",
    "print(seq)"
   ]
  },
  {
   "cell_type": "markdown",
   "id": "c92d9963-8b73-43fb-a3d5-efe992c654de",
   "metadata": {},
   "source": [
    "Write a `for` loop to update the values. For example, create the list of squares:"
   ]
  },
  {
   "cell_type": "code",
   "execution_count": 16,
   "id": "86c4ed12-0aa3-4a21-993e-57291ed5f087",
   "metadata": {},
   "outputs": [
    {
     "name": "stdout",
     "output_type": "stream",
     "text": [
      "[0, 1, 4, 9, 16]\n"
     ]
    }
   ],
   "source": [
    "for k in range(len(seq)):\n",
    "    seq[k] = k**2\n",
    "print(seq)"
   ]
  },
  {
   "cell_type": "markdown",
   "id": "a5e44f7d-0cd5-4948-882b-604038018154",
   "metadata": {},
   "source": [
    "## Recursive sequences\n",
    "\n",
    "A recursive sequence is a sequence $\\{ x_n \\}_{n=0}^{\\infty}$ such that the entry $x_n$ at index $n$ depends on previous entries. For example, $x_0 = 1$ and $x_{n+1} = \\sqrt{2 + x_n}$."
   ]
  },
  {
   "cell_type": "markdown",
   "id": "57a8a87b-f8a6-4247-b7c5-828c2a18705d",
   "metadata": {},
   "source": [
    "Write a function called `a_seq` which takes input parameters `a` and `N` and returns the sequence $x_0 = a$, $x_{n+1} = \\sqrt{2 + x_n}$ (up to and including $x_N$) as a Python list."
   ]
  },
  {
   "cell_type": "code",
   "execution_count": 21,
   "id": "4705065f-2710-498c-ac58-e5bbd4eccacf",
   "metadata": {},
   "outputs": [],
   "source": [
    "def a_seq(a,N):\n",
    "    seq = [0 for n in range(N+1)]\n",
    "    seq[0] = a\n",
    "    for n in range(0,N):\n",
    "        seq[n+1] = (2 + seq[n])**0.5\n",
    "    return seq"
   ]
  },
  {
   "cell_type": "code",
   "execution_count": 23,
   "id": "d8bdf4cf-dfd7-49a1-aae8-588db572db11",
   "metadata": {},
   "outputs": [
    {
     "data": {
      "text/plain": [
       "[1, 1.7320508075688772, 1.9318516525781366]"
      ]
     },
     "execution_count": 23,
     "metadata": {},
     "output_type": "execute_result"
    }
   ],
   "source": [
    "a_seq(1,2) # Should return [1,3**0.5,(2 + 3**0.5)] = [1,1.73,1.93]"
   ]
  },
  {
   "cell_type": "code",
   "execution_count": 24,
   "id": "9c467bee-8853-46e2-a9d3-32a3f83b421a",
   "metadata": {},
   "outputs": [
    {
     "data": {
      "text/plain": [
       "[10,\n",
       " 3.4641016151377544,\n",
       " 2.3375417889607353,\n",
       " 2.0826765925031987,\n",
       " 2.020563434417044,\n",
       " 2.005134268426193,\n",
       " 2.0012831554845487,\n",
       " 2.000320763148888,\n",
       " 2.000080189179646,\n",
       " 2.000020047194439,\n",
       " 2.0000050117923305,\n",
       " 2.00000125294769,\n",
       " 2.000000313236898,\n",
       " 2.000000078309223,\n",
       " 2.0000000195773056,\n",
       " 2.0000000048943263,\n",
       " 2.0000000012235817,\n",
       " 2.0000000003058953,\n",
       " 2.000000000076474,\n",
       " 2.0000000000191185,\n",
       " 2.0000000000047797]"
      ]
     },
     "execution_count": 24,
     "metadata": {},
     "output_type": "execute_result"
    }
   ],
   "source": [
    "a_seq(10,20)"
   ]
  },
  {
   "cell_type": "markdown",
   "id": "ffb0d016-6351-4ccf-8e5a-397a1d6b8ce8",
   "metadata": {},
   "source": [
    "It seems that $\\lim_{n \\to \\infty} x_n = 2$ for any $a$. Can we prove it?"
   ]
  }
 ],
 "metadata": {
  "kernelspec": {
   "display_name": "Python 3 (ipykernel)",
   "language": "python",
   "name": "python3"
  },
  "language_info": {
   "codemirror_mode": {
    "name": "ipython",
    "version": 3
   },
   "file_extension": ".py",
   "mimetype": "text/x-python",
   "name": "python",
   "nbconvert_exporter": "python",
   "pygments_lexer": "ipython3",
   "version": "3.11.6"
  }
 },
 "nbformat": 4,
 "nbformat_minor": 5
}
