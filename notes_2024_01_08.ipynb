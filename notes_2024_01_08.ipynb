{
 "cells": [
  {
   "cell_type": "markdown",
   "id": "3d9296a1-c986-49dd-96c7-31a3115f832c",
   "metadata": {},
   "source": [
    "# MATH 210 Introduction to Mathematical Computing\n",
    "\n",
    "## January 8, 2024\n",
    "\n",
    "* Cells and Modes\n",
    "* Headers\n",
    "* Lists\n",
    "* Text Formatting\n",
    "* Links and Images"
   ]
  },
  {
   "cell_type": "markdown",
   "id": "85093e63-5cd8-452c-803c-dec149c80155",
   "metadata": {},
   "source": [
    "## Cells and Modes\n",
    "\n",
    "There are 2 types of cells: **code** cells and **markdown** cells.\n",
    "\n",
    "There are 2 types of modes: **edit** mode and **command** mode.\n",
    "\n",
    "Use `ESC` to switch to command mode. Hit `ENTER` to enter edit mode."
   ]
  },
  {
   "cell_type": "markdown",
   "id": "7bc5fa55-74b8-4ffd-bdc2-43526ff30823",
   "metadata": {},
   "source": [
    "## Headers\n",
    "\n",
    "There 6 levels of headers: `#`, `##`, `###`, ..."
   ]
  },
  {
   "cell_type": "markdown",
   "id": "2c504b5e-db42-4740-a786-a1d358a1ce12",
   "metadata": {},
   "source": [
    "## Lists\n",
    "\n",
    "Create an unordered list:\n",
    "\n",
    "* MATH 210\n",
    "* MATH 215\n",
    "* MATH 441\n",
    "\n",
    "Create ordered lists:\n",
    "\n",
    "1. Toronto Raptors\n",
    "2. Oklahoma City Thunder\n",
    "3. Miami Heat"
   ]
  },
  {
   "cell_type": "markdown",
   "id": "d3139d9c-b67a-4eb2-89c5-00fae5134e0f",
   "metadata": {},
   "source": [
    "## Text Formatting\n",
    "\n",
    "*MATH 210* is the **coolest** math course!"
   ]
  },
  {
   "cell_type": "markdown",
   "id": "10be0f47-a52e-4590-8d57-f168a2f0c8cc",
   "metadata": {},
   "source": [
    "## Links and Images\n",
    "\n",
    "Create a link with syntax: `[description](url)`\n",
    "\n",
    "For example, [UBC Mathematics Department](https://www.math.ubc.ca/).\n",
    "\n",
    "Embed an image with syntax: `![description](url)`"
   ]
  },
  {
   "cell_type": "markdown",
   "id": "92cc07bf-3de2-4094-934f-0f2efe0cfb88",
   "metadata": {},
   "source": [
    "![kitten](https://icatcare.org/app/uploads/2018/07/Helping-your-new-cat-or-kitten-settle-in-1.png)"
   ]
  },
  {
   "cell_type": "markdown",
   "id": "5e0e03c1-b98c-4ee2-93fe-65ba7d3d2027",
   "metadata": {},
   "source": [
    "<img src=\"https://icatcare.org/app/uploads/2018/07/Helping-your-new-cat-or-kitten-settle-in-1.png\" style=\"width: 100px\" alt=\"This is a kitten!\" />"
   ]
  },
  {
   "cell_type": "markdown",
   "id": "c8a6ea06-2422-44fe-ad10-f7483f48f670",
   "metadata": {},
   "source": [
    "## Tables\n",
    "\n",
    "| Python Operator | Description  |\n",
    "| :---: | :---: |\n",
    "| `+` | addition |\n",
    "| `-` | subtraction |\n",
    "| `*` | multiplication |\n",
    "| `/` | division |\n",
    "| `**` | power |"
   ]
  },
  {
   "cell_type": "markdown",
   "id": "95f660cb-e7a5-4b9b-8de1-3607e9a1f1e2",
   "metadata": {},
   "source": [
    "## LaTeX\n",
    "\n",
    "$$\n",
    "\\int_a^b f(x) dx = F(b) - F(a)\n",
    "$$"
   ]
  },
  {
   "cell_type": "markdown",
   "id": "df46f61a-3818-496d-8d4a-098d6b66ad94",
   "metadata": {},
   "source": [
    "Mathematical optimization (alternatively spelled optimisation) or mathematical programming is the selection of a best element, with regard to some criterion, from some set of available alternatives. It is generally divided into two subfields: discrete optimization and continuous optimization. Optimization problems arise in all quantitative disciplines from computer science and engineering to operations research and economics, and the development of solution methods has been of interest in mathematics for centuries.\n",
    "\n",
    "In the more general approach, an optimization problem consists of maximizing or minimizing a real function by systematically choosing input values from within an allowed set and computing the value of the function. The generalization of optimization theory and techniques to other formulations constitutes a large area of applied mathematics. More generally, optimization includes finding \"best available\" values of some objective function given a defined domain (or input), including a variety of different types of objective functions and different types of domains."
   ]
  }
 ],
 "metadata": {
  "kernelspec": {
   "display_name": "Python 3 (ipykernel)",
   "language": "python",
   "name": "python3"
  },
  "language_info": {
   "codemirror_mode": {
    "name": "ipython",
    "version": 3
   },
   "file_extension": ".py",
   "mimetype": "text/x-python",
   "name": "python",
   "nbconvert_exporter": "python",
   "pygments_lexer": "ipython3",
   "version": "3.11.6"
  }
 },
 "nbformat": 4,
 "nbformat_minor": 5
}
