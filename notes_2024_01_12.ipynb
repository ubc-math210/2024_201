{
 "cells": [
  {
   "cell_type": "markdown",
   "id": "cfbd4627-d821-4087-a9a4-ba974ab9cbb8",
   "metadata": {},
   "source": [
    "# MATH 210 Introduction to Mathematical Computing\n",
    "\n",
    "**January 12, 2024**\n",
    "\n",
    "* Numeric types: integers, floats and complex numbers\n",
    "* Arithmetic operations\n",
    "* Examples: Roots and Taylor Series\n",
    "* Variables"
   ]
  },
  {
   "cell_type": "markdown",
   "id": "43c7acba-33b2-4d78-8e10-c19b9b4c5e7e",
   "metadata": {},
   "source": [
    "## Numeric types and arithmetic operations\n",
    "\n",
    "There are 3 main numeric types in Python: integers, floats and complex numbers.\n",
    "\n",
    "We have the usual arithmetic operations: `+`, `-`, `*`, `/`, `**`.\n",
    "\n",
    "Add integers:"
   ]
  },
  {
   "cell_type": "code",
   "execution_count": 1,
   "id": "da3233c7-914c-4892-9a65-41456ae52862",
   "metadata": {},
   "outputs": [
    {
     "data": {
      "text/plain": [
       "15"
      ]
     },
     "execution_count": 1,
     "metadata": {},
     "output_type": "execute_result"
    }
   ],
   "source": [
    "1 + 2 + 3 + 4 + 5"
   ]
  },
  {
   "cell_type": "code",
   "execution_count": 2,
   "id": "621bcaca-3099-48da-9a40-60e0937f965a",
   "metadata": {},
   "outputs": [
    {
     "data": {
      "text/plain": [
       "6"
      ]
     },
     "execution_count": 2,
     "metadata": {},
     "output_type": "execute_result"
    }
   ],
   "source": [
    "13 - 7"
   ]
  },
  {
   "cell_type": "code",
   "execution_count": 3,
   "id": "1db5076c-c3f0-47c0-8505-8375e2f3573d",
   "metadata": {},
   "outputs": [
    {
     "data": {
      "text/plain": [
       "120"
      ]
     },
     "execution_count": 3,
     "metadata": {},
     "output_type": "execute_result"
    }
   ],
   "source": [
    "5*4*3*2*1"
   ]
  },
  {
   "cell_type": "code",
   "execution_count": 4,
   "id": "56f8982f-6f99-486b-8704-05aa0bd35121",
   "metadata": {},
   "outputs": [
    {
     "data": {
      "text/plain": [
       "49"
      ]
     },
     "execution_count": 4,
     "metadata": {},
     "output_type": "execute_result"
    }
   ],
   "source": [
    "7**2"
   ]
  },
  {
   "cell_type": "code",
   "execution_count": 5,
   "id": "9c7f0f7a-64d6-4851-af42-65ab0db6ee84",
   "metadata": {},
   "outputs": [
    {
     "data": {
      "text/plain": [
       "4.0"
      ]
     },
     "execution_count": 5,
     "metadata": {},
     "output_type": "execute_result"
    }
   ],
   "source": [
    "100/25"
   ]
  },
  {
   "cell_type": "markdown",
   "id": "2113ae4f-5c88-4ac8-a9bf-dddd78c97109",
   "metadata": {},
   "source": [
    "A float (aka floating point number) is a real number in decimal form.\n",
    "\n",
    "Division always returns a float even if we are dividing integers where the result is an integer theoretically.\n",
    "\n",
    "There is (almost) always some rounding error in floating point arithmetic. For example:"
   ]
  },
  {
   "cell_type": "code",
   "execution_count": 6,
   "id": "1008a2f1-d748-4029-86b8-1d07e04613ed",
   "metadata": {},
   "outputs": [
    {
     "data": {
      "text/plain": [
       "0.30000000000000004"
      ]
     },
     "execution_count": 6,
     "metadata": {},
     "output_type": "execute_result"
    }
   ],
   "source": [
    "0.1 + 0.2"
   ]
  },
  {
   "cell_type": "markdown",
   "id": "4e97fa38-8c49-4a3e-8344-1078b01a5a23",
   "metadata": {},
   "source": [
    "We need to get used to interpreting numbers like $10^{-16}$ in Python as 0."
   ]
  },
  {
   "cell_type": "markdown",
   "id": "c347c1cc-fcf2-4f36-9343-93774769114e",
   "metadata": {},
   "source": [
    "Use the Python function `type` to determine the type of a value."
   ]
  },
  {
   "cell_type": "code",
   "execution_count": 7,
   "id": "e89b4be7-e0c6-49d3-8151-caca5689e49d",
   "metadata": {},
   "outputs": [
    {
     "data": {
      "text/plain": [
       "int"
      ]
     },
     "execution_count": 7,
     "metadata": {},
     "output_type": "execute_result"
    }
   ],
   "source": [
    "type(42)"
   ]
  },
  {
   "cell_type": "code",
   "execution_count": 8,
   "id": "448885bf-da1e-4011-9d04-fa6b514359a0",
   "metadata": {},
   "outputs": [
    {
     "data": {
      "text/plain": [
       "float"
      ]
     },
     "execution_count": 8,
     "metadata": {},
     "output_type": "execute_result"
    }
   ],
   "source": [
    "type(42.0)"
   ]
  },
  {
   "cell_type": "markdown",
   "id": "c11b2aed-ff34-43a2-915f-68f6011df88d",
   "metadata": {},
   "source": [
    "The complex number $\\sqrt{-1}$ is entered as `1j` in Python."
   ]
  },
  {
   "cell_type": "code",
   "execution_count": 9,
   "id": "e36661f9-8c3c-452b-aa0b-6682e0e1088d",
   "metadata": {},
   "outputs": [
    {
     "data": {
      "text/plain": [
       "(2-3j)"
      ]
     },
     "execution_count": 9,
     "metadata": {},
     "output_type": "execute_result"
    }
   ],
   "source": [
    "2 - 3j"
   ]
  },
  {
   "cell_type": "code",
   "execution_count": 10,
   "id": "3405741e-afff-4786-9126-07748b5aae05",
   "metadata": {},
   "outputs": [
    {
     "data": {
      "text/plain": [
       "complex"
      ]
     },
     "execution_count": 10,
     "metadata": {},
     "output_type": "execute_result"
    }
   ],
   "source": [
    "type(1j)"
   ]
  },
  {
   "cell_type": "code",
   "execution_count": 11,
   "id": "79120a49-4545-4f05-9fbe-adf3709af272",
   "metadata": {},
   "outputs": [
    {
     "data": {
      "text/plain": [
       "(6.123233995736766e-17+1j)"
      ]
     },
     "execution_count": 11,
     "metadata": {},
     "output_type": "execute_result"
    }
   ],
   "source": [
    "(-1)**(1/2)"
   ]
  },
  {
   "cell_type": "markdown",
   "id": "c6e71057-7555-4e15-bb82-cd6044b086f7",
   "metadata": {},
   "source": [
    "We can use scientific notation `1e-3` to create floating point numbers."
   ]
  },
  {
   "cell_type": "code",
   "execution_count": 12,
   "id": "b2ad1f38-3c22-4b92-a2fa-c61b4be00eb9",
   "metadata": {},
   "outputs": [
    {
     "data": {
      "text/plain": [
       "0.001"
      ]
     },
     "execution_count": 12,
     "metadata": {},
     "output_type": "execute_result"
    }
   ],
   "source": [
    "1e-3"
   ]
  },
  {
   "cell_type": "markdown",
   "id": "1a9ce68a-9273-4545-896d-f778a5aae138",
   "metadata": {},
   "source": [
    "So what is `(6.123233995736766e-17+1j)`? The real part is `6.123233995736766e-17` which is $6.123233995736766 \\times 10^{-17}$ which is basically 0."
   ]
  },
  {
   "cell_type": "markdown",
   "id": "70e40961-93db-4208-86a9-1000c50be82f",
   "metadata": {},
   "source": [
    "There is no $\\pi$ built into Python. We need the NumPy package. For now, we can just use:"
   ]
  },
  {
   "cell_type": "code",
   "execution_count": 13,
   "id": "eac0080c-1877-4409-882a-1bbee06b52a3",
   "metadata": {},
   "outputs": [
    {
     "data": {
      "text/plain": [
       "3.1415926535"
      ]
     },
     "execution_count": 13,
     "metadata": {},
     "output_type": "execute_result"
    }
   ],
   "source": [
    "3.1415926535"
   ]
  },
  {
   "cell_type": "code",
   "execution_count": 14,
   "id": "7fa42ee0-4fbc-47ba-8b99-0e7ed3920383",
   "metadata": {},
   "outputs": [
    {
     "data": {
      "text/plain": [
       "1.4142135623730951"
      ]
     },
     "execution_count": 14,
     "metadata": {},
     "output_type": "execute_result"
    }
   ],
   "source": [
    "2**0.5"
   ]
  },
  {
   "cell_type": "code",
   "execution_count": 15,
   "id": "9f3c0717-fd54-458c-8690-b141414926a8",
   "metadata": {},
   "outputs": [
    {
     "data": {
      "text/plain": [
       "2.0000000000000004"
      ]
     },
     "execution_count": 15,
     "metadata": {},
     "output_type": "execute_result"
    }
   ],
   "source": [
    "1.4142135623730951**2"
   ]
  },
  {
   "cell_type": "markdown",
   "id": "bc35b8c2-e244-4a91-9089-f94a58b41296",
   "metadata": {},
   "source": [
    "Suppose both `type(x)` and `type(y)` are `int`. Determine `type(x ** y)`.\n",
    "\n",
    "If `y >= 0` then `type(x ** y)` is `int`. If `y < 0` then `type(x ** y)` is `float`. "
   ]
  },
  {
   "cell_type": "code",
   "execution_count": 16,
   "id": "76513180-f2f8-47a2-89a1-891fe5367142",
   "metadata": {},
   "outputs": [
    {
     "data": {
      "text/plain": [
       "8"
      ]
     },
     "execution_count": 16,
     "metadata": {},
     "output_type": "execute_result"
    }
   ],
   "source": [
    "2**3"
   ]
  },
  {
   "cell_type": "code",
   "execution_count": 17,
   "id": "585b3764-2b6a-4cc2-b088-ff57ee05c85a",
   "metadata": {},
   "outputs": [
    {
     "data": {
      "text/plain": [
       "0.04"
      ]
     },
     "execution_count": 17,
     "metadata": {},
     "output_type": "execute_result"
    }
   ],
   "source": [
    "5**(-2)"
   ]
  },
  {
   "cell_type": "markdown",
   "id": "cadb4550-c91a-407d-982e-8dfe7673195b",
   "metadata": {},
   "source": [
    "## Examples: Roots and Taylor Series\n",
    "\n",
    "The roots of the polynomial $ax^2 + bx + c = 0$ are given by the quadratic formula:\n",
    "\n",
    "$$\n",
    "x = \\frac{ -b \\pm \\sqrt{b^2 - 4ac} }{ 2a }\n",
    "$$\n",
    "\n",
    "For example, the roots of $x^2 - x - 1 = 0$ are:"
   ]
  },
  {
   "cell_type": "code",
   "execution_count": 18,
   "id": "753a4fbd-330b-40b2-acba-fdd688f157ee",
   "metadata": {},
   "outputs": [
    {
     "data": {
      "text/plain": [
       "1.618033988749895"
      ]
     },
     "execution_count": 18,
     "metadata": {},
     "output_type": "execute_result"
    }
   ],
   "source": [
    "(-(-1) + ((-1)**2 - 4*(1)*(-1))**(1/2))/(2*1)"
   ]
  },
  {
   "cell_type": "code",
   "execution_count": 19,
   "id": "b691a6be-69a1-4ef3-908b-6b90d0a12bfb",
   "metadata": {},
   "outputs": [
    {
     "data": {
      "text/plain": [
       "-0.6180339887498949"
      ]
     },
     "execution_count": 19,
     "metadata": {},
     "output_type": "execute_result"
    }
   ],
   "source": [
    "(-(-1) - ((-1)**2 - 4*(1)*(-1))**(1/2))/(2*1)"
   ]
  },
  {
   "cell_type": "markdown",
   "id": "cc32ea46-a919-4a10-b282-8205ab347718",
   "metadata": {},
   "source": [
    "The Taylor series of $f(x)$ at $x=a$ is\n",
    "\n",
    "$$\n",
    "f(x) = \\sum_{k=0}^{\\infty} \\frac{f^{(k)}(a)}{k!} (x - a)^k\n",
    "$$"
   ]
  },
  {
   "cell_type": "markdown",
   "id": "243e89f0-3efe-4e20-86bf-a5356af09752",
   "metadata": {},
   "source": [
    "The Taylor series of $e^x$ at $a=0$ is\n",
    "\n",
    "$$\n",
    "e^x = \\sum_{k=0}^{\\infty} \\frac{1}{k!} (x - 0)^k = \\sum_{k=0}^{\\infty} \\frac{x^k}{k!}\n",
    "$$"
   ]
  },
  {
   "cell_type": "markdown",
   "id": "e8ffa07f-1ddd-4b80-a3df-2d779108667a",
   "metadata": {},
   "source": [
    "Use partial sum up to $N=5$ to approximate $e$:\n",
    "\n",
    "$$\n",
    "e \\approx \\sum_{k=0}^N \\frac{1}{k!}\n",
    "$$"
   ]
  },
  {
   "cell_type": "code",
   "execution_count": 20,
   "id": "ee81b341-de7b-401d-b049-ca707483f790",
   "metadata": {},
   "outputs": [
    {
     "data": {
      "text/plain": [
       "2.7166666666666663"
      ]
     },
     "execution_count": 20,
     "metadata": {},
     "output_type": "execute_result"
    }
   ],
   "source": [
    "1/1 + 1/1 + 1/2 + 1/(2*3) + 1/(2*3*4) + 1/(2*3*4*5)"
   ]
  },
  {
   "cell_type": "markdown",
   "id": "05459a55-8f66-4654-8a27-6ab328af9893",
   "metadata": {},
   "source": [
    "Note that we use parentheses to group operations. We can't use square brackets `[ ]` or `{ }`."
   ]
  },
  {
   "cell_type": "code",
   "execution_count": 21,
   "id": "5de61252-c139-4350-9d3e-54a167e09c7b",
   "metadata": {},
   "outputs": [
    {
     "ename": "TypeError",
     "evalue": "unsupported operand type(s) for /: 'int' and 'list'",
     "output_type": "error",
     "traceback": [
      "\u001b[0;31m---------------------------------------------------------------------------\u001b[0m",
      "\u001b[0;31mTypeError\u001b[0m                                 Traceback (most recent call last)",
      "Cell \u001b[0;32mIn[21], line 1\u001b[0m\n\u001b[0;32m----> 1\u001b[0m \u001b[38;5;241;43m1\u001b[39;49m\u001b[38;5;241;43m/\u001b[39;49m\u001b[43m[\u001b[49m\u001b[38;5;241;43m2\u001b[39;49m\u001b[38;5;241;43m*\u001b[39;49m\u001b[38;5;241;43m3\u001b[39;49m\u001b[38;5;241;43m*\u001b[39;49m\u001b[38;5;241;43m4\u001b[39;49m\u001b[43m]\u001b[49m\n",
      "\u001b[0;31mTypeError\u001b[0m: unsupported operand type(s) for /: 'int' and 'list'"
     ]
    }
   ],
   "source": [
    "1/[2*3*4]"
   ]
  },
  {
   "cell_type": "code",
   "execution_count": 22,
   "id": "78b79076-13ed-4514-ad6d-b7c4cd1119ac",
   "metadata": {},
   "outputs": [
    {
     "ename": "TypeError",
     "evalue": "unsupported operand type(s) for /: 'int' and 'set'",
     "output_type": "error",
     "traceback": [
      "\u001b[0;31m---------------------------------------------------------------------------\u001b[0m",
      "\u001b[0;31mTypeError\u001b[0m                                 Traceback (most recent call last)",
      "Cell \u001b[0;32mIn[22], line 1\u001b[0m\n\u001b[0;32m----> 1\u001b[0m \u001b[38;5;241;43m1\u001b[39;49m\u001b[38;5;241;43m/\u001b[39;49m\u001b[43m{\u001b[49m\u001b[38;5;241;43m2\u001b[39;49m\u001b[38;5;241;43m*\u001b[39;49m\u001b[38;5;241;43m3\u001b[39;49m\u001b[38;5;241;43m*\u001b[39;49m\u001b[38;5;241;43m4\u001b[39;49m\u001b[43m}\u001b[49m\n",
      "\u001b[0;31mTypeError\u001b[0m: unsupported operand type(s) for /: 'int' and 'set'"
     ]
    }
   ],
   "source": [
    "1/{2*3*4}"
   ]
  },
  {
   "cell_type": "markdown",
   "id": "e6a21e28-37e6-4eb8-add3-32eacfd12ed1",
   "metadata": {},
   "source": [
    "Compute the sum\n",
    "\n",
    "$$\n",
    "\\sum_{n=1}^N \\frac{1}{n^2}\n",
    "$$\n",
    "\n",
    "for $N=10$."
   ]
  },
  {
   "cell_type": "code",
   "execution_count": 23,
   "id": "10a7e050-164d-4da5-aabf-058b1635a3d7",
   "metadata": {},
   "outputs": [
    {
     "data": {
      "text/plain": [
       "1.5497677311665408"
      ]
     },
     "execution_count": 23,
     "metadata": {},
     "output_type": "execute_result"
    }
   ],
   "source": [
    "1  + 1/2**2 + 1/3**2 + 1/4**2 + 1/5**2 + 1/6**2 + 1/7**2 + 1/8**2 + 1/9**2 + 1/10**2"
   ]
  },
  {
   "cell_type": "markdown",
   "id": "b73cd434-0b56-4d15-950b-f99d5d8d7771",
   "metadata": {},
   "source": [
    "## Variables"
   ]
  },
  {
   "cell_type": "code",
   "execution_count": 24,
   "id": "c8a3e09a-d9cf-4514-8f70-ba0865cd007c",
   "metadata": {},
   "outputs": [
    {
     "data": {
      "text/plain": [
       "1.618033988749895"
      ]
     },
     "execution_count": 24,
     "metadata": {},
     "output_type": "execute_result"
    }
   ],
   "source": [
    "a = 1\n",
    "b = -1\n",
    "c = -1\n",
    "(-b + (b**2 - 4*a*c)**(1/2))/(2*a)"
   ]
  },
  {
   "cell_type": "code",
   "execution_count": 25,
   "id": "a42b7663-08dd-41d1-91aa-726020a72a8e",
   "metadata": {},
   "outputs": [
    {
     "data": {
      "text/plain": [
       "0.3666666666666667"
      ]
     },
     "execution_count": 25,
     "metadata": {},
     "output_type": "execute_result"
    }
   ],
   "source": [
    "x = -1\n",
    "x**0/1 + x**1/1 + x**2/2 + x**3/(2*3) + x**4/(2*3*4) + x**5/(2*3*4*5)"
   ]
  }
 ],
 "metadata": {
  "kernelspec": {
   "display_name": "Python 3 (ipykernel)",
   "language": "python",
   "name": "python3"
  },
  "language_info": {
   "codemirror_mode": {
    "name": "ipython",
    "version": 3
   },
   "file_extension": ".py",
   "mimetype": "text/x-python",
   "name": "python",
   "nbconvert_exporter": "python",
   "pygments_lexer": "ipython3",
   "version": "3.11.6"
  }
 },
 "nbformat": 4,
 "nbformat_minor": 5
}
