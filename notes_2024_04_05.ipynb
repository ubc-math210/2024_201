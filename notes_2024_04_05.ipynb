{
 "cells": [
  {
   "cell_type": "markdown",
   "id": "5c5bf578-cb1b-42a3-a7e0-0971c3cb8a46",
   "metadata": {},
   "source": [
    "# MATH 210 Introduction to Mathematical Computing\n",
    "\n",
    "**April 5, 2024**"
   ]
  },
  {
   "cell_type": "code",
   "execution_count": 74,
   "id": "22cf0acf-c764-4b1d-a9a3-ea860f56f463",
   "metadata": {
    "tags": []
   },
   "outputs": [],
   "source": [
    "import numpy as np\n",
    "import matplotlib.pyplot as plt\n",
    "import scipy.linalg as la"
   ]
  },
  {
   "cell_type": "markdown",
   "id": "5860785e-ffaf-49d4-93ed-4e14803d0f74",
   "metadata": {},
   "source": [
    "## Eigenvalues and Eigenvectors"
   ]
  },
  {
   "cell_type": "markdown",
   "id": "a555d257-d144-450f-81a2-abd6d9e4a0fb",
   "metadata": {},
   "source": [
    "The function `scipy.linalg.eig` returns a tuple where the first value is an array of eigenvalues and the second value in the tuple is the matrix of eigenvectors."
   ]
  },
  {
   "cell_type": "code",
   "execution_count": 77,
   "id": "42c9e7c9-abae-4b09-a3a9-4de24e5d6366",
   "metadata": {
    "tags": []
   },
   "outputs": [
    {
     "data": {
      "text/plain": [
       "array([[1., 2.],\n",
       "       [2., 1.]])"
      ]
     },
     "execution_count": 77,
     "metadata": {},
     "output_type": "execute_result"
    }
   ],
   "source": [
    "A = np.array([[1.,2.],[2.,1.]])\n",
    "A"
   ]
  },
  {
   "cell_type": "code",
   "execution_count": 78,
   "id": "f1eac1e7-7ec7-440b-89d6-77b48aadeaf6",
   "metadata": {
    "tags": []
   },
   "outputs": [
    {
     "data": {
      "text/plain": [
       "(array([ 3.+0.j, -1.+0.j]),\n",
       " array([[ 0.70710678, -0.70710678],\n",
       "        [ 0.70710678,  0.70710678]]))"
      ]
     },
     "execution_count": 78,
     "metadata": {},
     "output_type": "execute_result"
    }
   ],
   "source": [
    "result = la.eig(A)\n",
    "result"
   ]
  },
  {
   "cell_type": "code",
   "execution_count": 79,
   "id": "9b405b34-0ecf-4b8d-a31c-0e7cdfdf13e6",
   "metadata": {
    "tags": []
   },
   "outputs": [],
   "source": [
    "evals = result[0]\n",
    "evecs = result[1]"
   ]
  },
  {
   "cell_type": "code",
   "execution_count": 80,
   "id": "310baef4-f88d-43ff-8a42-bed239ccebab",
   "metadata": {
    "tags": []
   },
   "outputs": [
    {
     "data": {
      "text/plain": [
       "array([ 3.+0.j, -1.+0.j])"
      ]
     },
     "execution_count": 80,
     "metadata": {},
     "output_type": "execute_result"
    }
   ],
   "source": [
    "evals"
   ]
  },
  {
   "cell_type": "code",
   "execution_count": 81,
   "id": "2b45126f-b973-4981-aa94-8211bf6da882",
   "metadata": {
    "tags": []
   },
   "outputs": [
    {
     "data": {
      "text/plain": [
       "array([[ 0.70710678, -0.70710678],\n",
       "       [ 0.70710678,  0.70710678]])"
      ]
     },
     "execution_count": 81,
     "metadata": {},
     "output_type": "execute_result"
    }
   ],
   "source": [
    "evecs"
   ]
  },
  {
   "cell_type": "markdown",
   "id": "dfa89943-429a-455b-9948-7bdce468c137",
   "metadata": {},
   "source": [
    "We can unpack the eigenvalues and eigenvectors directly."
   ]
  },
  {
   "cell_type": "code",
   "execution_count": 82,
   "id": "0f282d0e-208a-4b77-90bc-cb76fe4fc8f0",
   "metadata": {
    "tags": []
   },
   "outputs": [],
   "source": [
    "evals,evecs = la.eig(A)"
   ]
  },
  {
   "cell_type": "code",
   "execution_count": 83,
   "id": "b3fc7214-538c-40cc-a81e-aeef797c253f",
   "metadata": {
    "tags": []
   },
   "outputs": [
    {
     "data": {
      "text/plain": [
       "array([ 3.+0.j, -1.+0.j])"
      ]
     },
     "execution_count": 83,
     "metadata": {},
     "output_type": "execute_result"
    }
   ],
   "source": [
    "evals"
   ]
  },
  {
   "cell_type": "code",
   "execution_count": 84,
   "id": "7aa58da4-85fb-4035-a22a-4203da50bac3",
   "metadata": {
    "tags": []
   },
   "outputs": [
    {
     "data": {
      "text/plain": [
       "array([[ 0.70710678, -0.70710678],\n",
       "       [ 0.70710678,  0.70710678]])"
      ]
     },
     "execution_count": 84,
     "metadata": {},
     "output_type": "execute_result"
    }
   ],
   "source": [
    "evecs"
   ]
  },
  {
   "cell_type": "markdown",
   "id": "229185d7-fe1e-4919-ab77-2038bb7ea27a",
   "metadata": {},
   "source": [
    "The function `la.eig` always returns eigenvalues as complex numbers. We interpret eigenvalues as real if the imaginary part is 0 or very small like `1e-15`."
   ]
  },
  {
   "cell_type": "code",
   "execution_count": 85,
   "id": "94ecf4b3-7417-48a5-806c-4654ab218081",
   "metadata": {
    "tags": []
   },
   "outputs": [
    {
     "data": {
      "text/plain": [
       "array([ 3., -1.])"
      ]
     },
     "execution_count": 85,
     "metadata": {},
     "output_type": "execute_result"
    }
   ],
   "source": [
    "evals = evals.real\n",
    "evals"
   ]
  },
  {
   "cell_type": "markdown",
   "id": "a7ea0bb0-0933-420c-bb86-12e256906bc0",
   "metadata": {
    "tags": []
   },
   "source": [
    "Any (nonzero) multiple of an eigenvector is also an eigenvector. The fucntion `la.eig` returns the eigenvectors as a matrix where column `i` corresponds to eigenvalue at index `i` and each column is a unit vector."
   ]
  },
  {
   "cell_type": "code",
   "execution_count": 86,
   "id": "9663e600-e8c4-4ad4-ad03-17d59ab84eac",
   "metadata": {
    "tags": []
   },
   "outputs": [
    {
     "data": {
      "text/plain": [
       "array([[ 2., -1., -1.],\n",
       "       [-1.,  2., -1.],\n",
       "       [-1., -1.,  2.]])"
      ]
     },
     "execution_count": 86,
     "metadata": {},
     "output_type": "execute_result"
    }
   ],
   "source": [
    "A = np.array([[2.,-1.,-1.],[-1.,2.,-1.],[-1.,-1.,2.]])\n",
    "A"
   ]
  },
  {
   "cell_type": "code",
   "execution_count": 87,
   "id": "30ea05e8-351e-4ed9-93f8-af3f5ce6012e",
   "metadata": {
    "tags": []
   },
   "outputs": [],
   "source": [
    "evals,evecs = la.eig(A)"
   ]
  },
  {
   "cell_type": "code",
   "execution_count": 89,
   "id": "ef4cf85c-99f6-49d4-86c9-ce43c04884ed",
   "metadata": {
    "tags": []
   },
   "outputs": [
    {
     "data": {
      "text/plain": [
       "array([ 3.00000000e+00+0.j, -4.23796137e-16+0.j,  3.00000000e+00+0.j])"
      ]
     },
     "execution_count": 89,
     "metadata": {},
     "output_type": "execute_result"
    }
   ],
   "source": [
    "evals"
   ]
  },
  {
   "cell_type": "code",
   "execution_count": 90,
   "id": "e261d51b-caad-4518-b271-9cb5f1858b69",
   "metadata": {
    "tags": []
   },
   "outputs": [
    {
     "data": {
      "text/plain": [
       "array([ 3., -0.,  3.])"
      ]
     },
     "execution_count": 90,
     "metadata": {},
     "output_type": "execute_result"
    }
   ],
   "source": [
    "evals.real.round(15)"
   ]
  },
  {
   "cell_type": "code",
   "execution_count": 91,
   "id": "c6bb39ef-b81c-455f-8393-87a608f9eeac",
   "metadata": {
    "tags": []
   },
   "outputs": [
    {
     "data": {
      "text/plain": [
       "array([[ 0.81649658, -0.57735027,  0.25359481],\n",
       "       [-0.40824829, -0.57735027, -0.79893374],\n",
       "       [-0.40824829, -0.57735027,  0.54533893]])"
      ]
     },
     "execution_count": 91,
     "metadata": {},
     "output_type": "execute_result"
    }
   ],
   "source": [
    "evecs"
   ]
  },
  {
   "cell_type": "code",
   "execution_count": 92,
   "id": "225e47a0-c012-4578-a99d-85f798ec17a5",
   "metadata": {
    "tags": []
   },
   "outputs": [
    {
     "data": {
      "text/plain": [
       "0.5773502691896258"
      ]
     },
     "execution_count": 92,
     "metadata": {},
     "output_type": "execute_result"
    }
   ],
   "source": [
    "1/3**0.5"
   ]
  },
  {
   "cell_type": "code",
   "execution_count": 93,
   "id": "1688cf94-0860-4d1b-916e-521f8366238c",
   "metadata": {
    "tags": []
   },
   "outputs": [
    {
     "data": {
      "text/plain": [
       "-0.4082482904638631"
      ]
     },
     "execution_count": 93,
     "metadata": {},
     "output_type": "execute_result"
    }
   ],
   "source": [
    "-1/6**0.5"
   ]
  }
 ],
 "metadata": {
  "kernelspec": {
   "display_name": "Python 3 (ipykernel)",
   "language": "python",
   "name": "python3"
  },
  "language_info": {
   "codemirror_mode": {
    "name": "ipython",
    "version": 3
   },
   "file_extension": ".py",
   "mimetype": "text/x-python",
   "name": "python",
   "nbconvert_exporter": "python",
   "pygments_lexer": "ipython3",
   "version": "3.10.12"
  }
 },
 "nbformat": 4,
 "nbformat_minor": 5
}
