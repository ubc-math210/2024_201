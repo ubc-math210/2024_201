{
 "cells": [
  {
   "cell_type": "markdown",
   "id": "b2e37b70-9440-4013-a155-8ab5a840d2a9",
   "metadata": {},
   "source": [
    "# MATH 210 Introduction to Mathematical Computing\n",
    "\n",
    "**January 19, 2024**\n",
    "\n",
    "* Builtin Functions\n",
    "* Function Construction\n",
    "* Examples"
   ]
  },
  {
   "cell_type": "markdown",
   "id": "4554db37-02b2-41b8-83e6-20d3797f563d",
   "metadata": {},
   "source": [
    "## Builtin Functions\n",
    "\n",
    "There are several builtin functions in Python ready for us to use. For example, some functions for sequences are:\n",
    "\n",
    "* `sum` : add entries in a sequence\n",
    "* `max` : find the maximum value in a sequence\n",
    "* `min` : find the minimum value in a sequence\n",
    "* `len` : find the length of a sequence\n",
    "\n",
    "Other useful functions are:\n",
    "\n",
    "* `print` : print value to output\n",
    "* `type` : show the datatype of a value\n",
    "* `list` : to convert a sequence to a list type\n",
    "* `range` : create a range object"
   ]
  },
  {
   "cell_type": "markdown",
   "id": "2dbde9e2-761f-4863-885d-329ed8196829",
   "metadata": {},
   "source": [
    "For example, use `sum` and `len` to compute the average value of the sequence\n",
    "\n",
    "$$\n",
    "x_n = 1/n \\ ,  \\ \\ n=1,\\dots,100\n",
    "$$"
   ]
  },
  {
   "cell_type": "code",
   "execution_count": 1,
   "id": "9e4e4084-790f-4202-be8e-49166fb2ec96",
   "metadata": {},
   "outputs": [
    {
     "name": "stdout",
     "output_type": "stream",
     "text": [
      "0.05187377517639621\n"
     ]
    }
   ],
   "source": [
    "x = [1/n for n in range(1,101)]\n",
    "average = sum(x)/len(x)\n",
    "print(average)"
   ]
  },
  {
   "cell_type": "code",
   "execution_count": 2,
   "id": "e335720b-f556-467c-acbd-f42b3673693e",
   "metadata": {},
   "outputs": [
    {
     "data": {
      "text/plain": [
       "[1.0, 0.5, 0.3333333333333333, 0.25, 0.2]"
      ]
     },
     "execution_count": 2,
     "metadata": {},
     "output_type": "execute_result"
    }
   ],
   "source": [
    "x[:5]"
   ]
  },
  {
   "cell_type": "code",
   "execution_count": 3,
   "id": "94366999-365e-4d86-96ef-36dc5abf3789",
   "metadata": {},
   "outputs": [
    {
     "data": {
      "text/plain": [
       "[0.010416666666666666,\n",
       " 0.010309278350515464,\n",
       " 0.01020408163265306,\n",
       " 0.010101010101010102,\n",
       " 0.01]"
      ]
     },
     "execution_count": 3,
     "metadata": {},
     "output_type": "execute_result"
    }
   ],
   "source": [
    "x[-5:]"
   ]
  },
  {
   "cell_type": "code",
   "execution_count": 4,
   "id": "e8def59c-de8d-491a-ad21-8c3873df4c26",
   "metadata": {},
   "outputs": [
    {
     "data": {
      "text/plain": [
       "0.010101010101010102"
      ]
     },
     "execution_count": 4,
     "metadata": {},
     "output_type": "execute_result"
    }
   ],
   "source": [
    "1/99"
   ]
  },
  {
   "cell_type": "markdown",
   "id": "e4086f3e-5562-48e3-9e38-6bdb47f85fef",
   "metadata": {},
   "source": [
    "Use the functions `max` and `min` to approximate the maximum and minimum values of the function\n",
    "\n",
    "$$\n",
    "f(x) = \\frac{1 - x + x^4}{1 + 2x^3}\n",
    "$$\n",
    "\n",
    "on the interval $[0,2]$.\n",
    "\n",
    "Let's first construct the sequence of $N$ equally sapces values from $x=a$ to $x=b$.\n",
    "\n",
    "What is the step size $\\Delta x$ for a sequence of length $N$ of equally spaced values from $a$ and $b$?\n",
    "\n",
    "$$\n",
    "\\Delta x = \\frac{b - a}{N - 1}\n",
    "$$\n",
    "\n",
    "For example, if $a=0$, $b=1$ and $N=3$ then $\\Delta x = 0.5$.\n",
    "\n",
    "Define sequences\n",
    "\n",
    "$$\n",
    "x_k = a + k \\Delta x \\ , \\ \\ k=0,\\dots,N-1\n",
    "$$\n",
    "\n",
    "$$\n",
    "y_k = \\frac{1 - x_k + x_k^4}{1 + 2x_k^3} \\ , \\ \\ k=0,\\dots,N-1\n",
    "$$\n",
    "\n",
    "Use a large value $N$ to get a more accurate result!"
   ]
  },
  {
   "cell_type": "code",
   "execution_count": 8,
   "id": "d821c7d4-c2b9-4502-879b-3fef20a882c6",
   "metadata": {},
   "outputs": [
    {
     "data": {
      "text/plain": [
       "0.3006166545627581"
      ]
     },
     "execution_count": 8,
     "metadata": {},
     "output_type": "execute_result"
    }
   ],
   "source": [
    "N = 1000\n",
    "a = 0\n",
    "b = 2\n",
    "dx = (b - a)/(N - 1)\n",
    "x = [a + k*dx for k in range(N)]\n",
    "#y = [(1 - xk + xk**4)/(1 + 2*xk**3) for xk in x]\n",
    "y = [(1 - x[k] + x[k]**4)/(1 + 2*x[k]**3) for k in range(N)]\n",
    "min(y)"
   ]
  },
  {
   "cell_type": "markdown",
   "id": "21fdc1af-0ac2-4c3f-b351-9d9f5956db95",
   "metadata": {},
   "source": [
    "## Function Construction\n",
    "\n",
    "A function is an object that takes input and returns output. The syntax to define a Python function is:\n",
    "\n",
    "```python\n",
    "def fun(a,b,c):\n",
    "    \"Documentation string describing the function.\"\n",
    "    # Python code\n",
    "    return value\n",
    "```\n",
    "\n",
    "* keyword `def` starts the function definition\n",
    "* `fun` is the function name\n",
    "* input parameters are listed within parentheses `(a,b,c)`\n",
    "* the `def` statement ends with a colon `:`\n",
    "* the body of the function is indented 4 spaces\n",
    "* the documentation string is optional and describes the function\n",
    "* `return` statement returns the output value\n",
    "\n",
    "It's good practice to use a systematic approach to writing code:\n",
    "\n",
    "1. Write a stub\n",
    "2. Write tests for known input and output\n",
    "3. Writing the function step by step while testing\n",
    "\n",
    "A stub is the minimal amount of code required to call the function with input and return output of the right type."
   ]
  },
  {
   "cell_type": "markdown",
   "id": "467dceff-92da-4a39-b8f7-d16fcb8af8c1",
   "metadata": {},
   "source": [
    "## Examples\n",
    "\n",
    "Write a function called `average` which takes an input paramter `x` (list of numbers) and returns the average value of `x`."
   ]
  },
  {
   "cell_type": "code",
   "execution_count": 9,
   "id": "4c8d89f7-8140-4ad6-a15e-b20cca4eb3b5",
   "metadata": {},
   "outputs": [],
   "source": [
    "def average(x):\n",
    "    value = sum(x)/len(x)\n",
    "    return value"
   ]
  },
  {
   "cell_type": "code",
   "execution_count": 10,
   "id": "02b2782d-6d3d-4aae-8fd0-2bb6e28572ec",
   "metadata": {},
   "outputs": [
    {
     "data": {
      "text/plain": [
       "2.5"
      ]
     },
     "execution_count": 10,
     "metadata": {},
     "output_type": "execute_result"
    }
   ],
   "source": [
    "average([1,2,3,4]) # The output should be 2.5"
   ]
  },
  {
   "cell_type": "markdown",
   "id": "134f0ad1-f8b2-4aa2-9fce-3b4401fa02de",
   "metadata": {},
   "source": [
    "Write a function called `linspace` which takes input `a`, `b` and `N` and returns the list of length `N` of equally spaced values from `a` to `b` (inclusive)."
   ]
  },
  {
   "cell_type": "code",
   "execution_count": 13,
   "id": "4cb48593-eda2-46b4-b918-efc71730b1bc",
   "metadata": {},
   "outputs": [],
   "source": [
    "def linspace(a,b,N):\n",
    "    dx = (b - a)/(N - 1)\n",
    "    x = [a + k*dx for k in range(N)]\n",
    "    return x"
   ]
  },
  {
   "cell_type": "code",
   "execution_count": 16,
   "id": "e7a40cbd-435b-4715-a8c5-106a97a39f3f",
   "metadata": {},
   "outputs": [
    {
     "data": {
      "text/plain": [
       "[0.0, 0.25, 0.5, 0.75, 1.0]"
      ]
     },
     "execution_count": 16,
     "metadata": {},
     "output_type": "execute_result"
    }
   ],
   "source": [
    "linspace(0,1,5) # Output should be [0.0, 0.25, 0.5, 0.75, 1.0]"
   ]
  }
 ],
 "metadata": {
  "kernelspec": {
   "display_name": "Python 3 (ipykernel)",
   "language": "python",
   "name": "python3"
  },
  "language_info": {
   "codemirror_mode": {
    "name": "ipython",
    "version": 3
   },
   "file_extension": ".py",
   "mimetype": "text/x-python",
   "name": "python",
   "nbconvert_exporter": "python",
   "pygments_lexer": "ipython3",
   "version": "3.11.6"
  }
 },
 "nbformat": 4,
 "nbformat_minor": 5
}
