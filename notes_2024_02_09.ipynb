{
 "cells": [
  {
   "cell_type": "markdown",
   "id": "6ee4bf5f-a335-4123-b121-3bcd30f05241",
   "metadata": {},
   "source": [
    "# MATH 210 Introduction to Mathematical Computing\n",
    "\n",
    "**February 9, 2024**"
   ]
  },
  {
   "cell_type": "markdown",
   "id": "7da08171-cdfb-43c1-9f7c-9b87feda8e8b",
   "metadata": {},
   "source": [
    "## Python Packages\n",
    "\n",
    "A Python package is a collection of files that contain Python code. We can import packages and then access the functions and objects defined in the package. There are Python packages for *everything*: machine learning, data visualization, creating web applications, image processing, statistics, ..."
   ]
  },
  {
   "cell_type": "markdown",
   "id": "d05b3485-0333-459d-a55b-ade1d493d45a",
   "metadata": {},
   "source": [
    "We are going to use the 3 main mathematical computing packages: NumPy, SciPy and Matplotlib.\n",
    "\n",
    "NumPy provides the ndarray datatype which is vectors and matrices, and also provides all the usual mathematical functions like $e^x$, $\\sin(x)$, $\\cos(x)$, ...\n",
    "\n",
    "Matplotlib is the main plotting package. We can create all kinds of data visualizations and graphs.\n",
    "\n",
    "SciPy contains algorithms for differential equations, linear algebra, .."
   ]
  },
  {
   "cell_type": "markdown",
   "id": "ea6da1ac-ca50-47df-b1d9-52f99246c581",
   "metadata": {},
   "source": [
    "Use the keyword `import` to import a package:"
   ]
  },
  {
   "cell_type": "code",
   "execution_count": 1,
   "id": "ac90b334-c9c3-4e2a-8a1e-35b1f1d6ac0b",
   "metadata": {},
   "outputs": [],
   "source": [
    "import numpy as np"
   ]
  },
  {
   "cell_type": "markdown",
   "id": "3837a4ff-481f-4930-92da-89c856272615",
   "metadata": {},
   "source": [
    "Use the keyword `as` to import NumPy under the alias `np`."
   ]
  },
  {
   "cell_type": "markdown",
   "id": "aacea6a5-51d7-4a42-a7e2-ddfa653b53cb",
   "metadata": {},
   "source": [
    "The package is imported as a `module` type."
   ]
  },
  {
   "cell_type": "code",
   "execution_count": 2,
   "id": "21729e92-421f-4f96-9a78-bc381839e720",
   "metadata": {},
   "outputs": [
    {
     "data": {
      "text/plain": [
       "module"
      ]
     },
     "execution_count": 2,
     "metadata": {},
     "output_type": "execute_result"
    }
   ],
   "source": [
    "type(np)"
   ]
  },
  {
   "cell_type": "markdown",
   "id": "9c57ad26-7327-4ee3-9b4f-5cf6264ff2a3",
   "metadata": {},
   "source": [
    "We access the functions and data in the module using the dot syntax."
   ]
  },
  {
   "cell_type": "code",
   "execution_count": 3,
   "id": "d34c3b47-fa93-420a-95d2-d008eb1a9514",
   "metadata": {},
   "outputs": [
    {
     "data": {
      "text/plain": [
       "3.141592653589793"
      ]
     },
     "execution_count": 3,
     "metadata": {},
     "output_type": "execute_result"
    }
   ],
   "source": [
    "np.pi"
   ]
  },
  {
   "cell_type": "markdown",
   "id": "4a2ae38e-8274-4bf6-98bc-6c1fa483f1b0",
   "metadata": {},
   "source": [
    "For example, the function `np.linspace(a,b,N)` creates a NumPy array (ie. vector) of $N$ equally spaced values from $a$ to $b$."
   ]
  },
  {
   "cell_type": "code",
   "execution_count": 4,
   "id": "c5343c52-8374-4d3c-b2b1-e3e454e8f477",
   "metadata": {},
   "outputs": [
    {
     "name": "stdout",
     "output_type": "stream",
     "text": [
      "[0.  0.1 0.2 0.3 0.4 0.5 0.6 0.7 0.8 0.9 1. ]\n"
     ]
    }
   ],
   "source": [
    "x = np.linspace(0,1,11)\n",
    "print(x)"
   ]
  },
  {
   "cell_type": "code",
   "execution_count": 5,
   "id": "ac5d429a-e28e-489d-851b-c419afc69aa2",
   "metadata": {},
   "outputs": [
    {
     "data": {
      "text/plain": [
       "numpy.ndarray"
      ]
     },
     "execution_count": 5,
     "metadata": {},
     "output_type": "execute_result"
    }
   ],
   "source": [
    "type(x)"
   ]
  },
  {
   "cell_type": "markdown",
   "id": "f87f2fee-3984-4ad5-9d96-24dd80837535",
   "metadata": {},
   "source": [
    "NumPy handles floating point arithmetic better than pure Python. Compare:"
   ]
  },
  {
   "cell_type": "code",
   "execution_count": 7,
   "id": "a717cedb-a79b-4a9e-ba34-65c1590f6cba",
   "metadata": {},
   "outputs": [
    {
     "data": {
      "text/plain": [
       "[0.0,\n",
       " 0.1,\n",
       " 0.2,\n",
       " 0.30000000000000004,\n",
       " 0.4,\n",
       " 0.5,\n",
       " 0.6000000000000001,\n",
       " 0.7000000000000001,\n",
       " 0.8,\n",
       " 0.9,\n",
       " 1.0]"
      ]
     },
     "execution_count": 7,
     "metadata": {},
     "output_type": "execute_result"
    }
   ],
   "source": [
    "[0.1*k for k in range(11)]"
   ]
  },
  {
   "cell_type": "markdown",
   "id": "10ca6d1e-c27a-4107-87e5-acd0be38f002",
   "metadata": {},
   "source": [
    "NumPy has all the usual mathematical functions: `np.exp`, `np.sin`, `np.cos`, `np.log`, ..."
   ]
  },
  {
   "cell_type": "code",
   "execution_count": 8,
   "id": "25f11fce-454c-400b-9859-1f27dfbdbb27",
   "metadata": {},
   "outputs": [
    {
     "data": {
      "text/plain": [
       "2.718281828459045"
      ]
     },
     "execution_count": 8,
     "metadata": {},
     "output_type": "execute_result"
    }
   ],
   "source": [
    "np.exp(1)"
   ]
  },
  {
   "cell_type": "code",
   "execution_count": 9,
   "id": "c15b073c-6d58-47fe-8172-2944cf05d362",
   "metadata": {},
   "outputs": [
    {
     "data": {
      "text/plain": [
       "0.8414709848078965"
      ]
     },
     "execution_count": 9,
     "metadata": {},
     "output_type": "execute_result"
    }
   ],
   "source": [
    "np.sin(1)"
   ]
  },
  {
   "cell_type": "code",
   "execution_count": 10,
   "id": "4bdb6692-9f82-45cd-bc83-3a16c126e103",
   "metadata": {},
   "outputs": [
    {
     "data": {
      "text/plain": [
       "0.8660254037844386"
      ]
     },
     "execution_count": 10,
     "metadata": {},
     "output_type": "execute_result"
    }
   ],
   "source": [
    "3**0.5/2"
   ]
  },
  {
   "cell_type": "code",
   "execution_count": 11,
   "id": "9531979d-6d38-459c-b763-a7f5ba5ee701",
   "metadata": {},
   "outputs": [
    {
     "data": {
      "text/plain": [
       "0.7071067811865476"
      ]
     },
     "execution_count": 11,
     "metadata": {},
     "output_type": "execute_result"
    }
   ],
   "source": [
    "np.cos(np.pi/4)"
   ]
  },
  {
   "cell_type": "code",
   "execution_count": 12,
   "id": "177d50d5-0706-42bd-a830-bce0246ed649",
   "metadata": {},
   "outputs": [
    {
     "data": {
      "text/plain": [
       "0.7071067811865475"
      ]
     },
     "execution_count": 12,
     "metadata": {},
     "output_type": "execute_result"
    }
   ],
   "source": [
    "1/2**0.5"
   ]
  },
  {
   "cell_type": "markdown",
   "id": "8d8ad4b5-570f-4ba6-8323-a98984180c23",
   "metadata": {},
   "source": [
    "Matplotlib is the plotting package."
   ]
  },
  {
   "cell_type": "code",
   "execution_count": 13,
   "id": "e37fd08e-ad15-45bd-9a6a-9f5539aa04be",
   "metadata": {},
   "outputs": [],
   "source": [
    "import matplotlib.pyplot as plt"
   ]
  },
  {
   "cell_type": "code",
   "execution_count": 14,
   "id": "824d5cf4-d64e-4def-bf37-8516246734e4",
   "metadata": {},
   "outputs": [
    {
     "data": {
      "image/png": "[encoded data removed]",
      "text/plain": [
       "<Figure size 640x480 with 1 Axes>"
      ]
     },
     "metadata": {},
     "output_type": "display_data"
    }
   ],
   "source": [
    "x = np.linspace(0,5,100)\n",
    "y = 1/(1 + np.exp(-x**2))\n",
    "lines = plt.plot(x,y)\n",
    "plt.show()"
   ]
  },
  {
   "cell_type": "code",
   "execution_count": 15,
   "id": "e3052d6e-3e54-4602-b58c-b273398e65ef",
   "metadata": {},
   "outputs": [
    {
     "data": {
      "text/plain": [
       "numpy.ndarray"
      ]
     },
     "execution_count": 15,
     "metadata": {},
     "output_type": "execute_result"
    }
   ],
   "source": [
    "type(y)"
   ]
  },
  {
   "cell_type": "markdown",
   "id": "b1874258-3d9b-44b6-b3be-169493842c9a",
   "metadata": {},
   "source": [
    "## Vectorization\n",
    "\n",
    "Vectorization refers to applying a function or operation to a vector elementwise (ie. entry-by-entry)."
   ]
  },
  {
   "cell_type": "markdown",
   "id": "f1ea1b91-0800-48f2-a9b7-3caeb5f3d3b2",
   "metadata": {},
   "source": [
    "$$\n",
    "\\mathbf{x} = \\left( x_0,x_1,\\dots,x_{n-1}\\right)\n",
    "$$"
   ]
  },
  {
   "cell_type": "markdown",
   "id": "8a0861ec-1833-4e8f-883f-9e37c0d0ad6a",
   "metadata": {},
   "source": [
    "$$\n",
    "\\mathbf{x}^2 = \\left( x_0^2 , x_1^2 , \\dots , x_{n-1}^2 \\right)\n",
    "$$"
   ]
  },
  {
   "cell_type": "markdown",
   "id": "1821375c-d057-4f70-91ab-d593b2a44775",
   "metadata": {},
   "source": [
    "$$\n",
    "e^{-\\mathbf{x}^2} = \\left( e^{-x_0^2} , e^{-x_1^2} , \\dots , e^{-x_{n-1}^2} \\right)\n",
    "$$"
   ]
  },
  {
   "cell_type": "markdown",
   "id": "8f33305d-1f4d-4ad1-b4d7-78f797c0daa6",
   "metadata": {},
   "source": [
    "$$\n",
    "\\frac{1}{1 + e^{-\\mathbf{x}^2}} = \\left( \\frac{1}{1 + e^{-x_0^2}} , \\frac{1}{1 + e^{-x_1^2}} , \\dots , \\frac{1}{1 + e^{-x_{n-1}^2}} \\right)\n",
    "$$"
   ]
  },
  {
   "cell_type": "markdown",
   "id": "2651e739-139b-417c-983d-5b34431103c0",
   "metadata": {},
   "source": [
    "In other words, if $\\mathbf{y} = \\frac{1}{1 + e^{-\\mathbf{x}^2}}$ then the $k$th entry of $\\mathbf{y}$ is\n",
    "\n",
    "$$\n",
    "y_k = \\frac{1}{1 + e^{-x_k^2}}\n",
    "$$\n"
   ]
  },
  {
   "cell_type": "code",
   "execution_count": 16,
   "id": "974d7de3-218c-4fa9-84f0-aa131dc68807",
   "metadata": {},
   "outputs": [],
   "source": [
    "x = np.linspace(0,1,101)\n",
    "y = x**2*np.cos(np.pi*x)"
   ]
  },
  {
   "cell_type": "code",
   "execution_count": 17,
   "id": "2d4e994d-c8d0-4d14-aa13-45177100a16d",
   "metadata": {},
   "outputs": [
    {
     "data": {
      "text/plain": [
       "0.25"
      ]
     },
     "execution_count": 17,
     "metadata": {},
     "output_type": "execute_result"
    }
   ],
   "source": [
    "x[25]"
   ]
  },
  {
   "cell_type": "markdown",
   "id": "067eb2e4-076c-4b60-95c0-c42bb53326a1",
   "metadata": {},
   "source": [
    "$y_{25} = 0.25^2 \\cos(0.25 \\pi) = (1/16)(1/\\sqrt{2})$."
   ]
  },
  {
   "cell_type": "code",
   "execution_count": 19,
   "id": "df746db6-fe24-4141-bbeb-54b9c5ea361c",
   "metadata": {},
   "outputs": [
    {
     "data": {
      "text/plain": [
       "0.04419417382415922"
      ]
     },
     "execution_count": 19,
     "metadata": {},
     "output_type": "execute_result"
    }
   ],
   "source": [
    "y[25]"
   ]
  },
  {
   "cell_type": "code",
   "execution_count": 20,
   "id": "674d7537-5baa-4ed0-8172-df240f82287c",
   "metadata": {},
   "outputs": [
    {
     "data": {
      "text/plain": [
       "0.044194173824159216"
      ]
     },
     "execution_count": 20,
     "metadata": {},
     "output_type": "execute_result"
    }
   ],
   "source": [
    "0.25**2*1/2**0.5"
   ]
  },
  {
   "cell_type": "code",
   "execution_count": 21,
   "id": "f483d84d-e7b7-4db9-b5d9-5b7f281fef46",
   "metadata": {},
   "outputs": [
    {
     "data": {
      "image/png": "[encoded data removed]",
      "text/plain": [
       "<Figure size 640x480 with 1 Axes>"
      ]
     },
     "metadata": {},
     "output_type": "display_data"
    }
   ],
   "source": [
    "x = np.linspace(0,50,1000)\n",
    "y = np.exp(-0.1*x)*np.sin(3*x)\n",
    "plt.plot(x,y)\n",
    "plt.show()"
   ]
  }
 ],
 "metadata": {
  "kernelspec": {
   "display_name": "Python 3 (ipykernel)",
   "language": "python",
   "name": "python3"
  },
  "language_info": {
   "codemirror_mode": {
    "name": "ipython",
    "version": 3
   },
   "file_extension": ".py",
   "mimetype": "text/x-python",
   "name": "python",
   "nbconvert_exporter": "python",
   "pygments_lexer": "ipython3",
   "version": "3.11.6"
  }
 },
 "nbformat": 4,
 "nbformat_minor": 5
}
