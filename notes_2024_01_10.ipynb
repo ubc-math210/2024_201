{
 "cells": [
  {
   "cell_type": "markdown",
   "id": "6c630425-f297-4d75-9ac1-000acc2cfd4b",
   "metadata": {},
   "source": [
    "# MATH 210 Introduction to Mathematical Computing\n",
    "\n",
    "**January 10, 2024**\n",
    "\n",
    "* LaTeX\n",
    "* Common Symbols\n",
    "* Calculus\n",
    "* Linear Algebra\n",
    "* Examples"
   ]
  },
  {
   "cell_type": "markdown",
   "id": "5ceaa77e-cef2-49f8-9a0e-06662d5ad651",
   "metadata": {},
   "source": [
    "## LaTeX\n",
    "\n",
    "LaTeX is a full development environment for creating scientific documents. We are only going to use the math symbols part of LaTeX.\n",
    "\n",
    "Use dollar signs to render math symbols inline: `$ ... $`. For example, define a function $f(x) = e^{-x^2} \\cos(x)$.\n",
    "\n",
    "Use double dollar signs to display math notation in display mode: `$$ ... $$`. For example, the derivative of $f(x)$ at $x = a$ is the limit\n",
    "\n",
    "$$\n",
    "f'(a) = \\lim_{h \\to 0} \\frac{f(a + h) - f(a)}{h}\n",
    "$$"
   ]
  },
  {
   "cell_type": "markdown",
   "id": "68c0e174-29cf-452e-abe9-e6c22ddfbbee",
   "metadata": {},
   "source": [
    "## Common Symbols\n",
    "\n",
    "Greek letters: $\\alpha$, $\\beta$, $\\gamma$, $\\Gamma$, $\\phi$, $\\Phi$, $\\zeta$, $\\pi$, ...\n",
    "\n",
    "$$\n",
    "\\alpha, \\ \\beta, \\ \\gamma, \\ \\Gamma, \\ \\phi, \\ \\Phi, \\ \\zeta, \\ \\pi, \\dots\n",
    "$$\n",
    "\n",
    "Subscripts/superscripts: $x_n$, $x^2$, $e^{x^2}$, $2^{2^{2^2}}$, ...\n",
    "\n",
    "Function names: $\\cos$, $\\sin$, $\\log$, $\\log_{10}$"
   ]
  },
  {
   "cell_type": "markdown",
   "id": "9340fcd9-b158-488d-bee0-7b55cdcd4fa7",
   "metadata": {},
   "source": [
    "## Calculus\n",
    "\n",
    "The **fundamental theorem of calculus** states that\n",
    "\n",
    "$$\n",
    "\\int_a^b f(x) dx = F(b) - F(a)\n",
    "$$\n",
    "\n",
    "The **definite integral** of $f(x)$ from $a$ to $b$ is the limit of Riemann sums\n",
    "\n",
    "$$\n",
    "\\int_a^b f(x)dx = \\lim_{N \\to \\infty} \\sum_{k=1}^N f(x_k^*) \\Delta x\n",
    "$$\n",
    "\n",
    "for $x_k = a + k \\Delta x$, $k=0,1,\\dots,N$, $\\Delta x = \\frac{b - a}{N}$."
   ]
  },
  {
   "cell_type": "markdown",
   "id": "202c8c21-7c9a-4d86-9e7b-407aba1914e8",
   "metadata": {},
   "source": [
    "## Linear Algebra\n",
    "\n",
    "The **determinant** of a 2 by 2 matrix is\n",
    "\n",
    "$$\n",
    "\\det \\begin{bmatrix} a & b \\\\ c & d \\end{bmatrix} = ad - bc\n",
    "$$"
   ]
  },
  {
   "cell_type": "markdown",
   "id": "f903904f-f88e-45a0-9972-3f8281b31a3f",
   "metadata": {},
   "source": [
    "## Examples\n",
    "\n",
    "$$\n",
    "\\lim_{x \\to \\infty} \\frac{\\pi(x)}{ \\frac{x}{\\log x} } = 1\n",
    "$$\n",
    "\n",
    "$$\n",
    "\\oint_C \\left( Ldx + Mdy \\right) =  \\iint_D \\left( \\frac{\\partial M}{\\partial x} - \\frac{\\partial L}{\\partial y} \\right) dx dy\n",
    "$$\n",
    "\n",
    "See [Table of Integrals, Series, and Products](https://en.wikipedia.org/wiki/Gradshteyn_and_Ryzhik) for lots of examples of formulas."
   ]
  }
 ],
 "metadata": {
  "kernelspec": {
   "display_name": "Python 3 (ipykernel)",
   "language": "python",
   "name": "python3"
  },
  "language_info": {
   "codemirror_mode": {
    "name": "ipython",
    "version": 3
   },
   "file_extension": ".py",
   "mimetype": "text/x-python",
   "name": "python",
   "nbconvert_exporter": "python",
   "pygments_lexer": "ipython3",
   "version": "3.11.6"
  }
 },
 "nbformat": 4,
 "nbformat_minor": 5
}
