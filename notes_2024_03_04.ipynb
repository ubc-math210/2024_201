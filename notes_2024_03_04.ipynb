{
 "cells": [
  {
   "cell_type": "markdown",
   "id": "293ebc89-29be-494d-ab59-8856046417fa",
   "metadata": {},
   "source": [
    "# MATH 210 Introduction to Mathematical Computing\n",
    "\n",
    "**March 4, 2024**"
   ]
  },
  {
   "cell_type": "code",
   "execution_count": 5,
   "id": "68c68547-9ea8-426f-9c3b-eec073a3e343",
   "metadata": {},
   "outputs": [],
   "source": [
    "import numpy as np\n",
    "import scipy.integrate as spi\n",
    "import matplotlib.pyplot as plt"
   ]
  },
  {
   "cell_type": "markdown",
   "id": "73f1f720-dcac-4d67-a3c6-72d668022f90",
   "metadata": {},
   "source": [
    "## NumPy/SciPy Functions for Numerical Integration\n",
    "\n",
    "There are NumPy/SciPy functions to implement the trapezoid method and Simpson's method."
   ]
  },
  {
   "cell_type": "code",
   "execution_count": 6,
   "id": "147239a5-0197-4313-9ad5-240e26bece43",
   "metadata": {},
   "outputs": [
    {
     "name": "stdout",
     "output_type": "stream",
     "text": [
      "0.7462107961317495\n"
     ]
    }
   ],
   "source": [
    "a = 0\n",
    "b = 1\n",
    "f = lambda x: np.exp(-x**2)\n",
    "N = 10\n",
    "dx = (b-a)/N\n",
    "x = np.linspace(a,b,N+1)\n",
    "y = f(x)\n",
    "TN = np.sum(y[1:] + y[:-1])/2*dx\n",
    "print(TN)"
   ]
  },
  {
   "cell_type": "code",
   "execution_count": 7,
   "id": "385aef1f-e25d-4adf-9722-23433d270051",
   "metadata": {},
   "outputs": [
    {
     "name": "stdout",
     "output_type": "stream",
     "text": [
      "0.7462107961317493\n"
     ]
    }
   ],
   "source": [
    "T = np.trapz(y,x)\n",
    "print(T)"
   ]
  },
  {
   "cell_type": "code",
   "execution_count": 8,
   "id": "96994b2e-65a0-4c19-840c-b76036da9f14",
   "metadata": {},
   "outputs": [
    {
     "name": "stdout",
     "output_type": "stream",
     "text": [
      "0.7468249482544436\n"
     ]
    }
   ],
   "source": [
    "S = spi.simps(y,x)\n",
    "print(S)"
   ]
  }
 ],
 "metadata": {
  "kernelspec": {
   "display_name": "Python 3 (ipykernel)",
   "language": "python",
   "name": "python3"
  },
  "language_info": {
   "codemirror_mode": {
    "name": "ipython",
    "version": 3
   },
   "file_extension": ".py",
   "mimetype": "text/x-python",
   "name": "python",
   "nbconvert_exporter": "python",
   "pygments_lexer": "ipython3",
   "version": "3.11.6"
  }
 },
 "nbformat": 4,
 "nbformat_minor": 5
}
