{
 "cells": [
  {
   "cell_type": "markdown",
   "id": "ea2666aa-a1b0-4610-b378-2d10ffbe8218",
   "metadata": {},
   "source": [
    "# MATH 210 Introduction to Mathematical Computing\n",
    "\n",
    "**April 10, 2024**"
   ]
  },
  {
   "cell_type": "code",
   "execution_count": 22,
   "id": "261e9d93-99c9-4b68-9a37-f34fa7155e6c",
   "metadata": {
    "tags": []
   },
   "outputs": [],
   "source": [
    "import numpy as np\n",
    "import matplotlib.pyplot as plt\n",
    "import scipy.linalg as la"
   ]
  },
  {
   "cell_type": "markdown",
   "id": "6c5606e2-f49d-4a1f-b1e7-4afbfe751706",
   "metadata": {},
   "source": [
    "## Power Method"
   ]
  },
  {
   "cell_type": "code",
   "execution_count": 9,
   "id": "31c0740d-643c-4e66-b444-1fb48b2367f4",
   "metadata": {
    "tags": []
   },
   "outputs": [
    {
     "data": {
      "text/plain": [
       "array([[1., 1., 0., 0.],\n",
       "       [1., 1., 1., 0.],\n",
       "       [0., 1., 1., 1.],\n",
       "       [0., 0., 1., 1.]])"
      ]
     },
     "execution_count": 9,
     "metadata": {},
     "output_type": "execute_result"
    }
   ],
   "source": [
    "A = np.array([[1.,1.,0.,0.],[1.,1.,1.,0.],[0.,1.,1.,1.],[0.,0.,1.,1.]])\n",
    "A"
   ]
  },
  {
   "cell_type": "code",
   "execution_count": 23,
   "id": "edd7331c-69e2-40d6-a068-e5213774415e",
   "metadata": {
    "tags": []
   },
   "outputs": [
    {
     "data": {
      "text/plain": [
       "array([[1.],\n",
       "       [1.],\n",
       "       [1.],\n",
       "       [1.]])"
      ]
     },
     "execution_count": 23,
     "metadata": {},
     "output_type": "execute_result"
    }
   ],
   "source": [
    "x0 = np.array([[1.],[1.],[1.],[1.]])\n",
    "x0"
   ]
  },
  {
   "cell_type": "code",
   "execution_count": 24,
   "id": "1d6a3361-6367-45c2-9286-a943816db898",
   "metadata": {
    "tags": []
   },
   "outputs": [
    {
     "data": {
      "text/plain": [
       "array([[ 89.],\n",
       "       [144.],\n",
       "       [144.],\n",
       "       [ 89.]])"
      ]
     },
     "execution_count": 24,
     "metadata": {},
     "output_type": "execute_result"
    }
   ],
   "source": [
    "A@A@A@A@A@x0"
   ]
  },
  {
   "cell_type": "code",
   "execution_count": 25,
   "id": "1ff176f7-e840-417b-be24-15a76d6036a3",
   "metadata": {
    "tags": []
   },
   "outputs": [
    {
     "data": {
      "text/plain": [
       "array([-0.61803399+0.j,  0.38196601+0.j,  2.61803399+0.j,  1.61803399+0.j])"
      ]
     },
     "execution_count": 25,
     "metadata": {},
     "output_type": "execute_result"
    }
   ],
   "source": [
    "evals,evecs = la.eig(A)\n",
    "evals"
   ]
  },
  {
   "cell_type": "code",
   "execution_count": 26,
   "id": "84c384f1-a140-4a73-baed-fd59ce052bc5",
   "metadata": {
    "tags": []
   },
   "outputs": [
    {
     "data": {
      "text/plain": [
       "2.6176470588235294"
      ]
     },
     "execution_count": 26,
     "metadata": {},
     "output_type": "execute_result"
    }
   ],
   "source": [
    "89/34"
   ]
  },
  {
   "cell_type": "code",
   "execution_count": 27,
   "id": "f07dfbbf-9fbb-453b-a624-95689ee6d6c9",
   "metadata": {
    "tags": []
   },
   "outputs": [
    {
     "data": {
      "text/plain": [
       "array([[0.61803399],\n",
       "       [1.        ],\n",
       "       [1.        ],\n",
       "       [0.61803399]])"
      ]
     },
     "execution_count": 27,
     "metadata": {},
     "output_type": "execute_result"
    }
   ],
   "source": [
    "N = 10\n",
    "xk = np.array([[1.],[1.],[1.],[1.]])\n",
    "for k in range(N):\n",
    "    xk = A@xk\n",
    "    xk = xk/np.abs(np.max(xk))\n",
    "xk"
   ]
  },
  {
   "cell_type": "code",
   "execution_count": 28,
   "id": "037235b8-9603-4559-8a9b-4f22e6c7dcaf",
   "metadata": {
    "tags": []
   },
   "outputs": [
    {
     "data": {
      "text/plain": [
       "0.6180555555555556"
      ]
     },
     "execution_count": 28,
     "metadata": {},
     "output_type": "execute_result"
    }
   ],
   "source": [
    "89/144"
   ]
  }
 ],
 "metadata": {
  "kernelspec": {
   "display_name": "Python 3 (ipykernel)",
   "language": "python",
   "name": "python3"
  },
  "language_info": {
   "codemirror_mode": {
    "name": "ipython",
    "version": 3
   },
   "file_extension": ".py",
   "mimetype": "text/x-python",
   "name": "python",
   "nbconvert_exporter": "python",
   "pygments_lexer": "ipython3",
   "version": "3.10.12"
  }
 },
 "nbformat": 4,
 "nbformat_minor": 5
}
