{
 "cells": [
  {
   "cell_type": "markdown",
   "id": "4e07b8cd-d211-4873-b82e-da15c4046ea2",
   "metadata": {},
   "source": [
    "# MATH 210 Introduction to Mathematical Computing\n",
    "\n",
    "**January 15, 2024**\n",
    "\n",
    "* Variables\n",
    "* Variables Names and Reserved Words\n",
    "* Sequence Types\n",
    "* Builtin Functions for Sequences"
   ]
  },
  {
   "cell_type": "markdown",
   "id": "2554d7cc-d38d-4e08-bb34-f357c852aa68",
   "metadata": {},
   "source": [
    "## Variables"
   ]
  },
  {
   "cell_type": "markdown",
   "id": "47dfc796-e75f-42b2-9ce1-cac6e1428701",
   "metadata": {},
   "source": [
    "We use variables to easily create and modify expressions. We assign a value to a variable using the assignment operator `=`."
   ]
  },
  {
   "cell_type": "code",
   "execution_count": 1,
   "id": "cd9c7a62-dc8a-4b39-ad75-f7ecea32d6f5",
   "metadata": {},
   "outputs": [],
   "source": [
    "x = 42"
   ]
  },
  {
   "cell_type": "markdown",
   "id": "00b3bebf-cebf-4620-b908-470543ae5a11",
   "metadata": {},
   "source": [
    "Use the builtin function `print` to see the value assigned to a variable."
   ]
  },
  {
   "cell_type": "code",
   "execution_count": 2,
   "id": "2760613a-0baf-4121-a2d8-a8098f3775cb",
   "metadata": {},
   "outputs": [
    {
     "name": "stdout",
     "output_type": "stream",
     "text": [
      "42\n"
     ]
    }
   ],
   "source": [
    "print(x)"
   ]
  },
  {
   "cell_type": "markdown",
   "id": "5137fe2f-f17b-4763-958d-d69c4d733136",
   "metadata": {},
   "source": [
    "Use the builtin function `type` to see the type of the value."
   ]
  },
  {
   "cell_type": "code",
   "execution_count": 3,
   "id": "a9b77bf5-709f-4ca5-b20d-6aa8ab0e1d53",
   "metadata": {},
   "outputs": [
    {
     "data": {
      "text/plain": [
       "int"
      ]
     },
     "execution_count": 3,
     "metadata": {},
     "output_type": "execute_result"
    }
   ],
   "source": [
    "type(x)"
   ]
  },
  {
   "cell_type": "markdown",
   "id": "ddf0b03c-180b-427e-aafd-55176c450585",
   "metadata": {},
   "source": [
    "Then we can create expressions and easily change the values.\n",
    "\n",
    "For example, let's write a script that computes the norm of a vector $(x,y) \\in \\mathbb{R}^2$. In other words:\n",
    "\n",
    "$$\n",
    "\\| (x,y) \\| = \\sqrt{x^2 + y^2}\n",
    "$$"
   ]
  },
  {
   "cell_type": "code",
   "execution_count": 4,
   "id": "375fbb43-b85b-4bfd-819e-28f2ea08d9ee",
   "metadata": {},
   "outputs": [
    {
     "name": "stdout",
     "output_type": "stream",
     "text": [
      "2.23606797749979\n"
     ]
    }
   ],
   "source": [
    "x = 1\n",
    "y = 2\n",
    "norm = (x**2 + y**2)**0.5\n",
    "print(norm)"
   ]
  },
  {
   "cell_type": "markdown",
   "id": "34625ef2-7b1d-4d1f-80e0-c0b7847cce43",
   "metadata": {},
   "source": [
    "## Variables Names and Reserved Words\n",
    "\n",
    "We can use any combination of letters, numbers and underscores to create variable names. A variable name cannot begin with a number."
   ]
  },
  {
   "cell_type": "code",
   "execution_count": 5,
   "id": "abce2795-7ba5-4b2c-b89d-2b3e52d5b22c",
   "metadata": {},
   "outputs": [
    {
     "name": "stdout",
     "output_type": "stream",
     "text": [
      "0.1\n"
     ]
    }
   ],
   "source": [
    "alpha = 0.1\n",
    "print(alpha)"
   ]
  },
  {
   "cell_type": "code",
   "execution_count": 6,
   "id": "7e7266ac-cfaa-425a-878f-9e6b63b45db7",
   "metadata": {},
   "outputs": [
    {
     "name": "stdout",
     "output_type": "stream",
     "text": [
      "3.1415926535\n"
     ]
    }
   ],
   "source": [
    "pi = 3.1415926535\n",
    "print(pi)"
   ]
  },
  {
   "cell_type": "code",
   "execution_count": 7,
   "id": "e3106f5c-cd26-48ad-a6fc-dc2ad5febb63",
   "metadata": {},
   "outputs": [
    {
     "name": "stdout",
     "output_type": "stream",
     "text": [
      "53\n"
     ]
    }
   ],
   "source": [
    "sum_of_squares = 2**2 + 7**2\n",
    "print(sum_of_squares)"
   ]
  },
  {
   "cell_type": "markdown",
   "id": "4e8489b4-4890-48ed-90f4-e28c4f90ac33",
   "metadata": {},
   "source": [
    "There are reserved words that we cannot use as variable names because they have a special meaning such as `True`, `False`, `for`, ...\n",
    "\n",
    "Note that `lambda` is a reserved word but we can append a number at the end to use it as a variable name."
   ]
  },
  {
   "cell_type": "code",
   "execution_count": 8,
   "id": "144f371f-4757-496a-a978-8e9b63718042",
   "metadata": {},
   "outputs": [],
   "source": [
    "lambda1 = 1\n",
    "lambda2 = 5"
   ]
  },
  {
   "cell_type": "markdown",
   "id": "b32471cd-016c-465b-b5ef-f1c1628acbf1",
   "metadata": {},
   "source": [
    "## Sequence Types"
   ]
  },
  {
   "cell_type": "markdown",
   "id": "fa87aa8e-da90-4534-87c8-cb4171a85ee9",
   "metadata": {},
   "source": [
    "There are 3 main sequence types: list, tuples and range objects.\n",
    "\n",
    "Create a list using square brackets `[a,b,c]` with entries separated by commas."
   ]
  },
  {
   "cell_type": "code",
   "execution_count": 9,
   "id": "b70d1bda-353c-48fd-8d43-32ef56c928c5",
   "metadata": {},
   "outputs": [],
   "source": [
    "primes = [2,3,5,7,11,13,17,19]"
   ]
  },
  {
   "cell_type": "code",
   "execution_count": 10,
   "id": "d7cd36f2-4fcf-4b40-93a0-4296a4daae28",
   "metadata": {},
   "outputs": [
    {
     "name": "stdout",
     "output_type": "stream",
     "text": [
      "[2, 3, 5, 7, 11, 13, 17, 19]\n"
     ]
    }
   ],
   "source": [
    "print(primes)"
   ]
  },
  {
   "cell_type": "code",
   "execution_count": 11,
   "id": "54356381-b770-43d6-8144-d27db6435e41",
   "metadata": {},
   "outputs": [
    {
     "data": {
      "text/plain": [
       "list"
      ]
     },
     "execution_count": 11,
     "metadata": {},
     "output_type": "execute_result"
    }
   ],
   "source": [
    "type(primes)"
   ]
  },
  {
   "cell_type": "markdown",
   "id": "61b5924f-666d-42d7-b6ea-9175f0e52bfd",
   "metadata": {},
   "source": [
    "Access the entries in a list using syntax `varname[i]` where integer `i` is an index. Note that Python sequences start at index 0."
   ]
  },
  {
   "cell_type": "code",
   "execution_count": 12,
   "id": "57440a30-2edc-4765-8e05-b375e7534c7f",
   "metadata": {},
   "outputs": [
    {
     "data": {
      "text/plain": [
       "2"
      ]
     },
     "execution_count": 12,
     "metadata": {},
     "output_type": "execute_result"
    }
   ],
   "source": [
    "primes[0]"
   ]
  },
  {
   "cell_type": "code",
   "execution_count": 13,
   "id": "a7af2703-56f3-4393-9c84-20212d437be2",
   "metadata": {},
   "outputs": [
    {
     "data": {
      "text/plain": [
       "3"
      ]
     },
     "execution_count": 13,
     "metadata": {},
     "output_type": "execute_result"
    }
   ],
   "source": [
    "primes[1]"
   ]
  },
  {
   "cell_type": "code",
   "execution_count": 14,
   "id": "9dfa56c7-f103-4f35-8f15-20a8909e4951",
   "metadata": {},
   "outputs": [
    {
     "data": {
      "text/plain": [
       "17"
      ]
     },
     "execution_count": 14,
     "metadata": {},
     "output_type": "execute_result"
    }
   ],
   "source": [
    "primes[6]"
   ]
  },
  {
   "cell_type": "markdown",
   "id": "e257ccb9-7eed-4fa5-8a00-b00d2618a703",
   "metadata": {},
   "source": [
    "Create a tuple using parentheses `(a,b,c)`."
   ]
  },
  {
   "cell_type": "code",
   "execution_count": 15,
   "id": "39ec9b3b-8cad-4832-8e6d-b00416c6107c",
   "metadata": {},
   "outputs": [],
   "source": [
    "date = (2024,1,15)"
   ]
  },
  {
   "cell_type": "code",
   "execution_count": 16,
   "id": "0efb075d-061d-4e27-9354-272306a3bb21",
   "metadata": {},
   "outputs": [
    {
     "data": {
      "text/plain": [
       "1"
      ]
     },
     "execution_count": 16,
     "metadata": {},
     "output_type": "execute_result"
    }
   ],
   "source": [
    "date[1]"
   ]
  },
  {
   "cell_type": "code",
   "execution_count": 17,
   "id": "a974cb2d-4c6d-4359-9a76-0082d1894246",
   "metadata": {},
   "outputs": [
    {
     "data": {
      "text/plain": [
       "tuple"
      ]
     },
     "execution_count": 17,
     "metadata": {},
     "output_type": "execute_result"
    }
   ],
   "source": [
    "type(date)"
   ]
  },
  {
   "cell_type": "markdown",
   "id": "6f90a5f5-0b4d-427c-a929-4c624ba3db73",
   "metadata": {},
   "source": [
    "The main difference betweens lists and tuples is that we can change the values in a list but not in a tuple."
   ]
  },
  {
   "cell_type": "code",
   "execution_count": 18,
   "id": "95d63c28-f043-41f8-afec-cb2238c2fbf1",
   "metadata": {},
   "outputs": [],
   "source": [
    "primes[0] = -1"
   ]
  },
  {
   "cell_type": "code",
   "execution_count": 19,
   "id": "f602f971-2e04-4b87-8153-6d209ae19e5a",
   "metadata": {},
   "outputs": [
    {
     "data": {
      "text/plain": [
       "[-1, 3, 5, 7, 11, 13, 17, 19]"
      ]
     },
     "execution_count": 19,
     "metadata": {},
     "output_type": "execute_result"
    }
   ],
   "source": [
    "primes"
   ]
  },
  {
   "cell_type": "code",
   "execution_count": 20,
   "id": "a1e2b0bd-4565-4881-8d5f-3d753f333529",
   "metadata": {},
   "outputs": [
    {
     "ename": "TypeError",
     "evalue": "'tuple' object does not support item assignment",
     "output_type": "error",
     "traceback": [
      "\u001b[0;31m---------------------------------------------------------------------------\u001b[0m",
      "\u001b[0;31mTypeError\u001b[0m                                 Traceback (most recent call last)",
      "Cell \u001b[0;32mIn[20], line 1\u001b[0m\n\u001b[0;32m----> 1\u001b[0m \u001b[43mdate\u001b[49m\u001b[43m[\u001b[49m\u001b[38;5;241;43m0\u001b[39;49m\u001b[43m]\u001b[49m \u001b[38;5;241m=\u001b[39m \u001b[38;5;241m1989\u001b[39m\n",
      "\u001b[0;31mTypeError\u001b[0m: 'tuple' object does not support item assignment"
     ]
    }
   ],
   "source": [
    "date[0] = 1989"
   ]
  },
  {
   "cell_type": "markdown",
   "id": "e0c505b3-5dd9-47c0-87d3-3d717305a74e",
   "metadata": {},
   "source": [
    "Create a range object with the syntax `range(a,b,step)`. A range object represents the sequence of integers from `a` to `b` (not including `b`) incremented by `step`."
   ]
  },
  {
   "cell_type": "code",
   "execution_count": 21,
   "id": "b47e03c2-fa51-4339-abad-3e5722ed6305",
   "metadata": {},
   "outputs": [],
   "source": [
    "integers = range(0,10,2)"
   ]
  },
  {
   "cell_type": "code",
   "execution_count": 22,
   "id": "84a2c1de-726d-45e0-976f-cf7e2b4e3cea",
   "metadata": {},
   "outputs": [
    {
     "name": "stdout",
     "output_type": "stream",
     "text": [
      "range(0, 10, 2)\n"
     ]
    }
   ],
   "source": [
    "print(integers)"
   ]
  },
  {
   "cell_type": "markdown",
   "id": "cae2dfec-7b5e-4f62-bbf9-5e298e07ac51",
   "metadata": {},
   "source": [
    "A range object does not create and store in memory all of its entries. It only returns the entries when you ask for it."
   ]
  },
  {
   "cell_type": "code",
   "execution_count": 23,
   "id": "5b0c3284-1adf-4a0f-9c2d-f2ff0db62120",
   "metadata": {},
   "outputs": [
    {
     "data": {
      "text/plain": [
       "6"
      ]
     },
     "execution_count": 23,
     "metadata": {},
     "output_type": "execute_result"
    }
   ],
   "source": [
    "integers[3]"
   ]
  },
  {
   "cell_type": "code",
   "execution_count": 24,
   "id": "edcfdfe1-ff6c-486f-835a-09ca8f363d12",
   "metadata": {},
   "outputs": [
    {
     "name": "stdout",
     "output_type": "stream",
     "text": [
      "0\n",
      "2\n",
      "4\n",
      "6\n",
      "8\n"
     ]
    }
   ],
   "source": [
    "for i in integers:\n",
    "    print(i)"
   ]
  },
  {
   "cell_type": "markdown",
   "id": "5fbd711d-8b51-4941-829a-4a3b662f2cab",
   "metadata": {},
   "source": [
    "Use the function `list` to convert a range object to a list."
   ]
  },
  {
   "cell_type": "code",
   "execution_count": 25,
   "id": "502320a6-8e29-41c3-a279-fe25949760c2",
   "metadata": {},
   "outputs": [
    {
     "name": "stdout",
     "output_type": "stream",
     "text": [
      "[1, 3, 5, 7, 9]\n"
     ]
    }
   ],
   "source": [
    "integers = list(range(1,11,2))\n",
    "print(integers)"
   ]
  },
  {
   "cell_type": "markdown",
   "id": "0fbf061c-04c6-46cd-b1ad-ca256bbf47fb",
   "metadata": {},
   "source": [
    "We use range objects in loops for iteration so that we use index `i` at each iteration just one at a time without having to create and save in memory all the index values from `a` to `b`."
   ]
  },
  {
   "cell_type": "markdown",
   "id": "42a70fa4-0ad3-4589-8667-b54123f25734",
   "metadata": {},
   "source": [
    "Why does `range(a,b)` not include `b`? It's a design decision that the inventor of Python made so that the number of entries in `range(a,b)` is `b-a`."
   ]
  },
  {
   "cell_type": "code",
   "execution_count": 26,
   "id": "ab13e27a-783e-4874-b776-e4fe18d148e6",
   "metadata": {},
   "outputs": [
    {
     "data": {
      "text/plain": [
       "[1, 2, 3, 4, 5]"
      ]
     },
     "execution_count": 26,
     "metadata": {},
     "output_type": "execute_result"
    }
   ],
   "source": [
    "list(range(1,6))"
   ]
  },
  {
   "cell_type": "markdown",
   "id": "34574726-ef6b-4f43-ba3c-65c68379fec8",
   "metadata": {},
   "source": [
    "## Builtin Functions for Sequences"
   ]
  },
  {
   "cell_type": "markdown",
   "id": "7a51939b-473b-434e-bf50-bc7e04a5b918",
   "metadata": {},
   "source": [
    "Add the entries in a sequence with the `sum` function."
   ]
  },
  {
   "cell_type": "code",
   "execution_count": 27,
   "id": "74730e97-a4ca-4b16-8554-a2ea94b2cc7a",
   "metadata": {},
   "outputs": [
    {
     "data": {
      "text/plain": [
       "36"
      ]
     },
     "execution_count": 27,
     "metadata": {},
     "output_type": "execute_result"
    }
   ],
   "source": [
    "sum([1,2,3,4,5,6,7,8])"
   ]
  },
  {
   "cell_type": "code",
   "execution_count": 28,
   "id": "3d313272-1c05-43a5-bea2-21e7bede820e",
   "metadata": {},
   "outputs": [
    {
     "data": {
      "text/plain": [
       "36"
      ]
     },
     "execution_count": 28,
     "metadata": {},
     "output_type": "execute_result"
    }
   ],
   "source": [
    "sum(range(1,9))"
   ]
  },
  {
   "cell_type": "code",
   "execution_count": 29,
   "id": "f4640d06-416e-4242-b5eb-802bebda2f96",
   "metadata": {},
   "outputs": [
    {
     "data": {
      "text/plain": [
       "500500"
      ]
     },
     "execution_count": 29,
     "metadata": {},
     "output_type": "execute_result"
    }
   ],
   "source": [
    "sum(range(1,1001))"
   ]
  },
  {
   "cell_type": "code",
   "execution_count": 30,
   "id": "f01bb5e2-9b88-4f20-9967-d199f94def52",
   "metadata": {},
   "outputs": [
    {
     "data": {
      "text/plain": [
       "500000500000"
      ]
     },
     "execution_count": 30,
     "metadata": {},
     "output_type": "execute_result"
    }
   ],
   "source": [
    "N = 1000000\n",
    "sum(range(1,N+1))"
   ]
  },
  {
   "cell_type": "code",
   "execution_count": 31,
   "id": "ec73bde7-6d83-4d23-afe7-38a835646fe5",
   "metadata": {},
   "outputs": [
    {
     "data": {
      "text/plain": [
       "500000500000.0"
      ]
     },
     "execution_count": 31,
     "metadata": {},
     "output_type": "execute_result"
    }
   ],
   "source": [
    "N*(N+1)/2"
   ]
  },
  {
   "cell_type": "code",
   "execution_count": 32,
   "id": "ab5bbd41-1d54-4fdf-adbe-13586af9ff1b",
   "metadata": {},
   "outputs": [
    {
     "data": {
      "text/plain": [
       "456"
      ]
     },
     "execution_count": 32,
     "metadata": {},
     "output_type": "execute_result"
    }
   ],
   "source": [
    "max([7,34,12,456])"
   ]
  },
  {
   "cell_type": "code",
   "execution_count": 33,
   "id": "646220e9-5f31-4804-b00b-46b122729dc3",
   "metadata": {},
   "outputs": [
    {
     "data": {
      "text/plain": [
       "7"
      ]
     },
     "execution_count": 33,
     "metadata": {},
     "output_type": "execute_result"
    }
   ],
   "source": [
    "min([7,34,12,456])"
   ]
  },
  {
   "cell_type": "code",
   "execution_count": 34,
   "id": "060cff5e-1abb-464a-ab53-d368fd6314dc",
   "metadata": {},
   "outputs": [
    {
     "data": {
      "text/plain": [
       "4"
      ]
     },
     "execution_count": 34,
     "metadata": {},
     "output_type": "execute_result"
    }
   ],
   "source": [
    "len([7,34,12,456])"
   ]
  }
 ],
 "metadata": {
  "kernelspec": {
   "display_name": "Python 3 (ipykernel)",
   "language": "python",
   "name": "python3"
  },
  "language_info": {
   "codemirror_mode": {
    "name": "ipython",
    "version": 3
   },
   "file_extension": ".py",
   "mimetype": "text/x-python",
   "name": "python",
   "nbconvert_exporter": "python",
   "pygments_lexer": "ipython3",
   "version": "3.11.6"
  }
 },
 "nbformat": 4,
 "nbformat_minor": 5
}
