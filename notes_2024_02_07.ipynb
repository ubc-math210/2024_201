{
 "cells": [
  {
   "cell_type": "markdown",
   "id": "e73cb149-6260-48b4-8b83-fa84597287a2",
   "metadata": {},
   "source": [
    "# MATH 210 Introduction to Mathematical Computing"
   ]
  },
  {
   "cell_type": "markdown",
   "id": "fde129e4-dd6b-410f-abd7-a81c4ee7dceb",
   "metadata": {},
   "source": [
    "## Example\n",
    "\n",
    "Find all roots of $f(x) = x^5 - 2x^3 - 2$."
   ]
  },
  {
   "cell_type": "code",
   "execution_count": 1,
   "id": "7338d469-76f0-4894-9c26-e6f52a043532",
   "metadata": {},
   "outputs": [],
   "source": [
    "def newton(f,df,x0,N):\n",
    "    xn = x0\n",
    "    for n in range(N):\n",
    "        xn = xn - f(xn)/df(xn)\n",
    "    return xn"
   ]
  },
  {
   "cell_type": "code",
   "execution_count": 2,
   "id": "2650e452-0421-4254-9a1c-1702174c2d6f",
   "metadata": {},
   "outputs": [
    {
     "name": "stdout",
     "output_type": "stream",
     "text": [
      "1.5825858142444296\n"
     ]
    }
   ],
   "source": [
    "f = lambda x: x**5 - 2*x**3 - 2\n",
    "df = lambda x: 5*x**4 - 6*x**2\n",
    "x0 = 1.5\n",
    "N = 6\n",
    "root = newton(f,df,x0,N)\n",
    "print(root)"
   ]
  },
  {
   "cell_type": "markdown",
   "id": "14e8216a-eca3-4295-a8e9-36a57b71c3a4",
   "metadata": {},
   "source": [
    "## Example\n",
    "\n",
    "Find all roots of $f(x) = \\frac{x^3 - x - 1}{x^2 + 1}$."
   ]
  },
  {
   "cell_type": "code",
   "execution_count": 3,
   "id": "d2417074-0294-4456-b3e5-7d878b1a1905",
   "metadata": {},
   "outputs": [
    {
     "name": "stdout",
     "output_type": "stream",
     "text": [
      "1.324717957244746\n"
     ]
    }
   ],
   "source": [
    "f = lambda x: x**3 - x - 1\n",
    "df = lambda x: 3*x**2 - 1\n",
    "x0 = 1.5\n",
    "N = 10\n",
    "root = newton(f,df,x0,N)\n",
    "print(root)"
   ]
  }
 ],
 "metadata": {
  "kernelspec": {
   "display_name": "Python 3 (ipykernel)",
   "language": "python",
   "name": "python3"
  },
  "language_info": {
   "codemirror_mode": {
    "name": "ipython",
    "version": 3
   },
   "file_extension": ".py",
   "mimetype": "text/x-python",
   "name": "python",
   "nbconvert_exporter": "python",
   "pygments_lexer": "ipython3",
   "version": "3.11.6"
  }
 },
 "nbformat": 4,
 "nbformat_minor": 5
}
