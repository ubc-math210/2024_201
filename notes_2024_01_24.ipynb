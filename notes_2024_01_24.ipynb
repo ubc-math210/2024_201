{
 "cells": [
  {
   "cell_type": "markdown",
   "id": "54539b3d-b9e2-4234-9369-e007e487091a",
   "metadata": {},
   "source": [
    "# MATH 210 Introduction to Mathematical Computing\n",
    "\n",
    "**January 24, 2024**\n",
    "\n",
    "* Boolean values\n",
    "* Comparison operators\n",
    "* Boolean operators\n",
    "* if statements\n",
    "* Example: Polynomial differentiation function"
   ]
  },
  {
   "cell_type": "markdown",
   "id": "ee8f8e3a-7cd9-45cb-a032-77c6cf067787",
   "metadata": {},
   "source": [
    "## Boolean values\n",
    "\n",
    "There are 2 boolean values: `True` and `False`."
   ]
  },
  {
   "cell_type": "code",
   "execution_count": 1,
   "id": "0c42478b-e06f-4614-8e72-bde177ffd144",
   "metadata": {},
   "outputs": [],
   "source": [
    "math_is_awesome = True"
   ]
  },
  {
   "cell_type": "code",
   "execution_count": 2,
   "id": "0e1efc20-2f82-4f36-a03a-27f949394ee9",
   "metadata": {},
   "outputs": [
    {
     "name": "stdout",
     "output_type": "stream",
     "text": [
      "True\n"
     ]
    }
   ],
   "source": [
    "print(math_is_awesome)"
   ]
  },
  {
   "cell_type": "code",
   "execution_count": 3,
   "id": "68473bdf-ddc3-4fb6-85a3-d95f17aad7da",
   "metadata": {},
   "outputs": [
    {
     "data": {
      "text/plain": [
       "bool"
      ]
     },
     "execution_count": 3,
     "metadata": {},
     "output_type": "execute_result"
    }
   ],
   "source": [
    "type(math_is_awesome)"
   ]
  },
  {
   "cell_type": "code",
   "execution_count": 4,
   "id": "28f830f1-d910-4830-9454-8ba1737b949c",
   "metadata": {},
   "outputs": [],
   "source": [
    "vancouver_is_sunny = False"
   ]
  },
  {
   "cell_type": "code",
   "execution_count": 5,
   "id": "2c718028-cdfc-40bd-a8cb-4b7736bb5cf4",
   "metadata": {},
   "outputs": [
    {
     "data": {
      "text/plain": [
       "bool"
      ]
     },
     "execution_count": 5,
     "metadata": {},
     "output_type": "execute_result"
    }
   ],
   "source": [
    "type(vancouver_is_sunny)"
   ]
  },
  {
   "cell_type": "code",
   "execution_count": 6,
   "id": "2cf31232-3ae5-4ff2-971c-301d39351097",
   "metadata": {},
   "outputs": [
    {
     "name": "stdout",
     "output_type": "stream",
     "text": [
      "False\n"
     ]
    }
   ],
   "source": [
    "print(vancouver_is_sunny)"
   ]
  },
  {
   "cell_type": "markdown",
   "id": "b8bc815a-baf1-4a8d-9ee8-baec72ed2213",
   "metadata": {},
   "source": [
    "## Comparison operators"
   ]
  },
  {
   "cell_type": "code",
   "execution_count": 7,
   "id": "2cdf7f11-dce2-4286-8d86-39834c6d9b14",
   "metadata": {},
   "outputs": [
    {
     "data": {
      "text/plain": [
       "True"
      ]
     },
     "execution_count": 7,
     "metadata": {},
     "output_type": "execute_result"
    }
   ],
   "source": [
    "1 < 2"
   ]
  },
  {
   "cell_type": "code",
   "execution_count": 8,
   "id": "10197c69-1e82-4bda-8daa-bbc02130168c",
   "metadata": {},
   "outputs": [
    {
     "data": {
      "text/plain": [
       "True"
      ]
     },
     "execution_count": 8,
     "metadata": {},
     "output_type": "execute_result"
    }
   ],
   "source": [
    "3.13 > 3"
   ]
  },
  {
   "cell_type": "code",
   "execution_count": 9,
   "id": "fef1a138-6707-4e77-8c24-9ec39e6331ee",
   "metadata": {},
   "outputs": [
    {
     "data": {
      "text/plain": [
       "True"
      ]
     },
     "execution_count": 9,
     "metadata": {},
     "output_type": "execute_result"
    }
   ],
   "source": [
    "2 == 1 + 1"
   ]
  },
  {
   "cell_type": "code",
   "execution_count": 10,
   "id": "334de386-cd24-476f-897a-5600409d3fe8",
   "metadata": {},
   "outputs": [
    {
     "data": {
      "text/plain": [
       "False"
      ]
     },
     "execution_count": 10,
     "metadata": {},
     "output_type": "execute_result"
    }
   ],
   "source": [
    "2 + 2 == 5"
   ]
  },
  {
   "cell_type": "markdown",
   "id": "062325ab-cfac-4fc5-ad01-6e1476c17dcf",
   "metadata": {},
   "source": [
    "It's usually a bad idea to use `==` when comparing floats because there are always rounding errors in floating point arithmetic and we get unexpected results:"
   ]
  },
  {
   "cell_type": "code",
   "execution_count": 11,
   "id": "21db5667-40b6-46e0-b160-5b87d11fd8ee",
   "metadata": {},
   "outputs": [
    {
     "data": {
      "text/plain": [
       "False"
      ]
     },
     "execution_count": 11,
     "metadata": {},
     "output_type": "execute_result"
    }
   ],
   "source": [
    "0.3 == 0.1 + 0.2"
   ]
  },
  {
   "cell_type": "markdown",
   "id": "97b385d1-c8e8-4304-813d-07ef39968e32",
   "metadata": {},
   "source": [
    "Use `<` or `>` comparisons with a tolerance (close enough!)."
   ]
  },
  {
   "cell_type": "code",
   "execution_count": 12,
   "id": "e14fb434-af5f-401e-ab71-c56896aea783",
   "metadata": {},
   "outputs": [
    {
     "data": {
      "text/plain": [
       "True"
      ]
     },
     "execution_count": 12,
     "metadata": {},
     "output_type": "execute_result"
    }
   ],
   "source": [
    "x = 0.1 + 0.2\n",
    "y = 0.3\n",
    "abs(x - y) < 1e-15"
   ]
  },
  {
   "cell_type": "markdown",
   "id": "c461266f-24b2-45a0-b500-8c0b5f84d8a2",
   "metadata": {},
   "source": [
    "## Boolean operators\n",
    "\n",
    "Combine comparison operators with boolean operators: `and`, `or` and `not`."
   ]
  },
  {
   "cell_type": "code",
   "execution_count": 13,
   "id": "f565b472-87f6-4e5b-a38e-51ec51de073e",
   "metadata": {},
   "outputs": [
    {
     "data": {
      "text/plain": [
       "True"
      ]
     },
     "execution_count": 13,
     "metadata": {},
     "output_type": "execute_result"
    }
   ],
   "source": [
    "(1 < 2) and (3 < 3.14)"
   ]
  },
  {
   "cell_type": "code",
   "execution_count": 14,
   "id": "211a3a1b-7b78-4702-8550-b2efdf3d6f57",
   "metadata": {},
   "outputs": [
    {
     "data": {
      "text/plain": [
       "False"
      ]
     },
     "execution_count": 14,
     "metadata": {},
     "output_type": "execute_result"
    }
   ],
   "source": [
    "(1 < 2) and (3 > 3.14)"
   ]
  },
  {
   "cell_type": "code",
   "execution_count": 15,
   "id": "76e87e18-b0aa-4550-8ac3-a5cc3ec995e5",
   "metadata": {},
   "outputs": [
    {
     "data": {
      "text/plain": [
       "True"
      ]
     },
     "execution_count": 15,
     "metadata": {},
     "output_type": "execute_result"
    }
   ],
   "source": [
    "(1 < 2) or (3 < 3.14)"
   ]
  },
  {
   "cell_type": "code",
   "execution_count": 16,
   "id": "22d73b29-dce6-41d2-94d2-2bcf8525f471",
   "metadata": {},
   "outputs": [
    {
     "data": {
      "text/plain": [
       "True"
      ]
     },
     "execution_count": 16,
     "metadata": {},
     "output_type": "execute_result"
    }
   ],
   "source": [
    "(1 < 2) or (3 > 3.14)"
   ]
  },
  {
   "cell_type": "markdown",
   "id": "4ff50442-2c0d-485e-9436-9c542fb09687",
   "metadata": {},
   "source": [
    "## `if` statements\n",
    "\n",
    "`if` statements allow us to write programs that execute different blocks of code depending on values of certain variables. The syntax is:\n",
    "\n",
    "```python\n",
    "if (boolean_value_1):\n",
    "    # Python code block 1\n",
    "    # Python code block 1\n",
    "elif (boolean_value_2):\n",
    "    # Python code block 2\n",
    "    # Python code block 2\n",
    "elif (boolean_value_3):\n",
    "    # Python code block 3\n",
    "    # Python code block 3\n",
    "else:\n",
    "    # Python code block 4\n",
    "    # Python code block 4\n",
    "```"
   ]
  },
  {
   "cell_type": "markdown",
   "id": "1b8d8782-8341-4dfa-9a82-22d63ea8a842",
   "metadata": {},
   "source": [
    "Make some observations:\n",
    "\n",
    "* starts with `if` statement (other `elif` and `else` are optional)\n",
    "* each `if`, `elif` and `else` statements end with a colon `:`\n",
    "* each block is indented 4 spaces\n",
    "* only one block of code will run\n",
    "* the block of code that runs corresponds to the first True boolean value"
   ]
  },
  {
   "cell_type": "markdown",
   "id": "c583773c-8431-4a13-9f21-3ddd1e7057b2",
   "metadata": {},
   "source": [
    "Write a program which prints the kind of roots of the quadratic polynomial $p(x) = ax^2 + bx + c$:\n",
    "\n",
    "* $D = b^2 - 4ac$\n",
    "* roots are real and distinct if $D > 0$\n",
    "* roots are complex if $D < 0$\n",
    "* roots are real repeated if $D = 0$"
   ]
  },
  {
   "cell_type": "code",
   "execution_count": 17,
   "id": "cfeabc24-e057-46a2-9406-bcbdf85fb4e5",
   "metadata": {},
   "outputs": [
    {
     "name": "stdout",
     "output_type": "stream",
     "text": [
      "Roots are real and repeated.\n",
      "Done!\n"
     ]
    }
   ],
   "source": [
    "a = 1\n",
    "b = 2\n",
    "c = 1\n",
    "D = b**2 - 4*a*c\n",
    "\n",
    "if D > 0:\n",
    "    print('Roots are real and distinct.')\n",
    "elif D < 0:\n",
    "    print('Roots are complex.')\n",
    "else:\n",
    "    print('Roots are real and repeated.')\n",
    "\n",
    "print('Done!')"
   ]
  },
  {
   "cell_type": "markdown",
   "id": "c56c6f21-4265-44fc-8428-87e442b5f382",
   "metadata": {},
   "source": [
    "## Polynomial Differentiation Function\n",
    "\n",
    "Write a function called `poly_diff` which takes input parameter `p` (list of numbers which represents a polynomial $p(x)$) and returns the list of coefficients of the derivative $p'(x)$."
   ]
  },
  {
   "cell_type": "code",
   "execution_count": 18,
   "id": "41f75d21-e0b1-4f8a-8dfd-399d1c21d55f",
   "metadata": {},
   "outputs": [],
   "source": [
    "def poly_diff(p):\n",
    "    if len(p) > 1:\n",
    "        # p = [c0,c1,c2,...,cd]\n",
    "        # p(x) = c0 + c1*x + c2*x**2 + ... + cd*x**d\n",
    "        # ck = p[k]\n",
    "        # p'(x) = c1 + 2*c2*x + ... + d*cd*x**(d-1)\n",
    "        # dp = [1*c1,2*c2,3*c3,...,d*cd]\n",
    "        dp = [n*p[n] for n in range(1,len(p))]\n",
    "    else:\n",
    "        dp = [0]\n",
    "    return dp"
   ]
  },
  {
   "cell_type": "code",
   "execution_count": 19,
   "id": "7bfa9928-622b-42fe-9e82-265853344dfd",
   "metadata": {},
   "outputs": [],
   "source": [
    "def poly_diff(p):\n",
    "    if len(p) > 1:\n",
    "        dp = [n*p[n] for n in range(1,len(p))]\n",
    "    else:\n",
    "        dp = [0]\n",
    "    return dp"
   ]
  },
  {
   "cell_type": "code",
   "execution_count": 20,
   "id": "3d8c6a76-7ccb-42c4-8580-add67bc9b75d",
   "metadata": {},
   "outputs": [
    {
     "data": {
      "text/plain": [
       "[1, 2]"
      ]
     },
     "execution_count": 20,
     "metadata": {},
     "output_type": "execute_result"
    }
   ],
   "source": [
    "poly_diff([1,1,1]) # Should return [1,2]"
   ]
  },
  {
   "cell_type": "code",
   "execution_count": 21,
   "id": "33c9011a-1253-40f6-9972-3300e3b05bb6",
   "metadata": {},
   "outputs": [
    {
     "data": {
      "text/plain": [
       "[-1, 2, -3, 4, -5, 6]"
      ]
     },
     "execution_count": 21,
     "metadata": {},
     "output_type": "execute_result"
    }
   ],
   "source": [
    "# p = [1,-1,1,-1,1,-1,1]\n",
    "# p(x) = 1 - x + x^2 - x^3 + x^4 - x^5 + x^6\n",
    "poly_diff([1,-1,1,-1,1,-1,1]) # Should return [-1,2,-3,4,-5,6]"
   ]
  },
  {
   "cell_type": "code",
   "execution_count": 22,
   "id": "29940a50-b96f-49eb-9f8c-2687f981fb5f",
   "metadata": {},
   "outputs": [
    {
     "data": {
      "text/plain": [
       "[1, 0, 0, 0, 5]"
      ]
     },
     "execution_count": 22,
     "metadata": {},
     "output_type": "execute_result"
    }
   ],
   "source": [
    "poly_diff([1,1,0,0,0,1]) # Should return [1,0,0,0,5]"
   ]
  },
  {
   "cell_type": "code",
   "execution_count": 23,
   "id": "45dfae61-79f9-470d-8704-d7a1a8096d4b",
   "metadata": {},
   "outputs": [
    {
     "data": {
      "text/plain": [
       "[0]"
      ]
     },
     "execution_count": 23,
     "metadata": {},
     "output_type": "execute_result"
    }
   ],
   "source": [
    "poly_diff([1]) # Should return [0]"
   ]
  }
 ],
 "metadata": {
  "kernelspec": {
   "display_name": "Python 3 (ipykernel)",
   "language": "python",
   "name": "python3"
  },
  "language_info": {
   "codemirror_mode": {
    "name": "ipython",
    "version": 3
   },
   "file_extension": ".py",
   "mimetype": "text/x-python",
   "name": "python",
   "nbconvert_exporter": "python",
   "pygments_lexer": "ipython3",
   "version": "3.11.6"
  }
 },
 "nbformat": 4,
 "nbformat_minor": 5
}
