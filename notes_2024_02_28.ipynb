{
 "cells": [
  {
   "cell_type": "markdown",
   "id": "7ecb6eff-cc58-40b2-b8d8-67f00423804c",
   "metadata": {},
   "source": [
    "# MATH 210 Introduction to Mathematical Computing\n",
    "\n",
    "**February 28, 2024**"
   ]
  },
  {
   "cell_type": "code",
   "execution_count": 5,
   "id": "bb9c0c8b-5024-482b-90b0-38529d886882",
   "metadata": {
    "tags": []
   },
   "outputs": [],
   "source": [
    "import numpy as np"
   ]
  },
  {
   "cell_type": "markdown",
   "id": "227081ce-7f86-4b63-a647-f1a52744fa96",
   "metadata": {},
   "source": [
    "## Error Formula for Riemann Sums\n",
    "\n",
    "$$\n",
    "\\left| \\int_a^b f(x)dx - L_N(f) \\right| \\leq \\frac{(b - a)^2}{2N} K_1\n",
    "$$\n",
    "\n",
    "where $|f'(x)| \\leq K_1$ for $x \\in [a,b]$."
   ]
  },
  {
   "cell_type": "markdown",
   "id": "5afcdc95-42bd-42f1-8872-5ff3d6411c8a",
   "metadata": {},
   "source": [
    "Find $N$ such that $E_N^L \\leq 0.01$. We found $N = 197$."
   ]
  },
  {
   "cell_type": "code",
   "execution_count": 6,
   "id": "71f4246b-e2dd-47f2-8d65-948a845ec29c",
   "metadata": {
    "tags": []
   },
   "outputs": [
    {
     "name": "stdout",
     "output_type": "stream",
     "text": [
      "0.5460953849178735\n"
     ]
    }
   ],
   "source": [
    "f = lambda x: np.sin(x**2)\n",
    "a = 0\n",
    "b = np.sqrt(np.pi/2)\n",
    "N = 197\n",
    "dx = (b - a)/N\n",
    "\n",
    "x = np.linspace(a,b,N+1)\n",
    "y = f(x)\n",
    "\n",
    "L = np.sum(y[:-1])*dx\n",
    "print(L)"
   ]
  }
 ],
 "metadata": {
  "kernelspec": {
   "display_name": "Python 3 (ipykernel)",
   "language": "python",
   "name": "python3"
  },
  "language_info": {
   "codemirror_mode": {
    "name": "ipython",
    "version": 3
   },
   "file_extension": ".py",
   "mimetype": "text/x-python",
   "name": "python",
   "nbconvert_exporter": "python",
   "pygments_lexer": "ipython3",
   "version": "3.10.12"
  }
 },
 "nbformat": 4,
 "nbformat_minor": 5
}
